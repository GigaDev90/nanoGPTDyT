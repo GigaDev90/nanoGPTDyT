{
 "cells": [
  {
   "cell_type": "markdown",
   "id": "1fc5d004-5e6f-4bb3-938e-fb44f919cec3",
   "metadata": {},
   "source": [
    "# `nanoGPT`"
   ]
  },
  {
   "cell_type": "markdown",
   "id": "bd994b32-ca5f-4e00-81d3-89dbbf7b2093",
   "metadata": {},
   "source": [
    "## Install / Setup"
   ]
  },
  {
   "cell_type": "markdown",
   "id": "71c38d27-5acb-4e5d-87c8-dbb2739cf277",
   "metadata": {},
   "source": [
    "### First Time Running\n",
    "\n",
    "We need to install `ngpt` and setup the Shakespeare dataset\n",
    "\n",
    "This will need to be ran the first time you are running this notebook.\n",
    "\n",
    "Following the\n",
    "\n",
    "```python\n",
    "!python3 -m pip install nanoGPT\n",
    "```\n",
    "\n",
    "you will need to restart your runtime (Runtime -> Restart runtime)\n",
    "\n",
    "After this, you should be able to\n",
    "\n",
    "```python\n",
    ">>> import ngpt\n",
    ">>> ngpt.__file__\n",
    "'/content/nanoGPT/src/ngpt/__init__.py'\n",
    "```"
   ]
  },
  {
   "cell_type": "code",
   "execution_count": 10,
   "id": "ea233681-405f-4754-a394-e8e6c57080df",
   "metadata": {
    "execution": {
     "iopub.execute_input": "2023-11-10T23:28:09.876645Z",
     "iopub.status.busy": "2023-11-10T23:28:09.876362Z",
     "iopub.status.idle": "2023-11-10T23:28:10.086369Z",
     "shell.execute_reply": "2023-11-10T23:28:10.086033Z",
     "shell.execute_reply.started": "2023-11-10T23:28:09.876627Z"
    }
   },
   "outputs": [
    {
     "data": {
      "text/html": [
       "<pre style=\"white-space:pre;overflow-x:auto;line-height:normal;font-family:Menlo,'DejaVu Sans Mono',consolas,'Courier New',monospace\">/lus/grand/projects/datascience/foremans/locations/thetaGPU/projects/saforem2/nanoGPT/src/ngpt/__init__.py\n",
       "</pre>\n"
      ],
      "text/plain": [
       "/lus/grand/projects/datascience/foremans/locations/thetaGPU/projects/saforem2/nanoGPT/src/ngpt/__init__.py\n"
      ]
     },
     "metadata": {},
     "output_type": "display_data"
    },
    {
     "data": {
      "text/html": [
       "<pre style=\"white-space:pre;overflow-x:auto;line-height:normal;font-family:Menlo,'DejaVu Sans Mono',consolas,'Courier New',monospace\">Has ngpt installed. Nothing to do.\n",
       "</pre>\n"
      ],
      "text/plain": [
       "Has ngpt installed. Nothing to do.\n"
      ]
     },
     "metadata": {},
     "output_type": "display_data"
    }
   ],
   "source": [
    "%%bash\n",
    "\n",
    "python3 -c 'import ngpt; print(ngpt.__file__)' 2> '/dev/null'\n",
    "\n",
    "if [[ $? -eq 0 ]]; then\n",
    "    echo \"Has ngpt installed. Nothing to do.\"\n",
    "else\n",
    "    echo \"Does not have ngpt installed. Installing...\"\n",
    "    git clone 'https://github.com/saforem2/nanoGPT'\n",
    "    python3 nanoGPT/data/shakespeare_char/prepare.py\n",
    "    python3 -m pip install -e nanoGPT -vvv\n",
    "fi"
   ]
  },
  {
   "cell_type": "code",
   "execution_count": 6,
   "id": "5cc49c6d-d132-46a5-8ef8-3e7023200a0d",
   "metadata": {
    "execution": {
     "iopub.execute_input": "2023-11-10T23:22:19.948653Z",
     "iopub.status.busy": "2023-11-10T23:22:19.948335Z",
     "iopub.status.idle": "2023-11-10T23:22:20.182256Z",
     "shell.execute_reply": "2023-11-10T23:22:20.181668Z",
     "shell.execute_reply.started": "2023-11-10T23:22:19.948629Z"
    }
   },
   "outputs": [
    {
     "name": "stdout",
     "output_type": "stream",
     "text": [
      "/lus/grand/projects/datascience/foremans/locations/thetaGPU/projects/saforem2/nanoGPT/src/ngpt/__init__.py\n"
     ]
    },
    {
     "name": "stderr",
     "output_type": "stream",
     "text": [
      "bash: line 6: ngpt: command not found\n"
     ]
    },
    {
     "name": "stdout",
     "output_type": "stream",
     "text": [
      "Has  installed\n"
     ]
    }
   ],
   "source": [
    "%%bash\n",
    "\n",
    "python3 -c \"import ngpt; print(ngpt.__file__)\" 2> /dev/null;\n",
    "\n",
    "if [ $? -eq 0 ]; then\n",
    "  echo \"Has ngpt installed\"\n",
    "else\n",
    "  echo \"Does not have `ngpt`. Installing...\" >&2\n",
    "  git clone \"https://github.com/saforem2/nanoGPT\"\n",
    "  python3 nanoGPT/data/shakespeare_char/prepare.py\n",
    "  python3 -m pip install -e nanoGPT -vvv\n",
    "fi"
   ]
  },
  {
   "cell_type": "code",
   "execution_count": null,
   "id": "beb85015-f1c7-4eb0-b4f8-f1418e42c965",
   "metadata": {},
   "outputs": [],
   "source": []
  },
  {
   "cell_type": "code",
   "execution_count": 1,
   "id": "e69c3256-48e1-4b55-85ed-04143ff13043",
   "metadata": {
    "execution": {
     "iopub.execute_input": "2023-11-10T22:59:49.415378Z",
     "iopub.status.busy": "2023-11-10T22:59:49.415132Z",
     "iopub.status.idle": "2023-11-10T22:59:49.574693Z",
     "shell.execute_reply": "2023-11-10T22:59:49.574284Z",
     "shell.execute_reply.started": "2023-11-10T22:59:49.415359Z"
    }
   },
   "outputs": [],
   "source": [
    "%%bash\n",
    "\n",
    "[ $(python3 -c 'import ngpt; print(ngpt.__file__)') ] && export HAS_NGPT=1 || export HAS_NGPT=0\n",
    "[ $HAS_NGPT ] || git clone https://github.com/saforem2/nanoGPT;\n",
    "[ $HAS_NGPT ] || python3 nanoGPT/data/shakespeare_char/prepare.py\n",
    "[ $HAS_NGPT ] || python3 -m pip install -e nanoGPT -vvv"
   ]
  },
  {
   "cell_type": "markdown",
   "id": "c14a8da7-72fe-4839-a14d-f01606285fc3",
   "metadata": {},
   "source": [
    "## Post Install\n",
    "\n",
    "If installed correctly, you should be able to:\n",
    "\n",
    "```python\n",
    ">>> import ngpt\n",
    ">>> ngpt.__file__\n",
    "'/path/to/nanoGPT/src/ngpt/__init__.py'\n",
    "```"
   ]
  },
  {
   "cell_type": "code",
   "execution_count": 2,
   "id": "9fbf22d1-34ba-48ae-a78e-fc447fc9a0de",
   "metadata": {
    "execution": {
     "iopub.execute_input": "2023-11-10T22:59:51.002043Z",
     "iopub.status.busy": "2023-11-10T22:59:51.001793Z",
     "iopub.status.idle": "2023-11-10T22:59:51.073655Z",
     "shell.execute_reply": "2023-11-10T22:59:51.073273Z",
     "shell.execute_reply.started": "2023-11-10T22:59:51.002026Z"
    }
   },
   "outputs": [
    {
     "name": "stdout",
     "output_type": "stream",
     "text": [
      "The autoreload extension is already loaded. To reload it, use:\n",
      "  %reload_ext autoreload\n"
     ]
    },
    {
     "data": {
      "text/html": [
       "<pre style=\"white-space:pre;overflow-x:auto;line-height:normal;font-family:Menlo,'DejaVu Sans Mono',consolas,'Courier New',monospace\"><span style=\"color: #800080; text-decoration-color: #800080\">/lus/grand/projects/datascience/foremans/locations/thetaGPU/projects/saforem2/nanoGPT/src/ngpt/</span><span style=\"color: #ff00ff; text-decoration-color: #ff00ff\">__init__.py</span>\n",
       "</pre>\n"
      ],
      "text/plain": [
       "\u001b[35m/lus/grand/projects/datascience/foremans/locations/thetaGPU/projects/saforem2/nanoGPT/src/ngpt/\u001b[0m\u001b[95m__init__.py\u001b[0m\n"
      ]
     },
     "metadata": {},
     "output_type": "display_data"
    }
   ],
   "source": [
    "%load_ext autoreload\n",
    "%autoreload 2\n",
    "\n",
    "import ngpt\n",
    "from rich import print\n",
    "print(ngpt.__file__)"
   ]
  },
  {
   "cell_type": "markdown",
   "id": "e329ed94-582e-4aa8-bbe0-ba56782fe9e9",
   "metadata": {},
   "source": [
    "## Build Trainer\n",
    "\n",
    "Explicitly, we:\n",
    "\n",
    "1. `setup_torch(...)`\n",
    "2. Build `cfg: DictConfig = get_config(...)`\n",
    "3. Instnatiate `config: ExperimentConfig = instantiate(cfg)`\n",
    "4. Build `trainer = Trainer(config)`"
   ]
  },
  {
   "cell_type": "code",
   "execution_count": 3,
   "id": "7d12405a-8f88-476b-8922-a1a212adc682",
   "metadata": {
    "execution": {
     "iopub.execute_input": "2023-11-10T23:00:11.003450Z",
     "iopub.status.busy": "2023-11-10T23:00:11.002984Z",
     "iopub.status.idle": "2023-11-10T23:03:12.592022Z",
     "shell.execute_reply": "2023-11-10T23:03:12.591214Z",
     "shell.execute_reply.started": "2023-11-10T23:00:11.003417Z"
    }
   },
   "outputs": [
    {
     "name": "stderr",
     "output_type": "stream",
     "text": [
      "--------------------------------------------------------------------------\n",
      "WARNING: There was an error initializing an OpenFabrics device.\n",
      "\n",
      "  Local host:   thetagpu24\n",
      "  Local device: mlx5_0\n",
      "--------------------------------------------------------------------------\n",
      "RANK: 0 / 0\n"
     ]
    },
    {
     "name": "stdout",
     "output_type": "stream",
     "text": [
      "\u001b[38;2;131;131;131m[2023-11-10 17:00:51]\u001b[0m\u001b[33m[WARNING]\u001b[0m\u001b[38;2;119;119;119m[configs.py:298\u001b[0m\u001b[38;2;119;119;119m]\u001b[0m - No meta.pkl found, assuming GPT-\u001b[35m2\u001b[0m encodings\u001b[33m...\u001b[0m\n",
      "\u001b[38;2;131;131;131m[2023-11-10 17:00:51]\u001b[0m\u001b[34m[INFO]\u001b[0m\u001b[38;2;119;119;119m[configs.py:264\u001b[0m\u001b[38;2;119;119;119m]\u001b[0m - Rescaling GAS -> GAS \u001b[32m/\u001b[0m\u001b[32m/\u001b[0m WORLD_SIZE = \u001b[35m1\u001b[0m \u001b[32m/\u001b[0m\u001b[32m/\u001b[0m \u001b[35m1\u001b[0m\n",
      "\u001b[38;2;131;131;131m[2023-11-10 17:00:51]\u001b[0m\u001b[34m[INFO]\u001b[0m\u001b[38;2;119;119;119m[configs.py:399\u001b[0m\u001b[38;2;119;119;119m]\u001b[0m - Tokens per iteration: \u001b[35m1\u001b[0m,\u001b[35m024\u001b[0m\n",
      "\u001b[38;2;131;131;131m[2023-11-10 17:00:51]\u001b[0m\u001b[34m[INFO]\u001b[0m\u001b[38;2;119;119;119m[configs.py:431\u001b[0m\u001b[38;2;119;119;119m]\u001b[0m - Using \u001b[1m<\u001b[0m\u001b[1;95mtorch.amp.autocast_mode.autocast\u001b[0m\u001b[39m object at \u001b[0m\u001b[35m0x7faa8747b070\u001b[0m\u001b[1m>\u001b[0m\n",
      "\u001b[38;2;131;131;131m[2023-11-10 17:00:51]\u001b[0m\u001b[34m[INFO]\u001b[0m\u001b[38;2;119;119;119m[trainer.py:184\u001b[0m\u001b[38;2;119;119;119m]\u001b[0m - Initializing from OpenAI GPT-\u001b[35m2\u001b[0m Weights: gpt2-xl\n"
     ]
    },
    {
     "name": "stderr",
     "output_type": "stream",
     "text": [
      "2023-11-10 17:00:52.718107: I tensorflow/core/platform/cpu_feature_guard.cc:193] This TensorFlow binary is optimized with oneAPI Deep Neural Network Library (oneDNN) to use the following CPU instructions in performance-critical operations:  SSE3 SSE4.1 SSE4.2 AVX AVX2 FMA\n",
      "To enable them in other operations, rebuild TensorFlow with the appropriate compiler flags.\n"
     ]
    },
    {
     "name": "stdout",
     "output_type": "stream",
     "text": [
      "[2023-11-10 17:01:48,496] [INFO] [real_accelerator.py:158:get_accelerator] Setting ds_accelerator to cuda (auto detect)\n",
      "\u001b[38;2;131;131;131m[2023-11-10 17:01:58]\u001b[0m\u001b[34m[INFO]\u001b[0m\u001b[38;2;119;119;119m[model.py:225\u001b[0m\u001b[38;2;119;119;119m]\u001b[0m - loading weights from pretrained gpt: gpt2-xl\n",
      "\u001b[38;2;131;131;131m[2023-11-10 17:01:58]\u001b[0m\u001b[34m[INFO]\u001b[0m\u001b[38;2;119;119;119m[model.py:234\u001b[0m\u001b[38;2;119;119;119m]\u001b[0m - forcing \u001b[3;94mvocab_size\u001b[0m=\u001b[35m50257\u001b[0m, \u001b[3;94mblock_size\u001b[0m=\u001b[35m1024\u001b[0m, \u001b[3;94mbias\u001b[0m=\u001b[3;92mTrue\u001b[0m\n",
      "\u001b[38;2;131;131;131m[2023-11-10 17:01:58]\u001b[0m\u001b[34m[INFO]\u001b[0m\u001b[38;2;119;119;119m[model.py:240\u001b[0m\u001b[38;2;119;119;119m]\u001b[0m - overriding dropout rate to \u001b[35m0.0\u001b[0m\n",
      "\u001b[38;2;131;131;131m[2023-11-10 17:02:19]\u001b[0m\u001b[34m[INFO]\u001b[0m\u001b[38;2;119;119;119m[model.py:160\u001b[0m\u001b[38;2;119;119;119m]\u001b[0m - number of parameters: \u001b[35m1555.\u001b[0m97M\n"
     ]
    },
    {
     "data": {
      "application/vnd.jupyter.widget-view+json": {
       "model_id": "bf99e598fdb7442aa8beb3f90d6efa4f",
       "version_major": 2,
       "version_minor": 0
      },
      "text/plain": [
       "Downloading (…)lve/main/config.json:   0%|          | 0.00/689 [00:00<?, ?B/s]"
      ]
     },
     "metadata": {},
     "output_type": "display_data"
    },
    {
     "data": {
      "application/vnd.jupyter.widget-view+json": {
       "model_id": "c2e0086ba5c3453eba7c18c913dd5bf9",
       "version_major": 2,
       "version_minor": 0
      },
      "text/plain": [
       "Downloading (…)\"pytorch_model.bin\";:   0%|          | 0.00/6.43G [00:00<?, ?B/s]"
      ]
     },
     "metadata": {},
     "output_type": "display_data"
    },
    {
     "data": {
      "application/vnd.jupyter.widget-view+json": {
       "model_id": "65d07a4e75aa467f8c166042af6de336",
       "version_major": 2,
       "version_minor": 0
      },
      "text/plain": [
       "Downloading (…)neration_config.json:   0%|          | 0.00/124 [00:00<?, ?B/s]"
      ]
     },
     "metadata": {},
     "output_type": "display_data"
    },
    {
     "name": "stdout",
     "output_type": "stream",
     "text": [
      "\u001b[38;2;131;131;131m[2023-11-10 17:03:05]\u001b[0m\u001b[34m[INFO]\u001b[0m\u001b[38;2;119;119;119m[model.py:290\u001b[0m\u001b[38;2;119;119;119m]\u001b[0m - num decayed parameter tensors: \u001b[35m194\u001b[0m, with \u001b[35m1\u001b[0m,\u001b[35m556\u001b[0m,\u001b[35m609\u001b[0m,\u001b[35m600\u001b[0m parameters\n",
      "\u001b[38;2;131;131;131m[2023-11-10 17:03:05]\u001b[0m\u001b[34m[INFO]\u001b[0m\u001b[38;2;119;119;119m[model.py:291\u001b[0m\u001b[38;2;119;119;119m]\u001b[0m - num non-decayed parameter tensors: \u001b[35m386\u001b[0m, with \u001b[35m1\u001b[0m,\u001b[35m001\u001b[0m,\u001b[35m600\u001b[0m parameters\n",
      "\u001b[38;2;131;131;131m[2023-11-10 17:03:07]\u001b[0m\u001b[34m[INFO]\u001b[0m\u001b[38;2;119;119;119m[model.py:297\u001b[0m\u001b[38;2;119;119;119m]\u001b[0m - using fused AdamW: \u001b[3;92mTrue\u001b[0m\n"
     ]
    },
    {
     "name": "stderr",
     "output_type": "stream",
     "text": [
      "Process ForkProcess-12:\n",
      "Process ForkProcess-1:\n",
      "Process ForkProcess-27:\n",
      "Process ForkProcess-24:\n",
      "Process ForkProcess-22:\n",
      "Process ForkProcess-21:\n",
      "Process ForkProcess-13:\n",
      "Process ForkProcess-20:\n",
      "Process ForkProcess-4:\n",
      "Process ForkProcess-31:\n",
      "Process ForkProcess-14:\n",
      "Process ForkProcess-8:\n",
      "Process ForkProcess-10:\n",
      "Process ForkProcess-25:\n",
      "Process ForkProcess-26:\n",
      "Process ForkProcess-19:\n",
      "Process ForkProcess-23:\n",
      "Process ForkProcess-3:\n",
      "Process ForkProcess-11:\n",
      "Process ForkProcess-29:\n",
      "Process ForkProcess-30:\n",
      "Process ForkProcess-17:\n",
      "Process ForkProcess-18:\n",
      "Process ForkProcess-28:\n",
      "Process ForkProcess-16:\n",
      "Process ForkProcess-7:\n",
      "Process ForkProcess-15:\n",
      "Process ForkProcess-32:\n",
      "Process ForkProcess-6:\n",
      "Process ForkProcess-5:\n",
      "Process ForkProcess-9:\n",
      "Process ForkProcess-2:\n",
      "Traceback (most recent call last):\n",
      "Traceback (most recent call last):\n",
      "Traceback (most recent call last):\n",
      "  File \"/lus/theta-fs0/software/thetagpu/conda/2023-01-11/mconda3/lib/python3.10/multiprocessing/process.py\", line 314, in _bootstrap\n",
      "    self.run()\n",
      "Traceback (most recent call last):\n",
      "  File \"/lus/theta-fs0/software/thetagpu/conda/2023-01-11/mconda3/lib/python3.10/multiprocessing/process.py\", line 314, in _bootstrap\n",
      "    self.run()\n",
      "Traceback (most recent call last):\n",
      "  File \"/lus/theta-fs0/software/thetagpu/conda/2023-01-11/mconda3/lib/python3.10/multiprocessing/process.py\", line 314, in _bootstrap\n",
      "    self.run()\n",
      "  File \"/lus/theta-fs0/software/thetagpu/conda/2023-01-11/mconda3/lib/python3.10/multiprocessing/process.py\", line 108, in run\n",
      "    self._target(*self._args, **self._kwargs)\n",
      "Traceback (most recent call last):\n",
      "  File \"/lus/theta-fs0/software/thetagpu/conda/2023-01-11/mconda3/lib/python3.10/multiprocessing/process.py\", line 314, in _bootstrap\n",
      "    self.run()\n",
      "  File \"/lus/theta-fs0/software/thetagpu/conda/2023-01-11/mconda3/lib/python3.10/multiprocessing/process.py\", line 108, in run\n",
      "    self._target(*self._args, **self._kwargs)\n",
      "Traceback (most recent call last):\n",
      "Traceback (most recent call last):\n",
      "  File \"/lus/theta-fs0/software/thetagpu/conda/2023-01-11/mconda3/lib/python3.10/multiprocessing/process.py\", line 314, in _bootstrap\n",
      "    self.run()\n",
      "  File \"/lus/theta-fs0/software/thetagpu/conda/2023-01-11/mconda3/lib/python3.10/multiprocessing/process.py\", line 108, in run\n",
      "    self._target(*self._args, **self._kwargs)\n",
      "  File \"/lus/theta-fs0/software/thetagpu/conda/2023-01-11/mconda3/lib/python3.10/multiprocessing/process.py\", line 108, in run\n",
      "    self._target(*self._args, **self._kwargs)\n",
      "  File \"/lus/theta-fs0/software/thetagpu/conda/2023-01-11/mconda3/lib/python3.10/concurrent/futures/process.py\", line 240, in _process_worker\n",
      "    call_item = call_queue.get(block=True)\n",
      "  File \"/lus/theta-fs0/software/thetagpu/conda/2023-01-11/mconda3/lib/python3.10/multiprocessing/process.py\", line 314, in _bootstrap\n",
      "    self.run()\n",
      "Traceback (most recent call last):\n",
      "Traceback (most recent call last):\n",
      "Traceback (most recent call last):\n",
      "  File \"/lus/theta-fs0/software/thetagpu/conda/2023-01-11/mconda3/lib/python3.10/concurrent/futures/process.py\", line 240, in _process_worker\n",
      "    call_item = call_queue.get(block=True)\n",
      "Traceback (most recent call last):\n",
      "Traceback (most recent call last):\n",
      "Traceback (most recent call last):\n",
      "Traceback (most recent call last):\n",
      "Traceback (most recent call last):\n",
      "Traceback (most recent call last):\n",
      "Traceback (most recent call last):\n",
      "Traceback (most recent call last):\n",
      "Traceback (most recent call last):\n",
      "Traceback (most recent call last):\n",
      "Traceback (most recent call last):\n",
      "Traceback (most recent call last):\n",
      "Traceback (most recent call last):\n",
      "Traceback (most recent call last):\n",
      "Traceback (most recent call last):\n",
      "Traceback (most recent call last):\n",
      "Traceback (most recent call last):\n",
      "Traceback (most recent call last):\n",
      "  File \"/lus/theta-fs0/software/thetagpu/conda/2023-01-11/mconda3/lib/python3.10/multiprocessing/process.py\", line 108, in run\n",
      "    self._target(*self._args, **self._kwargs)\n",
      "  File \"/lus/theta-fs0/software/thetagpu/conda/2023-01-11/mconda3/lib/python3.10/multiprocessing/process.py\", line 314, in _bootstrap\n",
      "    self.run()\n",
      "  File \"/lus/theta-fs0/software/thetagpu/conda/2023-01-11/mconda3/lib/python3.10/multiprocessing/process.py\", line 314, in _bootstrap\n",
      "    self.run()\n",
      "  File \"/lus/theta-fs0/software/thetagpu/conda/2023-01-11/mconda3/lib/python3.10/concurrent/futures/process.py\", line 240, in _process_worker\n",
      "    call_item = call_queue.get(block=True)\n",
      "  File \"/lus/theta-fs0/software/thetagpu/conda/2023-01-11/mconda3/lib/python3.10/multiprocessing/queues.py\", line 102, in get\n",
      "    with self._rlock:\n",
      "  File \"/lus/theta-fs0/software/thetagpu/conda/2023-01-11/mconda3/lib/python3.10/concurrent/futures/process.py\", line 240, in _process_worker\n",
      "    call_item = call_queue.get(block=True)\n",
      "  File \"/lus/theta-fs0/software/thetagpu/conda/2023-01-11/mconda3/lib/python3.10/multiprocessing/process.py\", line 108, in run\n",
      "    self._target(*self._args, **self._kwargs)\n",
      "Traceback (most recent call last):\n",
      "  File \"/lus/theta-fs0/software/thetagpu/conda/2023-01-11/mconda3/lib/python3.10/multiprocessing/process.py\", line 314, in _bootstrap\n",
      "    self.run()\n",
      "  File \"/lus/theta-fs0/software/thetagpu/conda/2023-01-11/mconda3/lib/python3.10/multiprocessing/process.py\", line 314, in _bootstrap\n",
      "    self.run()\n",
      "  File \"/lus/theta-fs0/software/thetagpu/conda/2023-01-11/mconda3/lib/python3.10/multiprocessing/queues.py\", line 102, in get\n",
      "    with self._rlock:\n",
      "  File \"/lus/theta-fs0/software/thetagpu/conda/2023-01-11/mconda3/lib/python3.10/multiprocessing/process.py\", line 314, in _bootstrap\n",
      "    self.run()\n",
      "  File \"/lus/theta-fs0/software/thetagpu/conda/2023-01-11/mconda3/lib/python3.10/multiprocessing/process.py\", line 314, in _bootstrap\n",
      "    self.run()\n",
      "  File \"/lus/theta-fs0/software/thetagpu/conda/2023-01-11/mconda3/lib/python3.10/multiprocessing/process.py\", line 314, in _bootstrap\n",
      "    self.run()\n",
      "  File \"/lus/theta-fs0/software/thetagpu/conda/2023-01-11/mconda3/lib/python3.10/multiprocessing/process.py\", line 314, in _bootstrap\n",
      "    self.run()\n",
      "  File \"/lus/theta-fs0/software/thetagpu/conda/2023-01-11/mconda3/lib/python3.10/multiprocessing/process.py\", line 314, in _bootstrap\n",
      "    self.run()\n",
      "  File \"/lus/theta-fs0/software/thetagpu/conda/2023-01-11/mconda3/lib/python3.10/multiprocessing/process.py\", line 314, in _bootstrap\n",
      "    self.run()\n",
      "  File \"/lus/theta-fs0/software/thetagpu/conda/2023-01-11/mconda3/lib/python3.10/multiprocessing/process.py\", line 314, in _bootstrap\n",
      "    self.run()\n",
      "Traceback (most recent call last):\n",
      "  File \"/lus/theta-fs0/software/thetagpu/conda/2023-01-11/mconda3/lib/python3.10/multiprocessing/process.py\", line 314, in _bootstrap\n",
      "    self.run()\n",
      "Traceback (most recent call last):\n",
      "  File \"/lus/theta-fs0/software/thetagpu/conda/2023-01-11/mconda3/lib/python3.10/multiprocessing/process.py\", line 314, in _bootstrap\n",
      "    self.run()\n",
      "  File \"/lus/theta-fs0/software/thetagpu/conda/2023-01-11/mconda3/lib/python3.10/multiprocessing/process.py\", line 314, in _bootstrap\n",
      "    self.run()\n",
      "  File \"/lus/theta-fs0/software/thetagpu/conda/2023-01-11/mconda3/lib/python3.10/multiprocessing/process.py\", line 314, in _bootstrap\n",
      "    self.run()\n",
      "  File \"/lus/theta-fs0/software/thetagpu/conda/2023-01-11/mconda3/lib/python3.10/multiprocessing/process.py\", line 314, in _bootstrap\n",
      "    self.run()\n",
      "  File \"/lus/theta-fs0/software/thetagpu/conda/2023-01-11/mconda3/lib/python3.10/multiprocessing/process.py\", line 314, in _bootstrap\n",
      "    self.run()\n",
      "  File \"/lus/theta-fs0/software/thetagpu/conda/2023-01-11/mconda3/lib/python3.10/multiprocessing/process.py\", line 314, in _bootstrap\n",
      "    self.run()\n",
      "  File \"/lus/theta-fs0/software/thetagpu/conda/2023-01-11/mconda3/lib/python3.10/multiprocessing/process.py\", line 314, in _bootstrap\n",
      "    self.run()\n",
      "  File \"/lus/theta-fs0/software/thetagpu/conda/2023-01-11/mconda3/lib/python3.10/multiprocessing/process.py\", line 314, in _bootstrap\n",
      "    self.run()\n",
      "  File \"/lus/theta-fs0/software/thetagpu/conda/2023-01-11/mconda3/lib/python3.10/multiprocessing/process.py\", line 314, in _bootstrap\n",
      "    self.run()\n",
      "  File \"/lus/theta-fs0/software/thetagpu/conda/2023-01-11/mconda3/lib/python3.10/multiprocessing/process.py\", line 314, in _bootstrap\n",
      "    self.run()\n",
      "  File \"/lus/theta-fs0/software/thetagpu/conda/2023-01-11/mconda3/lib/python3.10/concurrent/futures/process.py\", line 240, in _process_worker\n",
      "    call_item = call_queue.get(block=True)\n",
      "  File \"/lus/theta-fs0/software/thetagpu/conda/2023-01-11/mconda3/lib/python3.10/multiprocessing/process.py\", line 314, in _bootstrap\n",
      "    self.run()\n",
      "  File \"/lus/theta-fs0/software/thetagpu/conda/2023-01-11/mconda3/lib/python3.10/multiprocessing/process.py\", line 108, in run\n",
      "    self._target(*self._args, **self._kwargs)\n",
      "  File \"/lus/theta-fs0/software/thetagpu/conda/2023-01-11/mconda3/lib/python3.10/multiprocessing/synchronize.py\", line 95, in __enter__\n",
      "    return self._semlock.__enter__()\n",
      "  File \"/lus/theta-fs0/software/thetagpu/conda/2023-01-11/mconda3/lib/python3.10/multiprocessing/process.py\", line 108, in run\n",
      "    self._target(*self._args, **self._kwargs)\n",
      "  File \"/lus/theta-fs0/software/thetagpu/conda/2023-01-11/mconda3/lib/python3.10/multiprocessing/queues.py\", line 102, in get\n",
      "    with self._rlock:\n",
      "  File \"/lus/theta-fs0/software/thetagpu/conda/2023-01-11/mconda3/lib/python3.10/multiprocessing/queues.py\", line 102, in get\n",
      "    with self._rlock:\n",
      "  File \"/lus/theta-fs0/software/thetagpu/conda/2023-01-11/mconda3/lib/python3.10/concurrent/futures/process.py\", line 240, in _process_worker\n",
      "    call_item = call_queue.get(block=True)\n",
      "  File \"/lus/theta-fs0/software/thetagpu/conda/2023-01-11/mconda3/lib/python3.10/multiprocessing/process.py\", line 314, in _bootstrap\n",
      "    self.run()\n",
      "  File \"/lus/theta-fs0/software/thetagpu/conda/2023-01-11/mconda3/lib/python3.10/multiprocessing/process.py\", line 108, in run\n",
      "    self._target(*self._args, **self._kwargs)\n",
      "  File \"/lus/theta-fs0/software/thetagpu/conda/2023-01-11/mconda3/lib/python3.10/multiprocessing/process.py\", line 108, in run\n",
      "    self._target(*self._args, **self._kwargs)\n",
      "  File \"/lus/theta-fs0/software/thetagpu/conda/2023-01-11/mconda3/lib/python3.10/multiprocessing/process.py\", line 108, in run\n",
      "    self._target(*self._args, **self._kwargs)\n",
      "  File \"/lus/theta-fs0/software/thetagpu/conda/2023-01-11/mconda3/lib/python3.10/multiprocessing/synchronize.py\", line 95, in __enter__\n",
      "    return self._semlock.__enter__()\n",
      "  File \"/lus/theta-fs0/software/thetagpu/conda/2023-01-11/mconda3/lib/python3.10/multiprocessing/process.py\", line 108, in run\n",
      "    self._target(*self._args, **self._kwargs)\n",
      "  File \"/lus/theta-fs0/software/thetagpu/conda/2023-01-11/mconda3/lib/python3.10/multiprocessing/process.py\", line 108, in run\n",
      "    self._target(*self._args, **self._kwargs)\n",
      "  File \"/lus/theta-fs0/software/thetagpu/conda/2023-01-11/mconda3/lib/python3.10/multiprocessing/process.py\", line 108, in run\n",
      "    self._target(*self._args, **self._kwargs)\n",
      "  File \"/lus/theta-fs0/software/thetagpu/conda/2023-01-11/mconda3/lib/python3.10/multiprocessing/process.py\", line 108, in run\n",
      "    self._target(*self._args, **self._kwargs)\n",
      "  File \"/lus/theta-fs0/software/thetagpu/conda/2023-01-11/mconda3/lib/python3.10/multiprocessing/process.py\", line 108, in run\n",
      "    self._target(*self._args, **self._kwargs)\n",
      "  File \"/lus/theta-fs0/software/thetagpu/conda/2023-01-11/mconda3/lib/python3.10/multiprocessing/process.py\", line 314, in _bootstrap\n",
      "    self.run()\n",
      "  File \"/lus/theta-fs0/software/thetagpu/conda/2023-01-11/mconda3/lib/python3.10/multiprocessing/process.py\", line 108, in run\n",
      "    self._target(*self._args, **self._kwargs)\n",
      "  File \"/lus/theta-fs0/software/thetagpu/conda/2023-01-11/mconda3/lib/python3.10/multiprocessing/process.py\", line 108, in run\n",
      "    self._target(*self._args, **self._kwargs)\n",
      "  File \"/lus/theta-fs0/software/thetagpu/conda/2023-01-11/mconda3/lib/python3.10/multiprocessing/process.py\", line 108, in run\n",
      "    self._target(*self._args, **self._kwargs)\n",
      "  File \"/lus/theta-fs0/software/thetagpu/conda/2023-01-11/mconda3/lib/python3.10/multiprocessing/process.py\", line 314, in _bootstrap\n",
      "    self.run()\n",
      "  File \"/lus/theta-fs0/software/thetagpu/conda/2023-01-11/mconda3/lib/python3.10/multiprocessing/process.py\", line 108, in run\n",
      "    self._target(*self._args, **self._kwargs)\n",
      "  File \"/lus/theta-fs0/software/thetagpu/conda/2023-01-11/mconda3/lib/python3.10/multiprocessing/process.py\", line 108, in run\n",
      "    self._target(*self._args, **self._kwargs)\n",
      "  File \"/lus/theta-fs0/software/thetagpu/conda/2023-01-11/mconda3/lib/python3.10/multiprocessing/process.py\", line 108, in run\n",
      "    self._target(*self._args, **self._kwargs)\n",
      "  File \"/lus/theta-fs0/software/thetagpu/conda/2023-01-11/mconda3/lib/python3.10/multiprocessing/process.py\", line 108, in run\n",
      "    self._target(*self._args, **self._kwargs)\n",
      "  File \"/lus/theta-fs0/software/thetagpu/conda/2023-01-11/mconda3/lib/python3.10/multiprocessing/process.py\", line 108, in run\n",
      "    self._target(*self._args, **self._kwargs)\n",
      "  File \"/lus/theta-fs0/software/thetagpu/conda/2023-01-11/mconda3/lib/python3.10/multiprocessing/process.py\", line 108, in run\n",
      "    self._target(*self._args, **self._kwargs)\n",
      "  File \"/lus/theta-fs0/software/thetagpu/conda/2023-01-11/mconda3/lib/python3.10/multiprocessing/process.py\", line 108, in run\n",
      "    self._target(*self._args, **self._kwargs)\n",
      "  File \"/lus/theta-fs0/software/thetagpu/conda/2023-01-11/mconda3/lib/python3.10/multiprocessing/process.py\", line 108, in run\n",
      "    self._target(*self._args, **self._kwargs)\n",
      "  File \"/lus/theta-fs0/software/thetagpu/conda/2023-01-11/mconda3/lib/python3.10/multiprocessing/process.py\", line 108, in run\n",
      "    self._target(*self._args, **self._kwargs)\n",
      "  File \"/lus/theta-fs0/software/thetagpu/conda/2023-01-11/mconda3/lib/python3.10/multiprocessing/queues.py\", line 102, in get\n",
      "    with self._rlock:\n",
      "  File \"/lus/theta-fs0/software/thetagpu/conda/2023-01-11/mconda3/lib/python3.10/multiprocessing/process.py\", line 108, in run\n",
      "    self._target(*self._args, **self._kwargs)\n",
      "  File \"/lus/theta-fs0/software/thetagpu/conda/2023-01-11/mconda3/lib/python3.10/concurrent/futures/process.py\", line 240, in _process_worker\n",
      "    call_item = call_queue.get(block=True)\n",
      "KeyboardInterrupt\n",
      "  File \"/lus/theta-fs0/software/thetagpu/conda/2023-01-11/mconda3/lib/python3.10/concurrent/futures/process.py\", line 240, in _process_worker\n",
      "    call_item = call_queue.get(block=True)\n",
      "  File \"/lus/theta-fs0/software/thetagpu/conda/2023-01-11/mconda3/lib/python3.10/multiprocessing/synchronize.py\", line 95, in __enter__\n",
      "    return self._semlock.__enter__()\n",
      "  File \"/lus/theta-fs0/software/thetagpu/conda/2023-01-11/mconda3/lib/python3.10/multiprocessing/synchronize.py\", line 95, in __enter__\n",
      "    return self._semlock.__enter__()\n",
      "  File \"/lus/theta-fs0/software/thetagpu/conda/2023-01-11/mconda3/lib/python3.10/multiprocessing/process.py\", line 108, in run\n",
      "    self._target(*self._args, **self._kwargs)\n",
      "  File \"/lus/theta-fs0/software/thetagpu/conda/2023-01-11/mconda3/lib/python3.10/multiprocessing/queues.py\", line 102, in get\n",
      "    with self._rlock:\n",
      "  File \"/lus/theta-fs0/software/thetagpu/conda/2023-01-11/mconda3/lib/python3.10/concurrent/futures/process.py\", line 240, in _process_worker\n",
      "    call_item = call_queue.get(block=True)\n",
      "  File \"/lus/theta-fs0/software/thetagpu/conda/2023-01-11/mconda3/lib/python3.10/concurrent/futures/process.py\", line 240, in _process_worker\n",
      "    call_item = call_queue.get(block=True)\n",
      "  File \"/lus/theta-fs0/software/thetagpu/conda/2023-01-11/mconda3/lib/python3.10/concurrent/futures/process.py\", line 240, in _process_worker\n",
      "    call_item = call_queue.get(block=True)\n",
      "  File \"/lus/theta-fs0/software/thetagpu/conda/2023-01-11/mconda3/lib/python3.10/concurrent/futures/process.py\", line 240, in _process_worker\n",
      "    call_item = call_queue.get(block=True)\n",
      "  File \"/lus/theta-fs0/software/thetagpu/conda/2023-01-11/mconda3/lib/python3.10/concurrent/futures/process.py\", line 240, in _process_worker\n",
      "    call_item = call_queue.get(block=True)\n",
      "KeyboardInterrupt\n",
      "  File \"/lus/theta-fs0/software/thetagpu/conda/2023-01-11/mconda3/lib/python3.10/concurrent/futures/process.py\", line 240, in _process_worker\n",
      "    call_item = call_queue.get(block=True)\n",
      "  File \"/lus/theta-fs0/software/thetagpu/conda/2023-01-11/mconda3/lib/python3.10/concurrent/futures/process.py\", line 240, in _process_worker\n",
      "    call_item = call_queue.get(block=True)\n",
      "  File \"/lus/theta-fs0/software/thetagpu/conda/2023-01-11/mconda3/lib/python3.10/multiprocessing/process.py\", line 108, in run\n",
      "    self._target(*self._args, **self._kwargs)\n",
      "  File \"/lus/theta-fs0/software/thetagpu/conda/2023-01-11/mconda3/lib/python3.10/concurrent/futures/process.py\", line 240, in _process_worker\n",
      "    call_item = call_queue.get(block=True)\n",
      "  File \"/lus/theta-fs0/software/thetagpu/conda/2023-01-11/mconda3/lib/python3.10/concurrent/futures/process.py\", line 240, in _process_worker\n",
      "    call_item = call_queue.get(block=True)\n",
      "  File \"/lus/theta-fs0/software/thetagpu/conda/2023-01-11/mconda3/lib/python3.10/concurrent/futures/process.py\", line 240, in _process_worker\n",
      "    call_item = call_queue.get(block=True)\n",
      "  File \"/lus/theta-fs0/software/thetagpu/conda/2023-01-11/mconda3/lib/python3.10/concurrent/futures/process.py\", line 240, in _process_worker\n",
      "    call_item = call_queue.get(block=True)\n",
      "  File \"/lus/theta-fs0/software/thetagpu/conda/2023-01-11/mconda3/lib/python3.10/concurrent/futures/process.py\", line 240, in _process_worker\n",
      "    call_item = call_queue.get(block=True)\n",
      "  File \"/lus/theta-fs0/software/thetagpu/conda/2023-01-11/mconda3/lib/python3.10/concurrent/futures/process.py\", line 240, in _process_worker\n",
      "    call_item = call_queue.get(block=True)\n",
      "  File \"/lus/theta-fs0/software/thetagpu/conda/2023-01-11/mconda3/lib/python3.10/multiprocessing/process.py\", line 108, in run\n",
      "    self._target(*self._args, **self._kwargs)\n",
      "  File \"/lus/theta-fs0/software/thetagpu/conda/2023-01-11/mconda3/lib/python3.10/concurrent/futures/process.py\", line 240, in _process_worker\n",
      "    call_item = call_queue.get(block=True)\n",
      "  File \"/lus/theta-fs0/software/thetagpu/conda/2023-01-11/mconda3/lib/python3.10/concurrent/futures/process.py\", line 240, in _process_worker\n",
      "    call_item = call_queue.get(block=True)\n",
      "  File \"/lus/theta-fs0/software/thetagpu/conda/2023-01-11/mconda3/lib/python3.10/concurrent/futures/process.py\", line 240, in _process_worker\n",
      "    call_item = call_queue.get(block=True)\n",
      "  File \"/lus/theta-fs0/software/thetagpu/conda/2023-01-11/mconda3/lib/python3.10/concurrent/futures/process.py\", line 240, in _process_worker\n",
      "    call_item = call_queue.get(block=True)\n",
      "  File \"/lus/theta-fs0/software/thetagpu/conda/2023-01-11/mconda3/lib/python3.10/concurrent/futures/process.py\", line 240, in _process_worker\n",
      "    call_item = call_queue.get(block=True)\n",
      "  File \"/lus/theta-fs0/software/thetagpu/conda/2023-01-11/mconda3/lib/python3.10/concurrent/futures/process.py\", line 240, in _process_worker\n",
      "    call_item = call_queue.get(block=True)\n",
      "  File \"/lus/theta-fs0/software/thetagpu/conda/2023-01-11/mconda3/lib/python3.10/concurrent/futures/process.py\", line 240, in _process_worker\n",
      "    call_item = call_queue.get(block=True)\n",
      "  File \"/lus/theta-fs0/software/thetagpu/conda/2023-01-11/mconda3/lib/python3.10/multiprocessing/synchronize.py\", line 95, in __enter__\n",
      "    return self._semlock.__enter__()\n",
      "  File \"/lus/theta-fs0/software/thetagpu/conda/2023-01-11/mconda3/lib/python3.10/concurrent/futures/process.py\", line 240, in _process_worker\n",
      "    call_item = call_queue.get(block=True)\n",
      "  File \"/lus/theta-fs0/software/thetagpu/conda/2023-01-11/mconda3/lib/python3.10/multiprocessing/queues.py\", line 102, in get\n",
      "    with self._rlock:\n",
      "  File \"/lus/theta-fs0/software/thetagpu/conda/2023-01-11/mconda3/lib/python3.10/concurrent/futures/process.py\", line 240, in _process_worker\n",
      "    call_item = call_queue.get(block=True)\n",
      "KeyboardInterrupt\n",
      "KeyboardInterrupt\n",
      "  File \"/lus/theta-fs0/software/thetagpu/conda/2023-01-11/mconda3/lib/python3.10/multiprocessing/synchronize.py\", line 95, in __enter__\n",
      "    return self._semlock.__enter__()\n",
      "  File \"/lus/theta-fs0/software/thetagpu/conda/2023-01-11/mconda3/lib/python3.10/multiprocessing/queues.py\", line 102, in get\n",
      "    with self._rlock:\n",
      "  File \"/lus/theta-fs0/software/thetagpu/conda/2023-01-11/mconda3/lib/python3.10/multiprocessing/queues.py\", line 102, in get\n",
      "    with self._rlock:\n",
      "  File \"/lus/theta-fs0/software/thetagpu/conda/2023-01-11/mconda3/lib/python3.10/multiprocessing/queues.py\", line 103, in get\n",
      "    res = self._recv_bytes()\n",
      "  File \"/lus/theta-fs0/software/thetagpu/conda/2023-01-11/mconda3/lib/python3.10/multiprocessing/queues.py\", line 102, in get\n",
      "    with self._rlock:\n",
      "  File \"/lus/theta-fs0/software/thetagpu/conda/2023-01-11/mconda3/lib/python3.10/multiprocessing/queues.py\", line 102, in get\n",
      "    with self._rlock:\n",
      "  File \"/lus/theta-fs0/software/thetagpu/conda/2023-01-11/mconda3/lib/python3.10/multiprocessing/queues.py\", line 102, in get\n",
      "    with self._rlock:\n",
      "  File \"/lus/theta-fs0/software/thetagpu/conda/2023-01-11/mconda3/lib/python3.10/multiprocessing/queues.py\", line 102, in get\n",
      "    with self._rlock:\n",
      "  File \"/lus/theta-fs0/software/thetagpu/conda/2023-01-11/mconda3/lib/python3.10/multiprocessing/queues.py\", line 102, in get\n",
      "    with self._rlock:\n",
      "  File \"/lus/theta-fs0/software/thetagpu/conda/2023-01-11/mconda3/lib/python3.10/multiprocessing/queues.py\", line 102, in get\n",
      "    with self._rlock:\n",
      "  File \"/lus/theta-fs0/software/thetagpu/conda/2023-01-11/mconda3/lib/python3.10/multiprocessing/queues.py\", line 102, in get\n",
      "    with self._rlock:\n",
      "  File \"/lus/theta-fs0/software/thetagpu/conda/2023-01-11/mconda3/lib/python3.10/multiprocessing/queues.py\", line 102, in get\n",
      "    with self._rlock:\n",
      "  File \"/lus/theta-fs0/software/thetagpu/conda/2023-01-11/mconda3/lib/python3.10/concurrent/futures/process.py\", line 240, in _process_worker\n",
      "    call_item = call_queue.get(block=True)\n",
      "  File \"/lus/theta-fs0/software/thetagpu/conda/2023-01-11/mconda3/lib/python3.10/multiprocessing/queues.py\", line 102, in get\n",
      "    with self._rlock:\n",
      "  File \"/lus/theta-fs0/software/thetagpu/conda/2023-01-11/mconda3/lib/python3.10/multiprocessing/queues.py\", line 102, in get\n",
      "    with self._rlock:\n",
      "  File \"/lus/theta-fs0/software/thetagpu/conda/2023-01-11/mconda3/lib/python3.10/multiprocessing/queues.py\", line 102, in get\n",
      "    with self._rlock:\n",
      "  File \"/lus/theta-fs0/software/thetagpu/conda/2023-01-11/mconda3/lib/python3.10/concurrent/futures/process.py\", line 240, in _process_worker\n",
      "    call_item = call_queue.get(block=True)\n",
      "  File \"/lus/theta-fs0/software/thetagpu/conda/2023-01-11/mconda3/lib/python3.10/multiprocessing/queues.py\", line 102, in get\n",
      "    with self._rlock:\n",
      "  File \"/lus/theta-fs0/software/thetagpu/conda/2023-01-11/mconda3/lib/python3.10/multiprocessing/queues.py\", line 102, in get\n",
      "    with self._rlock:\n",
      "  File \"/lus/theta-fs0/software/thetagpu/conda/2023-01-11/mconda3/lib/python3.10/multiprocessing/queues.py\", line 102, in get\n",
      "    with self._rlock:\n",
      "  File \"/lus/theta-fs0/software/thetagpu/conda/2023-01-11/mconda3/lib/python3.10/multiprocessing/queues.py\", line 102, in get\n",
      "    with self._rlock:\n",
      "  File \"/lus/theta-fs0/software/thetagpu/conda/2023-01-11/mconda3/lib/python3.10/multiprocessing/queues.py\", line 102, in get\n",
      "    with self._rlock:\n",
      "  File \"/lus/theta-fs0/software/thetagpu/conda/2023-01-11/mconda3/lib/python3.10/multiprocessing/queues.py\", line 102, in get\n",
      "    with self._rlock:\n",
      "KeyboardInterrupt\n",
      "  File \"/lus/theta-fs0/software/thetagpu/conda/2023-01-11/mconda3/lib/python3.10/multiprocessing/queues.py\", line 102, in get\n",
      "    with self._rlock:\n",
      "  File \"/lus/theta-fs0/software/thetagpu/conda/2023-01-11/mconda3/lib/python3.10/multiprocessing/queues.py\", line 102, in get\n",
      "    with self._rlock:\n",
      "  File \"/lus/theta-fs0/software/thetagpu/conda/2023-01-11/mconda3/lib/python3.10/multiprocessing/synchronize.py\", line 95, in __enter__\n",
      "    return self._semlock.__enter__()\n",
      "  File \"/lus/theta-fs0/software/thetagpu/conda/2023-01-11/mconda3/lib/python3.10/multiprocessing/queues.py\", line 102, in get\n",
      "    with self._rlock:\n",
      "  File \"/lus/theta-fs0/software/thetagpu/conda/2023-01-11/mconda3/lib/python3.10/multiprocessing/synchronize.py\", line 95, in __enter__\n",
      "    return self._semlock.__enter__()\n",
      "  File \"/lus/theta-fs0/software/thetagpu/conda/2023-01-11/mconda3/lib/python3.10/multiprocessing/connection.py\", line 221, in recv_bytes\n",
      "    buf = self._recv_bytes(maxlength)\n",
      "  File \"/lus/theta-fs0/software/thetagpu/conda/2023-01-11/mconda3/lib/python3.10/multiprocessing/synchronize.py\", line 95, in __enter__\n",
      "    return self._semlock.__enter__()\n",
      "  File \"/lus/theta-fs0/software/thetagpu/conda/2023-01-11/mconda3/lib/python3.10/multiprocessing/synchronize.py\", line 95, in __enter__\n",
      "    return self._semlock.__enter__()\n",
      "  File \"/lus/theta-fs0/software/thetagpu/conda/2023-01-11/mconda3/lib/python3.10/multiprocessing/synchronize.py\", line 95, in __enter__\n",
      "    return self._semlock.__enter__()\n",
      "  File \"/lus/theta-fs0/software/thetagpu/conda/2023-01-11/mconda3/lib/python3.10/multiprocessing/synchronize.py\", line 95, in __enter__\n",
      "    return self._semlock.__enter__()\n",
      "  File \"/lus/theta-fs0/software/thetagpu/conda/2023-01-11/mconda3/lib/python3.10/multiprocessing/synchronize.py\", line 95, in __enter__\n",
      "    return self._semlock.__enter__()\n",
      "  File \"/lus/theta-fs0/software/thetagpu/conda/2023-01-11/mconda3/lib/python3.10/multiprocessing/synchronize.py\", line 95, in __enter__\n",
      "    return self._semlock.__enter__()\n",
      "  File \"/lus/theta-fs0/software/thetagpu/conda/2023-01-11/mconda3/lib/python3.10/multiprocessing/queues.py\", line 102, in get\n",
      "    with self._rlock:\n",
      "KeyboardInterrupt\n",
      "  File \"/lus/theta-fs0/software/thetagpu/conda/2023-01-11/mconda3/lib/python3.10/multiprocessing/synchronize.py\", line 95, in __enter__\n",
      "    return self._semlock.__enter__()\n",
      "  File \"/lus/theta-fs0/software/thetagpu/conda/2023-01-11/mconda3/lib/python3.10/multiprocessing/synchronize.py\", line 95, in __enter__\n",
      "    return self._semlock.__enter__()\n",
      "  File \"/lus/theta-fs0/software/thetagpu/conda/2023-01-11/mconda3/lib/python3.10/multiprocessing/synchronize.py\", line 95, in __enter__\n",
      "    return self._semlock.__enter__()\n",
      "  File \"/lus/theta-fs0/software/thetagpu/conda/2023-01-11/mconda3/lib/python3.10/multiprocessing/synchronize.py\", line 95, in __enter__\n",
      "    return self._semlock.__enter__()\n",
      "  File \"/lus/theta-fs0/software/thetagpu/conda/2023-01-11/mconda3/lib/python3.10/multiprocessing/queues.py\", line 102, in get\n",
      "    with self._rlock:\n",
      "  File \"/lus/theta-fs0/software/thetagpu/conda/2023-01-11/mconda3/lib/python3.10/multiprocessing/synchronize.py\", line 95, in __enter__\n",
      "    return self._semlock.__enter__()\n",
      "  File \"/lus/theta-fs0/software/thetagpu/conda/2023-01-11/mconda3/lib/python3.10/multiprocessing/synchronize.py\", line 95, in __enter__\n",
      "    return self._semlock.__enter__()\n",
      "  File \"/lus/theta-fs0/software/thetagpu/conda/2023-01-11/mconda3/lib/python3.10/multiprocessing/synchronize.py\", line 95, in __enter__\n",
      "    return self._semlock.__enter__()\n",
      "  File \"/lus/theta-fs0/software/thetagpu/conda/2023-01-11/mconda3/lib/python3.10/multiprocessing/synchronize.py\", line 95, in __enter__\n",
      "    return self._semlock.__enter__()\n",
      "  File \"/lus/theta-fs0/software/thetagpu/conda/2023-01-11/mconda3/lib/python3.10/multiprocessing/synchronize.py\", line 95, in __enter__\n",
      "    return self._semlock.__enter__()\n",
      "  File \"/lus/theta-fs0/software/thetagpu/conda/2023-01-11/mconda3/lib/python3.10/multiprocessing/synchronize.py\", line 95, in __enter__\n",
      "    return self._semlock.__enter__()\n",
      "  File \"/lus/theta-fs0/software/thetagpu/conda/2023-01-11/mconda3/lib/python3.10/multiprocessing/synchronize.py\", line 95, in __enter__\n",
      "    return self._semlock.__enter__()\n",
      "  File \"/lus/theta-fs0/software/thetagpu/conda/2023-01-11/mconda3/lib/python3.10/multiprocessing/synchronize.py\", line 95, in __enter__\n",
      "    return self._semlock.__enter__()\n",
      "KeyboardInterrupt\n",
      "  File \"/lus/theta-fs0/software/thetagpu/conda/2023-01-11/mconda3/lib/python3.10/multiprocessing/synchronize.py\", line 95, in __enter__\n",
      "    return self._semlock.__enter__()\n",
      "KeyboardInterrupt\n",
      "  File \"/lus/theta-fs0/software/thetagpu/conda/2023-01-11/mconda3/lib/python3.10/multiprocessing/synchronize.py\", line 95, in __enter__\n",
      "    return self._semlock.__enter__()\n",
      "  File \"/lus/theta-fs0/software/thetagpu/conda/2023-01-11/mconda3/lib/python3.10/multiprocessing/connection.py\", line 419, in _recv_bytes\n",
      "    buf = self._recv(4)\n",
      "  File \"/lus/theta-fs0/software/thetagpu/conda/2023-01-11/mconda3/lib/python3.10/multiprocessing/synchronize.py\", line 95, in __enter__\n",
      "    return self._semlock.__enter__()\n",
      "KeyboardInterrupt\n",
      "KeyboardInterrupt\n",
      "KeyboardInterrupt\n",
      "KeyboardInterrupt\n",
      "  File \"/lus/theta-fs0/software/thetagpu/conda/2023-01-11/mconda3/lib/python3.10/multiprocessing/synchronize.py\", line 95, in __enter__\n",
      "    return self._semlock.__enter__()\n",
      "KeyboardInterrupt\n",
      "  File \"/lus/theta-fs0/software/thetagpu/conda/2023-01-11/mconda3/lib/python3.10/multiprocessing/synchronize.py\", line 95, in __enter__\n",
      "    return self._semlock.__enter__()\n",
      "KeyboardInterrupt\n",
      "KeyboardInterrupt\n",
      "KeyboardInterrupt\n",
      "KeyboardInterrupt\n",
      "KeyboardInterrupt\n",
      "KeyboardInterrupt\n",
      "KeyboardInterrupt\n",
      "KeyboardInterrupt\n",
      "KeyboardInterrupt\n",
      "KeyboardInterrupt\n",
      "KeyboardInterrupt\n",
      "KeyboardInterrupt\n",
      "KeyboardInterrupt\n",
      "  File \"/lus/theta-fs0/software/thetagpu/conda/2023-01-11/mconda3/lib/python3.10/multiprocessing/connection.py\", line 384, in _recv\n",
      "    chunk = read(handle, remaining)\n",
      "KeyboardInterrupt\n",
      "KeyboardInterrupt\n",
      "KeyboardInterrupt\n",
      "KeyboardInterrupt\n",
      "KeyboardInterrupt\n",
      "KeyboardInterrupt\n"
     ]
    }
   ],
   "source": [
    "import os\n",
    "from ezpz import setup_torch\n",
    "from hydra.utils import instantiate\n",
    "from ngpt.configs import get_config, PROJECT_ROOT\n",
    "from ngpt.trainer import Trainer\n",
    "\n",
    "HF_DATASETS_CACHE = PROJECT_ROOT.joinpath('.cache', 'huggingface')\n",
    "HF_DATASETS_CACHE.mkdir(exist_ok=True, parents=True)\n",
    "\n",
    "os.environ['MASTER_PORT'] = '5127'\n",
    "os.environ['HF_DATASETS_CACHE'] = HF_DATASETS_CACHE.as_posix()\n",
    "\n",
    "rank = setup_torch('DDP', seed=1234)\n",
    "cfg = get_config(\n",
    "    [\n",
    "        'data=owt',\n",
    "        'model=gpt2_xl',\n",
    "        'optimizer=gpt2_xl',\n",
    "        'train=gpt2_xl',\n",
    "        'train.init_from=gpt2-xl',\n",
    "        'train.max_iters=1000',\n",
    "        'train.dtype=bfloat16',\n",
    "    ]\n",
    ")\n",
    "config = instantiate(cfg)\n",
    "trainer = Trainer(config)"
   ]
  },
  {
   "cell_type": "markdown",
   "id": "c5202ff3-8811-47c9-8b9d-9818d4603697",
   "metadata": {},
   "source": [
    "## Train Model\n",
    "\n",
    "\n",
    "|  **NAME**  |     **DESCRIPTION**          |\n",
    "|:----------:|:----------------------------:|\n",
    "|   `step`   | Current training step        |\n",
    "|   `loss`   | Loss value                   |\n",
    "|   `dt`     | Time per step (in **ms**)    |\n",
    "|   `sps`    | Samples per second           |\n",
    "|   `mtps`   | (million) Tokens per sec     |\n",
    "|   `mfu`    | Model Flops Utilization*     |\n",
    "^Logging Legend\n",
    "\n",
    "*in units of A100 `bfloat16` peak FLOPS"
   ]
  },
  {
   "cell_type": "code",
   "execution_count": 5,
   "id": "acb8d33b-f8c9-41c6-aa61-95bdb76bf6ea",
   "metadata": {
    "execution": {
     "iopub.execute_input": "2023-11-10T23:04:22.930331Z",
     "iopub.status.busy": "2023-11-10T23:04:22.929827Z",
     "iopub.status.idle": "2023-11-10T23:22:19.788220Z",
     "shell.execute_reply": "2023-11-10T23:22:19.787548Z",
     "shell.execute_reply.started": "2023-11-10T23:04:22.930267Z"
    }
   },
   "outputs": [
    {
     "data": {
      "application/vnd.jupyter.widget-view+json": {
       "model_id": "1682c3d1600c466c8a5537f6715fd397",
       "version_major": 2,
       "version_minor": 0
      },
      "text/plain": [
       "  0%|          | 0/1000 [00:00<?, ?it/s]"
      ]
     },
     "metadata": {},
     "output_type": "display_data"
    },
    {
     "name": "stdout",
     "output_type": "stream",
     "text": [
      "\u001b[38;2;131;131;131m[2023-11-10 17:08:25]\u001b[0m\u001b[34m[INFO]\u001b[0m\u001b[38;2;119;119;119m[trainer.py:540\u001b[0m\u001b[38;2;119;119;119m]\u001b[0m - \u001b[3;94mstep\u001b[0m=\u001b[35m100\u001b[0m \u001b[3;94mloss\u001b[0m=\u001b[35m2\u001b[0m\u001b[35m.443\u001b[0m \u001b[3;94mdt\u001b[0m=\u001b[35m925\u001b[0m\u001b[35m.539\u001b[0m \u001b[3;94msps\u001b[0m=\u001b[35m1\u001b[0m\u001b[35m.080\u001b[0m \u001b[3;94mmtps\u001b[0m=\u001b[35m0\u001b[0m\u001b[35m.001\u001b[0m \u001b[3;94mmfu\u001b[0m=\u001b[35m43\u001b[0m\u001b[35m.743\u001b[0m \u001b[3;94mtrain_loss\u001b[0m=\u001b[35m2\u001b[0m\u001b[35m.555\u001b[0m \u001b[3;94mval_loss\u001b[0m=\u001b[35m2\u001b[0m\u001b[35m.557\u001b[0m\n",
      "\u001b[38;2;131;131;131m[2023-11-10 17:09:58]\u001b[0m\u001b[34m[INFO]\u001b[0m\u001b[38;2;119;119;119m[trainer.py:540\u001b[0m\u001b[38;2;119;119;119m]\u001b[0m - \u001b[3;94mstep\u001b[0m=\u001b[35m200\u001b[0m \u001b[3;94mloss\u001b[0m=\u001b[35m2\u001b[0m\u001b[35m.574\u001b[0m \u001b[3;94mdt\u001b[0m=\u001b[35m925\u001b[0m\u001b[35m.954\u001b[0m \u001b[3;94msps\u001b[0m=\u001b[35m1\u001b[0m\u001b[35m.080\u001b[0m \u001b[3;94mmtps\u001b[0m=\u001b[35m0\u001b[0m\u001b[35m.001\u001b[0m \u001b[3;94mmfu\u001b[0m=\u001b[35m43\u001b[0m\u001b[35m.741\u001b[0m \u001b[3;94mtrain_loss\u001b[0m=\u001b[35m2\u001b[0m\u001b[35m.555\u001b[0m \u001b[3;94mval_loss\u001b[0m=\u001b[35m2\u001b[0m\u001b[35m.557\u001b[0m\n",
      "\u001b[38;2;131;131;131m[2023-11-10 17:11:30]\u001b[0m\u001b[34m[INFO]\u001b[0m\u001b[38;2;119;119;119m[trainer.py:540\u001b[0m\u001b[38;2;119;119;119m]\u001b[0m - \u001b[3;94mstep\u001b[0m=\u001b[35m300\u001b[0m \u001b[3;94mloss\u001b[0m=\u001b[35m2\u001b[0m\u001b[35m.543\u001b[0m \u001b[3;94mdt\u001b[0m=\u001b[35m924\u001b[0m\u001b[35m.172\u001b[0m \u001b[3;94msps\u001b[0m=\u001b[35m1\u001b[0m\u001b[35m.082\u001b[0m \u001b[3;94mmtps\u001b[0m=\u001b[35m0\u001b[0m\u001b[35m.001\u001b[0m \u001b[3;94mmfu\u001b[0m=\u001b[35m43\u001b[0m\u001b[35m.747\u001b[0m \u001b[3;94mtrain_loss\u001b[0m=\u001b[35m2\u001b[0m\u001b[35m.555\u001b[0m \u001b[3;94mval_loss\u001b[0m=\u001b[35m2\u001b[0m\u001b[35m.557\u001b[0m\n",
      "\u001b[38;2;131;131;131m[2023-11-10 17:13:03]\u001b[0m\u001b[34m[INFO]\u001b[0m\u001b[38;2;119;119;119m[trainer.py:540\u001b[0m\u001b[38;2;119;119;119m]\u001b[0m - \u001b[3;94mstep\u001b[0m=\u001b[35m400\u001b[0m \u001b[3;94mloss\u001b[0m=\u001b[35m2\u001b[0m\u001b[35m.684\u001b[0m \u001b[3;94mdt\u001b[0m=\u001b[35m909\u001b[0m\u001b[35m.487\u001b[0m \u001b[3;94msps\u001b[0m=\u001b[35m1\u001b[0m\u001b[35m.100\u001b[0m \u001b[3;94mmtps\u001b[0m=\u001b[35m0\u001b[0m\u001b[35m.001\u001b[0m \u001b[3;94mmfu\u001b[0m=\u001b[35m43\u001b[0m\u001b[35m.824\u001b[0m \u001b[3;94mtrain_loss\u001b[0m=\u001b[35m2\u001b[0m\u001b[35m.555\u001b[0m \u001b[3;94mval_loss\u001b[0m=\u001b[35m2\u001b[0m\u001b[35m.557\u001b[0m\n",
      "\u001b[38;2;131;131;131m[2023-11-10 17:14:36]\u001b[0m\u001b[34m[INFO]\u001b[0m\u001b[38;2;119;119;119m[trainer.py:540\u001b[0m\u001b[38;2;119;119;119m]\u001b[0m - \u001b[3;94mstep\u001b[0m=\u001b[35m500\u001b[0m \u001b[3;94mloss\u001b[0m=\u001b[35m2\u001b[0m\u001b[35m.554\u001b[0m \u001b[3;94mdt\u001b[0m=\u001b[35m941\u001b[0m\u001b[35m.506\u001b[0m \u001b[3;94msps\u001b[0m=\u001b[35m1\u001b[0m\u001b[35m.062\u001b[0m \u001b[3;94mmtps\u001b[0m=\u001b[35m0\u001b[0m\u001b[35m.001\u001b[0m \u001b[3;94mmfu\u001b[0m=\u001b[35m43\u001b[0m\u001b[35m.742\u001b[0m \u001b[3;94mtrain_loss\u001b[0m=\u001b[35m2\u001b[0m\u001b[35m.555\u001b[0m \u001b[3;94mval_loss\u001b[0m=\u001b[35m2\u001b[0m\u001b[35m.557\u001b[0m\n",
      "\u001b[38;2;131;131;131m[2023-11-10 17:16:09]\u001b[0m\u001b[34m[INFO]\u001b[0m\u001b[38;2;119;119;119m[trainer.py:540\u001b[0m\u001b[38;2;119;119;119m]\u001b[0m - \u001b[3;94mstep\u001b[0m=\u001b[35m600\u001b[0m \u001b[3;94mloss\u001b[0m=\u001b[35m2\u001b[0m\u001b[35m.825\u001b[0m \u001b[3;94mdt\u001b[0m=\u001b[35m924\u001b[0m\u001b[35m.543\u001b[0m \u001b[3;94msps\u001b[0m=\u001b[35m1\u001b[0m\u001b[35m.082\u001b[0m \u001b[3;94mmtps\u001b[0m=\u001b[35m0\u001b[0m\u001b[35m.001\u001b[0m \u001b[3;94mmfu\u001b[0m=\u001b[35m43\u001b[0m\u001b[35m.747\u001b[0m \u001b[3;94mtrain_loss\u001b[0m=\u001b[35m2\u001b[0m\u001b[35m.555\u001b[0m \u001b[3;94mval_loss\u001b[0m=\u001b[35m2\u001b[0m\u001b[35m.557\u001b[0m\n",
      "\u001b[38;2;131;131;131m[2023-11-10 17:17:41]\u001b[0m\u001b[34m[INFO]\u001b[0m\u001b[38;2;119;119;119m[trainer.py:540\u001b[0m\u001b[38;2;119;119;119m]\u001b[0m - \u001b[3;94mstep\u001b[0m=\u001b[35m700\u001b[0m \u001b[3;94mloss\u001b[0m=\u001b[35m2\u001b[0m\u001b[35m.778\u001b[0m \u001b[3;94mdt\u001b[0m=\u001b[35m923\u001b[0m\u001b[35m.269\u001b[0m \u001b[3;94msps\u001b[0m=\u001b[35m1\u001b[0m\u001b[35m.083\u001b[0m \u001b[3;94mmtps\u001b[0m=\u001b[35m0\u001b[0m\u001b[35m.001\u001b[0m \u001b[3;94mmfu\u001b[0m=\u001b[35m43\u001b[0m\u001b[35m.757\u001b[0m \u001b[3;94mtrain_loss\u001b[0m=\u001b[35m2\u001b[0m\u001b[35m.555\u001b[0m \u001b[3;94mval_loss\u001b[0m=\u001b[35m2\u001b[0m\u001b[35m.557\u001b[0m\n",
      "\u001b[38;2;131;131;131m[2023-11-10 17:19:14]\u001b[0m\u001b[34m[INFO]\u001b[0m\u001b[38;2;119;119;119m[trainer.py:540\u001b[0m\u001b[38;2;119;119;119m]\u001b[0m - \u001b[3;94mstep\u001b[0m=\u001b[35m800\u001b[0m \u001b[3;94mloss\u001b[0m=\u001b[35m2\u001b[0m\u001b[35m.943\u001b[0m \u001b[3;94mdt\u001b[0m=\u001b[35m922\u001b[0m\u001b[35m.787\u001b[0m \u001b[3;94msps\u001b[0m=\u001b[35m1\u001b[0m\u001b[35m.084\u001b[0m \u001b[3;94mmtps\u001b[0m=\u001b[35m0\u001b[0m\u001b[35m.001\u001b[0m \u001b[3;94mmfu\u001b[0m=\u001b[35m43\u001b[0m\u001b[35m.769\u001b[0m \u001b[3;94mtrain_loss\u001b[0m=\u001b[35m2\u001b[0m\u001b[35m.555\u001b[0m \u001b[3;94mval_loss\u001b[0m=\u001b[35m2\u001b[0m\u001b[35m.557\u001b[0m\n",
      "\u001b[38;2;131;131;131m[2023-11-10 17:20:47]\u001b[0m\u001b[34m[INFO]\u001b[0m\u001b[38;2;119;119;119m[trainer.py:540\u001b[0m\u001b[38;2;119;119;119m]\u001b[0m - \u001b[3;94mstep\u001b[0m=\u001b[35m900\u001b[0m \u001b[3;94mloss\u001b[0m=\u001b[35m2\u001b[0m\u001b[35m.774\u001b[0m \u001b[3;94mdt\u001b[0m=\u001b[35m924\u001b[0m\u001b[35m.330\u001b[0m \u001b[3;94msps\u001b[0m=\u001b[35m1\u001b[0m\u001b[35m.082\u001b[0m \u001b[3;94mmtps\u001b[0m=\u001b[35m0\u001b[0m\u001b[35m.001\u001b[0m \u001b[3;94mmfu\u001b[0m=\u001b[35m43\u001b[0m\u001b[35m.772\u001b[0m \u001b[3;94mtrain_loss\u001b[0m=\u001b[35m2\u001b[0m\u001b[35m.555\u001b[0m \u001b[3;94mval_loss\u001b[0m=\u001b[35m2\u001b[0m\u001b[35m.557\u001b[0m\n",
      "\u001b[38;2;131;131;131m[2023-11-10 17:22:19]\u001b[0m\u001b[34m[INFO]\u001b[0m\u001b[38;2;119;119;119m[trainer.py:540\u001b[0m\u001b[38;2;119;119;119m]\u001b[0m - \u001b[3;94mstep\u001b[0m=\u001b[35m1000\u001b[0m \u001b[3;94mloss\u001b[0m=\u001b[35m2\u001b[0m\u001b[35m.801\u001b[0m \u001b[3;94mdt\u001b[0m=\u001b[35m940\u001b[0m\u001b[35m.139\u001b[0m \u001b[3;94msps\u001b[0m=\u001b[35m1\u001b[0m\u001b[35m.064\u001b[0m \u001b[3;94mmtps\u001b[0m=\u001b[35m0\u001b[0m\u001b[35m.001\u001b[0m \u001b[3;94mmfu\u001b[0m=\u001b[35m43\u001b[0m\u001b[35m.701\u001b[0m \u001b[3;94mtrain_loss\u001b[0m=\u001b[35m2\u001b[0m\u001b[35m.555\u001b[0m \u001b[3;94mval_loss\u001b[0m=\u001b[35m2\u001b[0m\u001b[35m.557\u001b[0m\n"
     ]
    }
   ],
   "source": [
    "trainer.train()"
   ]
  },
  {
   "cell_type": "markdown",
   "id": "aa5c0c5a-539a-462d-a9e3-0655e8e48d85",
   "metadata": {},
   "source": [
    "## Evaluate Model"
   ]
  },
  {
   "cell_type": "code",
   "execution_count": 7,
   "id": "98d0aa9a-a805-43e2-88e7-6b7639623d37",
   "metadata": {
    "execution": {
     "iopub.execute_input": "2023-11-10T23:22:58.141946Z",
     "iopub.status.busy": "2023-11-10T23:22:58.141543Z",
     "iopub.status.idle": "2023-11-10T23:23:24.682728Z",
     "shell.execute_reply": "2023-11-10T23:23:24.681662Z",
     "shell.execute_reply.started": "2023-11-10T23:22:58.141925Z"
    }
   },
   "outputs": [],
   "source": [
    "query = \"What is a supercomputer?\"\n",
    "outputs = trainer.evaluate(query, num_samples=1, display=False)"
   ]
  },
  {
   "cell_type": "code",
   "execution_count": 8,
   "id": "005861fb-c412-4c8b-9ec7-9cf3a3d7181c",
   "metadata": {
    "execution": {
     "iopub.execute_input": "2023-11-10T23:23:24.700310Z",
     "iopub.status.busy": "2023-11-10T23:23:24.700118Z",
     "iopub.status.idle": "2023-11-10T23:23:24.845461Z",
     "shell.execute_reply": "2023-11-10T23:23:24.845190Z",
     "shell.execute_reply.started": "2023-11-10T23:23:24.700274Z"
    }
   },
   "outputs": [
    {
     "data": {
      "text/html": [
       "<pre style=\"white-space:pre;overflow-x:auto;line-height:normal;font-family:Menlo,'DejaVu Sans Mono',consolas,'Courier New',monospace\"><span style=\"font-weight: bold\">[</span>prompt<span style=\"font-weight: bold\">]</span>: <span style=\"color: #008000; text-decoration-color: #008000\">\"What is a supercomputer?\"</span>\n",
       "</pre>\n"
      ],
      "text/plain": [
       "\u001b[1m[\u001b[0mprompt\u001b[1m]\u001b[0m: \u001b[32m\"What is a supercomputer?\"\u001b[0m\n"
      ]
     },
     "metadata": {},
     "output_type": "display_data"
    },
    {
     "data": {
      "text/html": [
       "<pre style=\"white-space:pre;overflow-x:auto;line-height:normal;font-family:Menlo,'DejaVu Sans Mono',consolas,'Courier New',monospace\"><span style=\"font-weight: bold\">[</span>response<span style=\"font-weight: bold\">]</span>:\n",
       "\n",
       "What is a supercomputer? When it comes to operating systems, a supercomputer is simply a large computer with a huge number of logical processing units consisting of thousands of processors. It has millions of instructions in its operating system, while a traditional computer operating system usually has a few dozen of instructions.\n",
       "\n",
       "The hypervisor does the actual OS job for the supercomputer. It looks like a virus, but it’s not. It’s a hypervisor.\n",
       "\n",
       "The OS does things like load and save files, but it does it by hooking onto other components in the supercomputer’s memory. The OS is simply programming instructions to transfer files from one host to another.\n",
       "\n",
       "The OS can perform all types of computational tasks, but it has to be able to load files and save files with only a few instructions, and it has to do that quickly without any instructions. The OS loads files into memory through a virtualized version of the OS in an array, with files in these arrays being accessed by only a portion of the OS’s processors. This puts the OS’s load of files in a bottleneck.\n",
       "\n",
       "We call this the bottlenecking of the OS, and we want to remove that bottlenecking in the OS to allow supercomputers to solve computational tasks. The OS will actually call into the CPU to ask for instructions, and the OS will load the files. The OS will use the OS’s memory to load files, and the OS is immune to the OS’s memory bottoming out.\n",
       "\n",
       "A key point is that the OS can load files onto any machine, but that fact is not the point. The point is that supercomputers are not just running a OS, but they’re running a hypervisor. This means they can have any number of processors, and this is where we come in. We’re trying to write a supercomputer from scratch. It’s a tall order, but we’re doing our best to keep the cost down so that we can get it implemented.\n",
       "\n",
       "Why is supercomputers important?\n",
       "\n",
       "The main reasons are that supercomputers tend to supply a large number of services—they’re very energy efficient. Supercomputers are also very expensive to buy, so even if you need a supercomputer with 1GB of memory this will be more expensive than renting. But supercomputers will also act as a processing cache for all other\n",
       "</pre>\n"
      ],
      "text/plain": [
       "\u001b[1m[\u001b[0mresponse\u001b[1m]\u001b[0m:\n",
       "\n",
       "What is a supercomputer? When it comes to operating systems, a supercomputer is simply a large computer with a huge number of logical processing units consisting of thousands of processors. It has millions of instructions in its operating system, while a traditional computer operating system usually has a few dozen of instructions.\n",
       "\n",
       "The hypervisor does the actual OS job for the supercomputer. It looks like a virus, but it’s not. It’s a hypervisor.\n",
       "\n",
       "The OS does things like load and save files, but it does it by hooking onto other components in the supercomputer’s memory. The OS is simply programming instructions to transfer files from one host to another.\n",
       "\n",
       "The OS can perform all types of computational tasks, but it has to be able to load files and save files with only a few instructions, and it has to do that quickly without any instructions. The OS loads files into memory through a virtualized version of the OS in an array, with files in these arrays being accessed by only a portion of the OS’s processors. This puts the OS’s load of files in a bottleneck.\n",
       "\n",
       "We call this the bottlenecking of the OS, and we want to remove that bottlenecking in the OS to allow supercomputers to solve computational tasks. The OS will actually call into the CPU to ask for instructions, and the OS will load the files. The OS will use the OS’s memory to load files, and the OS is immune to the OS’s memory bottoming out.\n",
       "\n",
       "A key point is that the OS can load files onto any machine, but that fact is not the point. The point is that supercomputers are not just running a OS, but they’re running a hypervisor. This means they can have any number of processors, and this is where we come in. We’re trying to write a supercomputer from scratch. It’s a tall order, but we’re doing our best to keep the cost down so that we can get it implemented.\n",
       "\n",
       "Why is supercomputers important?\n",
       "\n",
       "The main reasons are that supercomputers tend to supply a large number of services—they’re very energy efficient. Supercomputers are also very expensive to buy, so even if you need a supercomputer with 1GB of memory this will be more expensive than renting. But supercomputers will also act as a processing cache for all other\n"
      ]
     },
     "metadata": {},
     "output_type": "display_data"
    }
   ],
   "source": [
    "from rich.text import Text\n",
    "from enrich.console import get_console\n",
    "console = get_console()\n",
    "\n",
    "console.print(fr'\\[prompt]: \"{query}\"')\n",
    "console.print(\"\\[response]:\\n\\n\" + fr\"{outputs['0']['raw']}\")"
   ]
  },
  {
   "cell_type": "code",
   "execution_count": null,
   "id": "51ee61dc-ab9f-4502-8ca4-13ed2641a11f",
   "metadata": {},
   "outputs": [],
   "source": []
  }
 ],
 "metadata": {
  "kernelspec": {
   "display_name": "Python 3 (ipykernel)",
   "language": "python",
   "name": "python3"
  },
  "language_info": {
   "codemirror_mode": {
    "name": "ipython",
    "version": 3
   },
   "file_extension": ".py",
   "mimetype": "text/x-python",
   "name": "python",
   "nbconvert_exporter": "python",
   "pygments_lexer": "ipython3",
   "version": "3.10.8"
  }
 },
 "nbformat": 4,
 "nbformat_minor": 5
}
