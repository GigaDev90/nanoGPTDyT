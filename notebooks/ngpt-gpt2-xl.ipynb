{
 "cells": [
  {
   "cell_type": "markdown",
   "id": "1fc5d004-5e6f-4bb3-938e-fb44f919cec3",
   "metadata": {},
   "source": [
    "# `nanoGPT`"
   ]
  },
  {
   "cell_type": "markdown",
   "id": "bd994b32-ca5f-4e00-81d3-89dbbf7b2093",
   "metadata": {},
   "source": [
    "## Install / Setup"
   ]
  },
  {
   "cell_type": "markdown",
   "id": "71c38d27-5acb-4e5d-87c8-dbb2739cf277",
   "metadata": {},
   "source": [
    "### First Time Running\n",
    "\n",
    "We need to install `ngpt` and setup the Shakespeare dataset\n",
    "\n",
    "This will need to be ran the first time you are running this notebook.\n",
    "\n",
    "Following the\n",
    "\n",
    "```python\n",
    "!python3 -m pip install nanoGPT\n",
    "```\n",
    "\n",
    "you will need to restart your runtime (Runtime -> Restart runtime)\n",
    "\n",
    "After this, you should be able to\n",
    "\n",
    "```python\n",
    ">>> import ngpt\n",
    ">>> ngpt.__file__\n",
    "'/content/nanoGPT/src/ngpt/__init__.py'\n",
    "```"
   ]
  },
  {
   "cell_type": "code",
   "execution_count": 1,
   "id": "ea233681-405f-4754-a394-e8e6c57080df",
   "metadata": {
    "execution": {
     "iopub.execute_input": "2023-11-10T23:34:14.658092Z",
     "iopub.status.busy": "2023-11-10T23:34:14.657845Z",
     "iopub.status.idle": "2023-11-10T23:34:14.818571Z",
     "shell.execute_reply": "2023-11-10T23:34:14.818069Z",
     "shell.execute_reply.started": "2023-11-10T23:34:14.658074Z"
    }
   },
   "outputs": [
    {
     "name": "stdout",
     "output_type": "stream",
     "text": [
      "/lus/grand/projects/datascience/foremans/locations/thetaGPU/projects/saforem2/nanoGPT/src/ngpt/__init__.py\n",
      "Has ngpt installed. Nothing to do.\n"
     ]
    }
   ],
   "source": [
    "%%bash\n",
    "\n",
    "python3 -c 'import ngpt; print(ngpt.__file__)' 2> '/dev/null'\n",
    "\n",
    "if [[ $? -eq 0 ]]; then\n",
    "    echo \"Has ngpt installed. Nothing to do.\"\n",
    "else\n",
    "    echo \"Does not have ngpt installed. Installing...\"\n",
    "    git clone 'https://github.com/saforem2/nanoGPT'\n",
    "    python3 nanoGPT/data/shakespeare_char/prepare.py\n",
    "    python3 -m pip install -e nanoGPT -vvv\n",
    "fi"
   ]
  },
  {
   "cell_type": "markdown",
   "id": "c14a8da7-72fe-4839-a14d-f01606285fc3",
   "metadata": {},
   "source": [
    "## Post Install\n",
    "\n",
    "If installed correctly, you should be able to:\n",
    "\n",
    "```python\n",
    ">>> import ngpt\n",
    ">>> ngpt.__file__\n",
    "'/path/to/nanoGPT/src/ngpt/__init__.py'\n",
    "```"
   ]
  },
  {
   "cell_type": "code",
   "execution_count": 2,
   "id": "9fbf22d1-34ba-48ae-a78e-fc447fc9a0de",
   "metadata": {
    "execution": {
     "iopub.execute_input": "2023-11-10T23:34:24.714904Z",
     "iopub.status.busy": "2023-11-10T23:34:24.714691Z",
     "iopub.status.idle": "2023-11-10T23:34:24.871424Z",
     "shell.execute_reply": "2023-11-10T23:34:24.870954Z",
     "shell.execute_reply.started": "2023-11-10T23:34:24.714887Z"
    }
   },
   "outputs": [
    {
     "name": "stdout",
     "output_type": "stream",
     "text": [
      "The autoreload extension is already loaded. To reload it, use:\n",
      "  %reload_ext autoreload\n"
     ]
    },
    {
     "data": {
      "text/html": [
       "<pre style=\"white-space:pre;overflow-x:auto;line-height:normal;font-family:Menlo,'DejaVu Sans Mono',consolas,'Courier New',monospace\"><span style=\"color: #800080; text-decoration-color: #800080\">/lus/grand/projects/datascience/foremans/locations/thetaGPU/projects/saforem2/nanoGPT/src/ngpt/</span><span style=\"color: #ff00ff; text-decoration-color: #ff00ff\">__init__.py</span>\n",
       "</pre>\n"
      ],
      "text/plain": [
       "\u001b[35m/lus/grand/projects/datascience/foremans/locations/thetaGPU/projects/saforem2/nanoGPT/src/ngpt/\u001b[0m\u001b[95m__init__.py\u001b[0m\n"
      ]
     },
     "metadata": {},
     "output_type": "display_data"
    }
   ],
   "source": [
    "%load_ext autoreload\n",
    "%autoreload 2\n",
    "\n",
    "import ngpt\n",
    "from rich import print\n",
    "print(ngpt.__file__)"
   ]
  },
  {
   "cell_type": "markdown",
   "id": "e329ed94-582e-4aa8-bbe0-ba56782fe9e9",
   "metadata": {},
   "source": [
    "## Build Trainer\n",
    "\n",
    "Explicitly, we:\n",
    "\n",
    "1. `setup_torch(...)`\n",
    "2. Build `cfg: DictConfig = get_config(...)`\n",
    "3. Instnatiate `config: ExperimentConfig = instantiate(cfg)`\n",
    "4. Build `trainer = Trainer(config)`"
   ]
  },
  {
   "cell_type": "code",
   "execution_count": 3,
   "id": "7d12405a-8f88-476b-8922-a1a212adc682",
   "metadata": {
    "execution": {
     "iopub.execute_input": "2023-11-10T23:35:57.026755Z",
     "iopub.status.busy": "2023-11-10T23:35:57.026403Z",
     "iopub.status.idle": "2023-11-10T23:36:58.142884Z",
     "shell.execute_reply": "2023-11-10T23:36:58.142160Z",
     "shell.execute_reply.started": "2023-11-10T23:35:57.026736Z"
    }
   },
   "outputs": [
    {
     "name": "stderr",
     "output_type": "stream",
     "text": [
      "--------------------------------------------------------------------------\n",
      "WARNING: There was an error initializing an OpenFabrics device.\n",
      "\n",
      "  Local host:   thetagpu24\n",
      "  Local device: mlx5_0\n",
      "--------------------------------------------------------------------------\n"
     ]
    },
    {
     "data": {
      "text/html": [
       "<pre style=\"white-space:pre;overflow-x:auto;line-height:normal;font-family:Menlo,'DejaVu Sans Mono',consolas,'Courier New',monospace\">SEED: <span style=\"color: #800080; text-decoration-color: #800080\">125313342</span>\n",
       "</pre>\n"
      ],
      "text/plain": [
       "SEED: \u001b[35m125313342\u001b[0m\n"
      ]
     },
     "metadata": {},
     "output_type": "display_data"
    },
    {
     "data": {
      "text/html": [
       "<pre style=\"white-space:pre;overflow-x:auto;line-height:normal;font-family:Menlo,'DejaVu Sans Mono',consolas,'Courier New',monospace\">RANK: 0 / 0\n",
       "</pre>\n"
      ],
      "text/plain": [
       "RANK: 0 / 0\n"
      ]
     },
     "metadata": {},
     "output_type": "display_data"
    },
    {
     "name": "stdout",
     "output_type": "stream",
     "text": [
      "\u001b[38;2;131;131;131m[2023-11-10 17:36:01]\u001b[0m\u001b[33m[WARNING]\u001b[0m\u001b[38;2;119;119;119m[configs.py:298\u001b[0m\u001b[38;2;119;119;119m]\u001b[0m - No meta.pkl found, assuming GPT-\u001b[35m2\u001b[0m encodings\u001b[33m...\u001b[0m\n",
      "\u001b[38;2;131;131;131m[2023-11-10 17:36:01]\u001b[0m\u001b[34m[INFO]\u001b[0m\u001b[38;2;119;119;119m[configs.py:264\u001b[0m\u001b[38;2;119;119;119m]\u001b[0m - Rescaling GAS -> GAS \u001b[32m/\u001b[0m\u001b[32m/\u001b[0m WORLD_SIZE = \u001b[35m1\u001b[0m \u001b[32m/\u001b[0m\u001b[32m/\u001b[0m \u001b[35m1\u001b[0m\n",
      "\u001b[38;2;131;131;131m[2023-11-10 17:36:01]\u001b[0m\u001b[34m[INFO]\u001b[0m\u001b[38;2;119;119;119m[configs.py:399\u001b[0m\u001b[38;2;119;119;119m]\u001b[0m - Tokens per iteration: \u001b[35m1\u001b[0m,\u001b[35m024\u001b[0m\n",
      "\u001b[38;2;131;131;131m[2023-11-10 17:36:01]\u001b[0m\u001b[34m[INFO]\u001b[0m\u001b[38;2;119;119;119m[configs.py:431\u001b[0m\u001b[38;2;119;119;119m]\u001b[0m - Using \u001b[1m<\u001b[0m\u001b[1;95mtorch.amp.autocast_mode.autocast\u001b[0m\u001b[39m object at \u001b[0m\u001b[35m0x7f98e0139660\u001b[0m\u001b[1m>\u001b[0m\n",
      "\u001b[38;2;131;131;131m[2023-11-10 17:36:01]\u001b[0m\u001b[34m[INFO]\u001b[0m\u001b[38;2;119;119;119m[trainer.py:184\u001b[0m\u001b[38;2;119;119;119m]\u001b[0m - Initializing from OpenAI GPT-\u001b[35m2\u001b[0m Weights: gpt2-xl\n"
     ]
    },
    {
     "name": "stderr",
     "output_type": "stream",
     "text": [
      "2023-11-10 17:36:01.777923: I tensorflow/core/platform/cpu_feature_guard.cc:193] This TensorFlow binary is optimized with oneAPI Deep Neural Network Library (oneDNN) to use the following CPU instructions in performance-critical operations:  SSE3 SSE4.1 SSE4.2 AVX AVX2 FMA\n",
      "To enable them in other operations, rebuild TensorFlow with the appropriate compiler flags.\n"
     ]
    },
    {
     "data": {
      "text/html": [
       "<pre style=\"white-space:pre;overflow-x:auto;line-height:normal;font-family:Menlo,'DejaVu Sans Mono',consolas,'Courier New',monospace\">[2023-11-10 17:36:05,925] [INFO] [real_accelerator.py:158:get_accelerator] Setting ds_accelerator to cuda (auto detect)\n",
       "</pre>\n"
      ],
      "text/plain": [
       "[2023-11-10 17:36:05,925] [INFO] [real_accelerator.py:158:get_accelerator] Setting ds_accelerator to cuda (auto detect)\n"
      ]
     },
     "metadata": {},
     "output_type": "display_data"
    },
    {
     "name": "stdout",
     "output_type": "stream",
     "text": [
      "\u001b[38;2;131;131;131m[2023-11-10 17:36:06]\u001b[0m\u001b[34m[INFO]\u001b[0m\u001b[38;2;119;119;119m[model.py:225\u001b[0m\u001b[38;2;119;119;119m]\u001b[0m - loading weights from pretrained gpt: gpt2-xl\n",
      "\u001b[38;2;131;131;131m[2023-11-10 17:36:06]\u001b[0m\u001b[34m[INFO]\u001b[0m\u001b[38;2;119;119;119m[model.py:234\u001b[0m\u001b[38;2;119;119;119m]\u001b[0m - forcing \u001b[3;94mvocab_size\u001b[0m=\u001b[35m50257\u001b[0m, \u001b[3;94mblock_size\u001b[0m=\u001b[35m1024\u001b[0m, \u001b[3;94mbias\u001b[0m=\u001b[3;92mTrue\u001b[0m\n",
      "\u001b[38;2;131;131;131m[2023-11-10 17:36:06]\u001b[0m\u001b[34m[INFO]\u001b[0m\u001b[38;2;119;119;119m[model.py:240\u001b[0m\u001b[38;2;119;119;119m]\u001b[0m - overriding dropout rate to \u001b[35m0.0\u001b[0m\n",
      "\u001b[38;2;131;131;131m[2023-11-10 17:36:29]\u001b[0m\u001b[34m[INFO]\u001b[0m\u001b[38;2;119;119;119m[model.py:160\u001b[0m\u001b[38;2;119;119;119m]\u001b[0m - number of parameters: \u001b[35m1555.\u001b[0m97M\n",
      "\u001b[38;2;131;131;131m[2023-11-10 17:36:56]\u001b[0m\u001b[34m[INFO]\u001b[0m\u001b[38;2;119;119;119m[model.py:290\u001b[0m\u001b[38;2;119;119;119m]\u001b[0m - num decayed parameter tensors: \u001b[35m194\u001b[0m, with \u001b[35m1\u001b[0m,\u001b[35m556\u001b[0m,\u001b[35m609\u001b[0m,\u001b[35m600\u001b[0m parameters\n",
      "\u001b[38;2;131;131;131m[2023-11-10 17:36:56]\u001b[0m\u001b[34m[INFO]\u001b[0m\u001b[38;2;119;119;119m[model.py:291\u001b[0m\u001b[38;2;119;119;119m]\u001b[0m - num non-decayed parameter tensors: \u001b[35m386\u001b[0m, with \u001b[35m1\u001b[0m,\u001b[35m001\u001b[0m,\u001b[35m600\u001b[0m parameters\n",
      "\u001b[38;2;131;131;131m[2023-11-10 17:36:56]\u001b[0m\u001b[34m[INFO]\u001b[0m\u001b[38;2;119;119;119m[model.py:297\u001b[0m\u001b[38;2;119;119;119m]\u001b[0m - using fused AdamW: \u001b[3;92mTrue\u001b[0m\n"
     ]
    }
   ],
   "source": [
    "import os\n",
    "import numpy as np\n",
    "from ezpz import setup_torch\n",
    "from hydra.utils import instantiate\n",
    "from ngpt.configs import get_config, PROJECT_ROOT\n",
    "from ngpt.trainer import Trainer\n",
    "from enrich.console import get_console\n",
    "\n",
    "console = get_console()\n",
    "HF_DATASETS_CACHE = PROJECT_ROOT.joinpath('.cache', 'huggingface')\n",
    "HF_DATASETS_CACHE.mkdir(exist_ok=True, parents=True)\n",
    "\n",
    "os.environ['MASTER_PORT'] = '5127'\n",
    "os.environ['HF_DATASETS_CACHE'] = HF_DATASETS_CACHE.as_posix()\n",
    "\n",
    "SEED = np.random.randint(2**32)\n",
    "console.print(f'SEED: {SEED}')\n",
    "\n",
    "rank = setup_torch('DDP', seed=1234)\n",
    "cfg = get_config(\n",
    "    [\n",
    "        'data=owt',\n",
    "        'model=gpt2_xl',\n",
    "        'optimizer=gpt2_xl',\n",
    "        'train=gpt2_xl',\n",
    "        'train.init_from=gpt2-xl',\n",
    "        'train.max_iters=100',\n",
    "        'train.dtype=bfloat16',\n",
    "    ]\n",
    ")\n",
    "config = instantiate(cfg)\n",
    "trainer = Trainer(config)"
   ]
  },
  {
   "cell_type": "markdown",
   "id": "3b6d7193-d882-4cb5-b9ad-20813b1a3ea2",
   "metadata": {},
   "source": [
    "## Prompt (**prior** to training)"
   ]
  },
  {
   "cell_type": "code",
   "execution_count": 4,
   "id": "74186534-a25a-4ea6-bcfa-bfe9363b21d9",
   "metadata": {
    "execution": {
     "iopub.execute_input": "2023-11-10T23:37:28.671060Z",
     "iopub.status.busy": "2023-11-10T23:37:28.670739Z",
     "iopub.status.idle": "2023-11-10T23:37:55.686024Z",
     "shell.execute_reply": "2023-11-10T23:37:55.684694Z",
     "shell.execute_reply.started": "2023-11-10T23:37:28.671041Z"
    }
   },
   "outputs": [
    {
     "data": {
      "text/html": [
       "<pre style=\"white-space:pre;overflow-x:auto;line-height:normal;font-family:Menlo,'DejaVu Sans Mono',consolas,'Courier New',monospace\"><span style=\"font-weight: bold\">[</span>prompt<span style=\"font-weight: bold\">]</span>: <span style=\"color: #008000; text-decoration-color: #008000\">\"What is a supercomputer?\"</span>\n",
       "</pre>\n"
      ],
      "text/plain": [
       "\u001b[1m[\u001b[0mprompt\u001b[1m]\u001b[0m: \u001b[32m\"What is a supercomputer?\"\u001b[0m\n"
      ]
     },
     "metadata": {},
     "output_type": "display_data"
    },
    {
     "data": {
      "text/html": [
       "<pre style=\"white-space:pre;overflow-x:auto;line-height:normal;font-family:Menlo,'DejaVu Sans Mono',consolas,'Courier New',monospace\"><span style=\"font-weight: bold\">[</span>response<span style=\"font-weight: bold\">]</span>:\n",
       "\n",
       "What is a supercomputer? When it comes to massive computing, a supercomputer is simply a large computer system that has the ability to perform many calculations at once. This can be the result of using many different processing cores, or memory, or operating at a high clock speed. Supercomputers are often used to crack complex calculations and research problems.\n",
       "\n",
       "Image credit: Wikipedia\n",
       "\n",
       "Image credit: Wikipedia\n",
       "\n",
       "Image credit: Wikipedia\n",
       "\n",
       "Image credit: Wikipedia\n",
       "\n",
       "Image credit: Wikipedia\n",
       "\n",
       "Image credit: Wikipedia\n",
       "\n",
       "Image credit: Wikipedia\n",
       "\n",
       "Image credit: Wikipedia\n",
       "\n",
       "Image credit: Wikipedia\n",
       "\n",
       "Image credit: Wikipedia\n",
       "\n",
       "Image credit: Wikipedia\n",
       "\n",
       "Image credit: Wikipedia\n",
       "\n",
       "Image credit: Wikipedia\n",
       "\n",
       "Image credit: Wikipedia\n",
       "\n",
       "Image credit: Wikipedia\n",
       "\n",
       "Image credit: Wikipedia\n",
       "\n",
       "Image credit: Wikipedia\n",
       "\n",
       "Image credit: Wikipedia\n",
       "\n",
       "Image credit: Wikipedia\n",
       "\n",
       "Image credit: Wikipedia\n",
       "\n",
       "Image credit: Wikipedia\n",
       "\n",
       "On a larger scale, these massive computers are used to solve tough mathematical equations and solve hard scientific problems. They are very powerful enough to emulate the workings of the human brain and simulate a human intelligence in a virtual world.\n",
       "\n",
       "Image credit: Wikipedia\n",
       "\n",
       "Image credit: Wikipedia\n",
       "\n",
       "Image credit: Wikipedia\n",
       "\n",
       "Image credit: Wikipedia\n",
       "\n",
       "Image credit: Wikipedia\n",
       "\n",
       "In <span style=\"color: #800080; text-decoration-color: #800080\">1992</span>, IBM's NeXTStep supercomputer was the largest and most powerful supercomputer in the world. It was released in <span style=\"color: #800080; text-decoration-color: #800080\">1995</span> and did not continue to live up to its original promises, because its capabilities were quickly surpassed by its competitors.\n",
       "\n",
       "Image credit: Wikipedia\n",
       "\n",
       "Image credit: Wikipedia\n",
       "\n",
       "Image credit: Wikipedia\n",
       "\n",
       "Image credit: Wikipedia\n",
       "\n",
       "Image credit: Wikipedia\n",
       "\n",
       "Image credit: Wikipedia\n",
       "\n",
       "Image credit: Wikipedia\n",
       "\n",
       "Image credit: Wikipedia<span style=\"font-weight: bold\">&lt;</span><span style=\"color: #ff00ff; text-decoration-color: #ff00ff; font-weight: bold\">|endoftext|</span><span style=\"font-weight: bold\">&gt;</span>Editor's note: Dan De Luce is the author of <span style=\"color: #008000; text-decoration-color: #008000\">\"When the Going Gets Tough: The New Survival Guide for College Students and Your Health and Well-Being.\"</span>\n",
       "\n",
       "College has never been more expensive. But with so many choices and so many choices of where to go, it's harder than ever for prospective students to find a college that fits their lifestyle.\n",
       "\n",
       "This is a problem—not just because it can be a hassle to find a college that doesn't require a large amount of financial aid. It's a problem because it can be costly for students to stay in college.\n",
       "\n",
       "So I created this list of colleges with the highest tuition where\n",
       "</pre>\n"
      ],
      "text/plain": [
       "\u001b[1m[\u001b[0mresponse\u001b[1m]\u001b[0m:\n",
       "\n",
       "What is a supercomputer? When it comes to massive computing, a supercomputer is simply a large computer system that has the ability to perform many calculations at once. This can be the result of using many different processing cores, or memory, or operating at a high clock speed. Supercomputers are often used to crack complex calculations and research problems.\n",
       "\n",
       "Image credit: Wikipedia\n",
       "\n",
       "Image credit: Wikipedia\n",
       "\n",
       "Image credit: Wikipedia\n",
       "\n",
       "Image credit: Wikipedia\n",
       "\n",
       "Image credit: Wikipedia\n",
       "\n",
       "Image credit: Wikipedia\n",
       "\n",
       "Image credit: Wikipedia\n",
       "\n",
       "Image credit: Wikipedia\n",
       "\n",
       "Image credit: Wikipedia\n",
       "\n",
       "Image credit: Wikipedia\n",
       "\n",
       "Image credit: Wikipedia\n",
       "\n",
       "Image credit: Wikipedia\n",
       "\n",
       "Image credit: Wikipedia\n",
       "\n",
       "Image credit: Wikipedia\n",
       "\n",
       "Image credit: Wikipedia\n",
       "\n",
       "Image credit: Wikipedia\n",
       "\n",
       "Image credit: Wikipedia\n",
       "\n",
       "Image credit: Wikipedia\n",
       "\n",
       "Image credit: Wikipedia\n",
       "\n",
       "Image credit: Wikipedia\n",
       "\n",
       "Image credit: Wikipedia\n",
       "\n",
       "On a larger scale, these massive computers are used to solve tough mathematical equations and solve hard scientific problems. They are very powerful enough to emulate the workings of the human brain and simulate a human intelligence in a virtual world.\n",
       "\n",
       "Image credit: Wikipedia\n",
       "\n",
       "Image credit: Wikipedia\n",
       "\n",
       "Image credit: Wikipedia\n",
       "\n",
       "Image credit: Wikipedia\n",
       "\n",
       "Image credit: Wikipedia\n",
       "\n",
       "In \u001b[35m1992\u001b[0m, IBM's NeXTStep supercomputer was the largest and most powerful supercomputer in the world. It was released in \u001b[35m1995\u001b[0m and did not continue to live up to its original promises, because its capabilities were quickly surpassed by its competitors.\n",
       "\n",
       "Image credit: Wikipedia\n",
       "\n",
       "Image credit: Wikipedia\n",
       "\n",
       "Image credit: Wikipedia\n",
       "\n",
       "Image credit: Wikipedia\n",
       "\n",
       "Image credit: Wikipedia\n",
       "\n",
       "Image credit: Wikipedia\n",
       "\n",
       "Image credit: Wikipedia\n",
       "\n",
       "Image credit: Wikipedia\u001b[1m<\u001b[0m\u001b[1;95m|endoftext|\u001b[0m\u001b[1m>\u001b[0mEditor's note: Dan De Luce is the author of \u001b[32m\"When the Going Gets Tough: The New Survival Guide for College Students and Your Health and Well-Being.\"\u001b[0m\n",
       "\n",
       "College has never been more expensive. But with so many choices and so many choices of where to go, it's harder than ever for prospective students to find a college that fits their lifestyle.\n",
       "\n",
       "This is a problem—not just because it can be a hassle to find a college that doesn't require a large amount of financial aid. It's a problem because it can be costly for students to stay in college.\n",
       "\n",
       "So I created this list of colleges with the highest tuition where\n"
      ]
     },
     "metadata": {},
     "output_type": "display_data"
    }
   ],
   "source": [
    "query = \"What is a supercomputer?\"\n",
    "outputs = trainer.evaluate(query, num_samples=1, display=False)\n",
    "console.print(fr'\\[prompt]: \"{query}\"')\n",
    "console.print(\"\\[response]:\\n\\n\" + fr\"{outputs['0']['raw']}\")"
   ]
  },
  {
   "cell_type": "markdown",
   "id": "c5202ff3-8811-47c9-8b9d-9818d4603697",
   "metadata": {},
   "source": [
    "## Train Model\n",
    "\n",
    "\n",
    "|  **NAME**  |     **DESCRIPTION**          |\n",
    "|:----------:|:----------------------------:|\n",
    "|   `step`   | Current training step        |\n",
    "|   `loss`   | Loss value                   |\n",
    "|   `dt`     | Time per step (in **ms**)    |\n",
    "|   `sps`    | Samples per second           |\n",
    "|   `mtps`   | (million) Tokens per sec     |\n",
    "|   `mfu`    | Model Flops Utilization*     |\n",
    "^Logging Legend\n",
    "\n",
    "*in units of A100 `bfloat16` peak FLOPS"
   ]
  },
  {
   "cell_type": "code",
   "execution_count": 5,
   "id": "acb8d33b-f8c9-41c6-aa61-95bdb76bf6ea",
   "metadata": {
    "execution": {
     "iopub.execute_input": "2023-11-10T23:38:30.296668Z",
     "iopub.status.busy": "2023-11-10T23:38:30.296282Z",
     "iopub.status.idle": "2023-11-10T23:41:58.940386Z",
     "shell.execute_reply": "2023-11-10T23:41:58.940099Z",
     "shell.execute_reply.started": "2023-11-10T23:38:30.296643Z"
    }
   },
   "outputs": [
    {
     "data": {
      "application/vnd.jupyter.widget-view+json": {
       "model_id": "1897347d7dad474bae15e030545afb6e",
       "version_major": 2,
       "version_minor": 0
      },
      "text/plain": [
       "  0%|          | 0/100 [00:00<?, ?it/s]"
      ]
     },
     "metadata": {},
     "output_type": "display_data"
    },
    {
     "name": "stdout",
     "output_type": "stream",
     "text": [
      "\u001b[38;2;131;131;131m[2023-11-10 17:41:58]\u001b[0m\u001b[34m[INFO]\u001b[0m\u001b[38;2;119;119;119m[trainer.py:540\u001b[0m\u001b[38;2;119;119;119m]\u001b[0m - \u001b[3;94mstep\u001b[0m=\u001b[35m100\u001b[0m \u001b[3;94mloss\u001b[0m=\u001b[35m2\u001b[0m\u001b[35m.505\u001b[0m \u001b[3;94mdt\u001b[0m=\u001b[35m922\u001b[0m\u001b[35m.295\u001b[0m \u001b[3;94msps\u001b[0m=\u001b[35m1\u001b[0m\u001b[35m.084\u001b[0m \u001b[3;94mmtps\u001b[0m=\u001b[35m0\u001b[0m\u001b[35m.001\u001b[0m \u001b[3;94mmfu\u001b[0m=\u001b[35m43\u001b[0m\u001b[35m.897\u001b[0m \u001b[3;94mtrain_loss\u001b[0m=\u001b[35m2\u001b[0m\u001b[35m.555\u001b[0m \u001b[3;94mval_loss\u001b[0m=\u001b[35m2\u001b[0m\u001b[35m.558\u001b[0m\n"
     ]
    }
   ],
   "source": [
    "trainer.model.module.train()\n",
    "trainer.train()"
   ]
  },
  {
   "cell_type": "markdown",
   "id": "aa5c0c5a-539a-462d-a9e3-0655e8e48d85",
   "metadata": {},
   "source": [
    "## Evaluate Model"
   ]
  },
  {
   "cell_type": "code",
   "execution_count": 6,
   "id": "98d0aa9a-a805-43e2-88e7-6b7639623d37",
   "metadata": {
    "execution": {
     "iopub.execute_input": "2023-11-10T23:49:06.501144Z",
     "iopub.status.busy": "2023-11-10T23:49:06.500608Z",
     "iopub.status.idle": "2023-11-10T23:49:32.884119Z",
     "shell.execute_reply": "2023-11-10T23:49:32.883419Z",
     "shell.execute_reply.started": "2023-11-10T23:49:06.501093Z"
    }
   },
   "outputs": [],
   "source": [
    "query = \"What is a supercomputer?\"\n",
    "outputs = trainer.evaluate(query, num_samples=1, display=False)"
   ]
  },
  {
   "cell_type": "code",
   "execution_count": 7,
   "id": "005861fb-c412-4c8b-9ec7-9cf3a3d7181c",
   "metadata": {
    "execution": {
     "iopub.execute_input": "2023-11-10T23:49:32.885647Z",
     "iopub.status.busy": "2023-11-10T23:49:32.885441Z",
     "iopub.status.idle": "2023-11-10T23:49:33.035680Z",
     "shell.execute_reply": "2023-11-10T23:49:33.035426Z",
     "shell.execute_reply.started": "2023-11-10T23:49:32.885629Z"
    }
   },
   "outputs": [
    {
     "data": {
      "text/html": [
       "<pre style=\"white-space:pre;overflow-x:auto;line-height:normal;font-family:Menlo,'DejaVu Sans Mono',consolas,'Courier New',monospace\"><span style=\"font-weight: bold\">[</span>prompt<span style=\"font-weight: bold\">]</span>: <span style=\"color: #008000; text-decoration-color: #008000\">\"What is a supercomputer?\"</span>\n",
       "</pre>\n"
      ],
      "text/plain": [
       "\u001b[1m[\u001b[0mprompt\u001b[1m]\u001b[0m: \u001b[32m\"What is a supercomputer?\"\u001b[0m\n"
      ]
     },
     "metadata": {},
     "output_type": "display_data"
    },
    {
     "data": {
      "text/html": [
       "<pre style=\"white-space:pre;overflow-x:auto;line-height:normal;font-family:Menlo,'DejaVu Sans Mono',consolas,'Courier New',monospace\"><span style=\"font-weight: bold\">[</span>response<span style=\"font-weight: bold\">]</span>:\n",
       "\n",
       "What is a supercomputer? A supercomputer is a machine that is exponentially more powerful than previous computing models while being far more energy efficient.\n",
       "\n",
       "What is an artificial neural network? An artificial neural network <span style=\"font-weight: bold\">(</span>ANN<span style=\"font-weight: bold\">)</span> is an order of magnitude more powerful than previous computational models, but has the same energy efficiency.\n",
       "\n",
       "For this article I will be using a machine learning technique called Backward-Compatible Neural Networks <span style=\"font-weight: bold\">(</span>BCNNs<span style=\"font-weight: bold\">)</span> to represent the biological brain.\n",
       "\n",
       "The BCNNs model is very similar to the neural networks utilized in deep learning, but has the added bonus of being able to <span style=\"color: #008000; text-decoration-color: #008000\">'decouple'</span> the learning from the final results.\n",
       "\n",
       "BCNN for Machine Learning\n",
       "\n",
       "In order to make the transition from neural networks to BCNNs we will follow the same basic principles as we did with neural networks.\n",
       "\n",
       "However, instead of the neurons in neural networks that represent the data being represented, BCNNs work with nodes instead. This is because the nodes are the data, while the neurons are the information.\n",
       "\n",
       "In case you aren’t familiar with the term node, it is a symbol representing any type of data. For instance, it could be a datum in a neural network model.\n",
       "\n",
       "Another way to think of them is as symbols.\n",
       "\n",
       "The basic idea of nodes and connections is that a node can have many connections to other nodes, with each node linked to a connection to a larger entity.\n",
       "\n",
       "For instance, a node might have a target, which is just a point in space. A connection might have a value, which is just a number between <span style=\"color: #800080; text-decoration-color: #800080\">0</span> and <span style=\"color: #800080; text-decoration-color: #800080\">1</span>.\n",
       "\n",
       "Something like this:\n",
       "\n",
       "Node Value <span style=\"color: #800080; text-decoration-color: #800080\">-0.1</span> <span style=\"color: #800080; text-decoration-color: #800080\">0.1</span> <span style=\"color: #800080; text-decoration-color: #800080\">0.1</span> <span style=\"color: #800080; text-decoration-color: #800080\">0.1</span>\n",
       "\n",
       "The important thing to note, is that the value is a number between <span style=\"color: #800080; text-decoration-color: #800080\">0</span> and <span style=\"color: #800080; text-decoration-color: #800080\">1</span>.\n",
       "\n",
       "When we are given a list of data and an input, we will move forward through the data, connected nodes, and the resulting output.\n",
       "\n",
       "In the case of neural networks, this would look like:\n",
       "\n",
       "Neural Network\n",
       "\n",
       "A neural network is just a collection of nodes, connected to each other through connections.\n",
       "\n",
       "For example, let’s look at the ConvNet model from Wikipedia.\n",
       "\n",
       "Pretty simple. It has multiple layers of neurons, with each neuron being assigned one of the above variables.\n",
       "\n",
       "The neurons work with the data given as an input <span style=\"font-weight: bold\">(</span>remember, it’s a\n",
       "</pre>\n"
      ],
      "text/plain": [
       "\u001b[1m[\u001b[0mresponse\u001b[1m]\u001b[0m:\n",
       "\n",
       "What is a supercomputer? A supercomputer is a machine that is exponentially more powerful than previous computing models while being far more energy efficient.\n",
       "\n",
       "What is an artificial neural network? An artificial neural network \u001b[1m(\u001b[0mANN\u001b[1m)\u001b[0m is an order of magnitude more powerful than previous computational models, but has the same energy efficiency.\n",
       "\n",
       "For this article I will be using a machine learning technique called Backward-Compatible Neural Networks \u001b[1m(\u001b[0mBCNNs\u001b[1m)\u001b[0m to represent the biological brain.\n",
       "\n",
       "The BCNNs model is very similar to the neural networks utilized in deep learning, but has the added bonus of being able to \u001b[32m'decouple'\u001b[0m the learning from the final results.\n",
       "\n",
       "BCNN for Machine Learning\n",
       "\n",
       "In order to make the transition from neural networks to BCNNs we will follow the same basic principles as we did with neural networks.\n",
       "\n",
       "However, instead of the neurons in neural networks that represent the data being represented, BCNNs work with nodes instead. This is because the nodes are the data, while the neurons are the information.\n",
       "\n",
       "In case you aren’t familiar with the term node, it is a symbol representing any type of data. For instance, it could be a datum in a neural network model.\n",
       "\n",
       "Another way to think of them is as symbols.\n",
       "\n",
       "The basic idea of nodes and connections is that a node can have many connections to other nodes, with each node linked to a connection to a larger entity.\n",
       "\n",
       "For instance, a node might have a target, which is just a point in space. A connection might have a value, which is just a number between \u001b[35m0\u001b[0m and \u001b[35m1\u001b[0m.\n",
       "\n",
       "Something like this:\n",
       "\n",
       "Node Value \u001b[35m-0.1\u001b[0m \u001b[35m0.1\u001b[0m \u001b[35m0.1\u001b[0m \u001b[35m0.1\u001b[0m\n",
       "\n",
       "The important thing to note, is that the value is a number between \u001b[35m0\u001b[0m and \u001b[35m1\u001b[0m.\n",
       "\n",
       "When we are given a list of data and an input, we will move forward through the data, connected nodes, and the resulting output.\n",
       "\n",
       "In the case of neural networks, this would look like:\n",
       "\n",
       "Neural Network\n",
       "\n",
       "A neural network is just a collection of nodes, connected to each other through connections.\n",
       "\n",
       "For example, let’s look at the ConvNet model from Wikipedia.\n",
       "\n",
       "Pretty simple. It has multiple layers of neurons, with each neuron being assigned one of the above variables.\n",
       "\n",
       "The neurons work with the data given as an input \u001b[1m(\u001b[0mremember, it’s a\n"
      ]
     },
     "metadata": {},
     "output_type": "display_data"
    }
   ],
   "source": [
    "from rich.text import Text\n",
    "from enrich.console import get_console\n",
    "console = get_console()\n",
    "\n",
    "console.print(fr'\\[prompt]: \"{query}\"')\n",
    "console.print(\"\\[response]:\\n\\n\" + fr\"{outputs['0']['raw']}\")"
   ]
  }
 ],
 "metadata": {
  "kernelspec": {
   "display_name": "Python 3 (ipykernel)",
   "language": "python",
   "name": "python3"
  },
  "language_info": {
   "codemirror_mode": {
    "name": "ipython",
    "version": 3
   },
   "file_extension": ".py",
   "mimetype": "text/x-python",
   "name": "python",
   "nbconvert_exporter": "python",
   "pygments_lexer": "ipython3",
   "version": "3.10.8"
  }
 },
 "nbformat": 4,
 "nbformat_minor": 5
}
