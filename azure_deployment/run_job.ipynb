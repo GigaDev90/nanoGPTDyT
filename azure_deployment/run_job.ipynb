{
 "cells": [
  {
   "cell_type": "code",
   "execution_count": 51,
   "metadata": {},
   "outputs": [
    {
     "name": "stdout",
     "output_type": "stream",
     "text": [
      "[\n",
      "  {\n",
      "    \"cloudName\": \"AzureCloud\",\n",
      "    \"homeTenantId\": \"1fdb6d07-480b-4c31-a913-e847d51e7446\",\n",
      "    \"id\": \"ea54fca2-3a3e-4b3b-91e7-a7bf971e0443\",\n",
      "    \"isDefault\": true,\n",
      "    \"managedByTenants\": [],\n",
      "    \"name\": \"Azure subscription 1\",\n",
      "    \"state\": \"Enabled\",\n",
      "    \"tenantId\": \"1fdb6d07-480b-4c31-a913-e847d51e7446\",\n",
      "    \"user\": {\n",
      "      \"name\": \"Philliplakaschus@gmail.com\",\n",
      "      \"type\": \"user\"\n",
      "    }\n",
      "  }\n",
      "]\n"
     ]
    },
    {
     "name": "stderr",
     "output_type": "stream",
     "text": [
      "WARNING: A web browser has been opened at https://login.microsoftonline.com/organizations/oauth2/v2.0/authorize. Please continue the login in the web browser. If no web browser is available or if the web browser fails to open, use device code flow with `az login --use-device-code`.\n"
     ]
    }
   ],
   "source": [
    "!az login"
   ]
  },
  {
   "cell_type": "code",
   "execution_count": 52,
   "metadata": {},
   "outputs": [],
   "source": [
    "subscription_id = !az account show --query id --output tsv\n",
    "subscription_id = subscription_id[0]"
   ]
  },
  {
   "cell_type": "code",
   "execution_count": 79,
   "metadata": {},
   "outputs": [],
   "source": [
    "# Get the resource group name and workspace name for the workspace from the config.conf file using pyhocon\n",
    "from pyhocon import ConfigFactory\n",
    "config = ConfigFactory.parse_file(\"config.conf\")\n",
    "resource_group = config.get_string(\"RESOURCE_GROUP\")\n",
    "workspace_name = config.get_string(\"WORKSPACE_NAME\")"
   ]
  },
  {
   "cell_type": "code",
   "execution_count": 81,
   "metadata": {},
   "outputs": [
    {
     "name": "stdout",
     "output_type": "stream",
     "text": [
      "MLClient(credential=<azure.identity._credentials.default.DefaultAzureCredential object at 0x000001DE4AF76710>,\n",
      "         subscription_id=ea54fca2-3a3e-4b3b-91e7-a7bf971e0443,\n",
      "         resource_group_name=rg-nano-gpt,\n",
      "         workspace_name=ml-nano-gpt)\n"
     ]
    }
   ],
   "source": [
    "\n",
    "from azure.identity import DefaultAzureCredential\n",
    "from azure.ai.ml import MLClient\n",
    "\n",
    "# NOTE: It's very import to always set the resource_group and workspace_name when creating the MLClient\n",
    "ml_client = MLClient(\n",
    "    DefaultAzureCredential(), subscription_id, resource_group, workspace_name\n",
    ")\n",
    "print(ml_client)"
   ]
  },
  {
   "cell_type": "markdown",
   "metadata": {},
   "source": [
    "## Training"
   ]
  },
  {
   "cell_type": "code",
   "execution_count": 84,
   "metadata": {},
   "outputs": [
    {
     "data": {
      "text/plain": [
       "Environment({'intellectual_property': None, 'is_anonymous': False, 'auto_increment_version': False, 'auto_delete_setting': None, 'name': 'nano_gpt_env', 'description': 'Custom environment for nano gpt training', 'tags': {}, 'properties': {'azureml.labels': 'latest'}, 'print_as_yaml': True, 'id': '/subscriptions/ea54fca2-3a3e-4b3b-91e7-a7bf971e0443/resourceGroups/rg-nano-gpt/providers/Microsoft.MachineLearningServices/workspaces/ml-nano-gpt/environments/nano_gpt_env/versions/1', 'Resource__source_path': None, 'base_path': 'c:\\\\Users\\\\d92343\\\\Documents\\\\IT\\\\Projects\\\\Private\\\\nanoGPTExperiments\\\\azure_deployment', 'creation_context': <azure.ai.ml.entities._system_data.SystemData object at 0x000001DE4AF3B2B0>, 'serialize': <msrest.serialization.Serializer object at 0x000001DE4AF38E50>, 'version': '1', 'latest_version': None, 'conda_file': {'dependencies': ['python=3.10', 'pip', {'pip': ['numpy', 'transformers', 'datasets', 'tiktoken', 'mlflow', 'tqdm', 'azure-ai-ml', 'torch', 'pyhocon']}], 'name': 'nano_gpt'}, 'image': 'mcr.microsoft.com/azureml/openmpi4.1.0-cuda11.8-cudnn8-ubuntu22.04', 'build': None, 'inference_config': None, 'os_type': 'Linux', 'arm_type': 'environment_version', 'conda_file_path': None, 'path': None, 'datastore': None, 'upload_hash': None, 'translated_conda_file': '{\\n  \"dependencies\": [\\n    \"python=3.10\",\\n    \"pip\",\\n    {\\n      \"pip\": [\\n        \"numpy\",\\n        \"transformers\",\\n        \"datasets\",\\n        \"tiktoken\",\\n        \"mlflow\",\\n        \"tqdm\",\\n        \"azure-ai-ml\",\\n        \"torch\",\\n        \"pyhocon\"\\n      ]\\n    }\\n  ],\\n  \"name\": \"nano_gpt\"\\n}'})"
      ]
     },
     "execution_count": 84,
     "metadata": {},
     "output_type": "execute_result"
    }
   ],
   "source": [
    "from azure.ai.ml.entities import Environment\n",
    "\n",
    "custom_env = Environment(\n",
    "    name='nano_gpt_env',\n",
    "    description=\"Custom environment for nano gpt training\",\n",
    "    conda_file=\"../environment.yml\",\n",
    "    image=\"mcr.microsoft.com/azureml/openmpi4.1.0-cuda11.8-cudnn8-ubuntu22.04\"\n",
    ")\n",
    "ml_client.environments.create_or_update(custom_env)"
   ]
  },
  {
   "cell_type": "code",
   "execution_count": 88,
   "metadata": {},
   "outputs": [
    {
     "name": "stderr",
     "output_type": "stream",
     "text": [
      "Warning: the provided asset name 'nano_gpt_env' will not be used for anonymous registration\n",
      "Warning: the provided asset name 'nano_gpt_env' will not be used for anonymous registration\n",
      "Uploading src (27.81 MBs): 100%|##########| 27806177/27806177 [00:07<00:00, 3901002.81it/s]\n",
      "\n",
      "\n"
     ]
    },
    {
     "name": "stdout",
     "output_type": "stream",
     "text": [
      "Monitor your job at https://ml.azure.com/runs/purple_farm_yg8jxpx2ws?wsid=/subscriptions/ea54fca2-3a3e-4b3b-91e7-a7bf971e0443/resourcegroups/rg-nano-gpt/workspaces/ml-nano-gpt&tid=1fdb6d07-480b-4c31-a913-e847d51e7446\n"
     ]
    }
   ],
   "source": [
    "from azure.ai.ml import command\n",
    "\n",
    "cmd = \"python train.py --batch_size=32 --compile=False --device=gpu\"\n",
    "# configure job\n",
    "job = command(\n",
    "    code=\"../src\",\n",
    "    command=cmd,\n",
    "    environment=custom_env,\n",
    "    compute=\"aml-cluster-nano-gpt\",\n",
    "    display_name=\"nano-gpt-training\",\n",
    "    experiment_name=\"nano-gpt-training\"\n",
    ")\n",
    "\n",
    "# submit job\n",
    "returned_job = ml_client.create_or_update(job)\n",
    "aml_url = returned_job.studio_url\n",
    "print(\"Monitor your job at\", aml_url)"
   ]
  },
  {
   "cell_type": "code",
   "execution_count": 89,
   "metadata": {},
   "outputs": [
    {
     "data": {
      "text/html": [
       "<table style=\"width:100%\"><tr><th>Experiment</th><th>Name</th><th>Type</th><th>Status</th><th>Details Page</th></tr><tr><td>nano-gpt-training</td><td>purple_farm_yg8jxpx2ws</td><td>command</td><td>Starting</td><td><a href=\"https://ml.azure.com/runs/purple_farm_yg8jxpx2ws?wsid=/subscriptions/ea54fca2-3a3e-4b3b-91e7-a7bf971e0443/resourcegroups/rg-nano-gpt/workspaces/ml-nano-gpt&amp;tid=1fdb6d07-480b-4c31-a913-e847d51e7446\" target=\"_blank\" rel=\"noopener\">Link to Azure Machine Learning studio</a></td></tr></table>"
      ],
      "text/plain": [
       "Command({'parameters': {}, 'init': False, 'name': 'purple_farm_yg8jxpx2ws', 'type': 'command', 'status': 'Starting', 'log_files': None, 'description': None, 'tags': {}, 'properties': {'mlflow.source.git.repoURL': 'https://github.com/lakaschus/nanoGPTExperiments.git', 'mlflow.source.git.branch': 'azure_deployment', 'mlflow.source.git.commit': '6777e75496548e5b063f42a80ab8c4936c1dec1e', 'azureml.git.dirty': 'True', '_azureml.ComputeTargetType': 'amlctrain', 'ContentSnapshotId': '3fe9443a-b918-4ef2-98a4-2823268e87f3'}, 'print_as_yaml': True, 'id': '/subscriptions/ea54fca2-3a3e-4b3b-91e7-a7bf971e0443/resourceGroups/rg-nano-gpt/providers/Microsoft.MachineLearningServices/workspaces/ml-nano-gpt/jobs/purple_farm_yg8jxpx2ws', 'Resource__source_path': None, 'base_path': 'c:\\\\Users\\\\d92343\\\\Documents\\\\IT\\\\Projects\\\\Private\\\\nanoGPTExperiments\\\\azure_deployment', 'creation_context': <azure.ai.ml.entities._system_data.SystemData object at 0x000001DE4C2C2890>, 'serialize': <msrest.serialization.Serializer object at 0x000001DE4C1CD570>, 'allowed_keys': {}, 'key_restriction': False, 'logger': <Logger attr_dict (WARNING)>, 'display_name': 'nano-gpt-training', 'experiment_name': 'nano-gpt-training', 'compute': 'aml-cluster-nano-gpt', 'services': {'Tracking': {'endpoint': 'azureml://westus.api.azureml.ms/mlflow/v1.0/subscriptions/ea54fca2-3a3e-4b3b-91e7-a7bf971e0443/resourceGroups/rg-nano-gpt/providers/Microsoft.MachineLearningServices/workspaces/ml-nano-gpt?', 'type': 'Tracking'}, 'Studio': {'endpoint': 'https://ml.azure.com/runs/purple_farm_yg8jxpx2ws?wsid=/subscriptions/ea54fca2-3a3e-4b3b-91e7-a7bf971e0443/resourcegroups/rg-nano-gpt/workspaces/ml-nano-gpt&tid=1fdb6d07-480b-4c31-a913-e847d51e7446', 'type': 'Studio'}}, 'comment': None, 'job_inputs': {}, 'job_outputs': {'default': {'type': 'uri_folder', 'path': 'azureml://datastores/workspaceartifactstore/ExperimentRun/dcid.purple_farm_yg8jxpx2ws', 'mode': 'rw_mount'}}, 'inputs': {}, 'outputs': {'default': <azure.ai.ml.entities._job.pipeline._io.base.NodeOutput object at 0x000001DE4C1CD690>}, 'component': CommandComponent({'intellectual_property': None, 'auto_increment_version': True, 'source': 'REMOTE.WORKSPACE.JOB', 'is_anonymous': False, 'auto_delete_setting': None, 'name': 'purple_farm_yg8jxpx2ws', 'description': None, 'tags': {}, 'properties': {}, 'print_as_yaml': True, 'id': None, 'Resource__source_path': None, 'base_path': 'c:\\\\Users\\\\d92343\\\\Documents\\\\IT\\\\Projects\\\\Private\\\\nanoGPTExperiments\\\\azure_deployment', 'creation_context': <azure.ai.ml.entities._system_data.SystemData object at 0x000001DE4C2C2890>, 'serialize': <msrest.serialization.Serializer object at 0x000001DE4C1CF280>, 'command': 'python train.py --batch_size=32 --compile=False --device=gpu', 'code': '/subscriptions/ea54fca2-3a3e-4b3b-91e7-a7bf971e0443/resourceGroups/rg-nano-gpt/providers/Microsoft.MachineLearningServices/workspaces/ml-nano-gpt/codes/fe79a7a2-0e84-4791-afb2-3a81d169440e/versions/1', 'environment_variables': {}, 'environment': '/subscriptions/ea54fca2-3a3e-4b3b-91e7-a7bf971e0443/resourceGroups/rg-nano-gpt/providers/Microsoft.MachineLearningServices/workspaces/ml-nano-gpt/environments/nano_gpt_env/versions/1', 'distribution': None, 'resources': None, 'queue_settings': None, 'version': None, 'latest_version': None, 'schema': None, 'type': 'command', 'display_name': 'nano-gpt-training', 'is_deterministic': True, 'inputs': {}, 'outputs': {'default': {'type': 'uri_folder', 'path': 'azureml://datastores/workspaceartifactstore/ExperimentRun/dcid.purple_farm_yg8jxpx2ws', 'mode': 'rw_mount'}}, 'yaml_str': None, 'other_parameter': {'status': 'Starting', 'parameters': {}}, 'additional_includes': []}), 'referenced_control_flow_node_instance_id': None, 'kwargs': {'services': {'Tracking': {'endpoint': 'azureml://westus.api.azureml.ms/mlflow/v1.0/subscriptions/ea54fca2-3a3e-4b3b-91e7-a7bf971e0443/resourceGroups/rg-nano-gpt/providers/Microsoft.MachineLearningServices/workspaces/ml-nano-gpt?', 'type': 'Tracking'}, 'Studio': {'endpoint': 'https://ml.azure.com/runs/purple_farm_yg8jxpx2ws?wsid=/subscriptions/ea54fca2-3a3e-4b3b-91e7-a7bf971e0443/resourcegroups/rg-nano-gpt/workspaces/ml-nano-gpt&tid=1fdb6d07-480b-4c31-a913-e847d51e7446', 'type': 'Studio'}}, 'status': 'Starting', 'creation_context': <azure.ai.ml.entities._system_data.SystemData object at 0x000001DE4C2C2890>}, 'instance_id': '7a8ae40d-6b28-4ee9-94dd-81ec041bc5bb', 'source': 'BUILDER', 'validate_required_input_not_provided': True, 'limits': None, 'identity': None, 'distribution': None, 'environment_variables': {}, 'environment': 'nano_gpt_env:1', 'resources': {'instance_count': 1, 'shm_size': '2g'}, 'queue_settings': None, 'swept': False})"
      ]
     },
     "execution_count": 89,
     "metadata": {},
     "output_type": "execute_result"
    }
   ],
   "source": [
    "returned_job"
   ]
  }
 ],
 "metadata": {
  "kernelspec": {
   "display_name": "Python 3",
   "language": "python",
   "name": "python3"
  },
  "language_info": {
   "codemirror_mode": {
    "name": "ipython",
    "version": 3
   },
   "file_extension": ".py",
   "mimetype": "text/x-python",
   "name": "python",
   "nbconvert_exporter": "python",
   "pygments_lexer": "ipython3",
   "version": "3.10.13"
  }
 },
 "nbformat": 4,
 "nbformat_minor": 2
}
