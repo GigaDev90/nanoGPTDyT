{
 "cells": [
  {
   "cell_type": "code",
   "execution_count": 115,
   "metadata": {},
   "outputs": [
    {
     "name": "stderr",
     "output_type": "stream",
     "text": [
      "WARNING: A web browser has been opened at https://login.microsoftonline.com/organizations/oauth2/v2.0/authorize. Please continue the login in the web browser. If no web browser is available or if the web browser fails to open, use device code flow with `az login --use-device-code`."
     ]
    },
    {
     "name": "stdout",
     "output_type": "stream",
     "text": [
      "["
     ]
    }
   ],
   "source": [
    "!az login"
   ]
  },
  {
   "cell_type": "code",
   "execution_count": 125,
   "metadata": {},
   "outputs": [],
   "source": [
    "subscription_id = !az account show --query id --output tsv\n",
    "subscription_id = subscription_id[0]"
   ]
  },
  {
   "cell_type": "code",
   "execution_count": 126,
   "metadata": {},
   "outputs": [],
   "source": [
    "# Get the resource group name and workspace name for the workspace from the config.conf file using pyhocon\n",
    "from pyhocon import ConfigFactory\n",
    "config = ConfigFactory.parse_file(\"config.conf\")\n",
    "resource_group = config.get_string(\"RESOURCE_GROUP\")\n",
    "workspace_name = config.get_string(\"WORKSPACE_NAME\")"
   ]
  },
  {
   "cell_type": "code",
   "execution_count": 127,
   "metadata": {},
   "outputs": [
    {
     "name": "stdout",
     "output_type": "stream",
     "text": [
      "MLClient(credential=<azure.identity._credentials.default.DefaultAzureCredential object at 0x000001DE4C367EB0>,\n",
      "         subscription_id=ea54fca2-3a3e-4b3b-91e7-a7bf971e0443,\n",
      "         resource_group_name=rg-nano-gpt,\n",
      "         workspace_name=ml-nano-gpt)\n"
     ]
    }
   ],
   "source": [
    "\n",
    "from azure.identity import DefaultAzureCredential\n",
    "from azure.ai.ml import MLClient\n",
    "\n",
    "# NOTE: It's very import to always set the resource_group and workspace_name when creating the MLClient\n",
    "ml_client = MLClient(\n",
    "    DefaultAzureCredential(), subscription_id, resource_group, workspace_name\n",
    ")\n",
    "print(ml_client)"
   ]
  },
  {
   "cell_type": "markdown",
   "metadata": {},
   "source": [
    "## Training"
   ]
  },
  {
   "cell_type": "code",
   "execution_count": 108,
   "metadata": {},
   "outputs": [
    {
     "data": {
      "text/plain": [
       "Environment({'intellectual_property': None, 'is_anonymous': False, 'auto_increment_version': False, 'auto_delete_setting': None, 'name': 'nano_gpt_env', 'description': 'Custom environment for nano gpt training', 'tags': {}, 'properties': {'azureml.labels': 'latest'}, 'print_as_yaml': True, 'id': '/subscriptions/ea54fca2-3a3e-4b3b-91e7-a7bf971e0443/resourceGroups/rg-nano-gpt/providers/Microsoft.MachineLearningServices/workspaces/ml-nano-gpt/environments/nano_gpt_env/versions/3', 'Resource__source_path': None, 'base_path': 'c:\\\\Users\\\\d92343\\\\Documents\\\\IT\\\\Projects\\\\Private\\\\nanoGPTExperiments\\\\azure_deployment', 'creation_context': <azure.ai.ml.entities._system_data.SystemData object at 0x000001DE4C3C7EE0>, 'serialize': <msrest.serialization.Serializer object at 0x000001DE4C3F0AF0>, 'version': '3', 'latest_version': None, 'conda_file': {'channels': ['nvidia/label/cuda-11.8.0', 'pytorch', 'conda-forge', 'defaults'], 'dependencies': ['python=3.10', 'pip', {'pip': ['numpy', 'transformers', 'datasets', 'tiktoken', 'mlflow', 'tqdm', 'azure-ai-ml', 'pyhocon', 'azureml-mlflow']}, 'pytorch', 'torchvision', 'torchaudio', 'cuda', 'pytorch-cuda=11.8'], 'name': 'nano_gpt'}, 'image': 'mcr.microsoft.com/azureml/openmpi4.1.0-cuda11.8-cudnn8-ubuntu22.04', 'build': None, 'inference_config': None, 'os_type': 'Linux', 'arm_type': 'environment_version', 'conda_file_path': None, 'path': None, 'datastore': None, 'upload_hash': None, 'translated_conda_file': '{\\n  \"channels\": [\\n    \"nvidia/label/cuda-11.8.0\",\\n    \"pytorch\",\\n    \"conda-forge\",\\n    \"defaults\"\\n  ],\\n  \"dependencies\": [\\n    \"python=3.10\",\\n    \"pip\",\\n    {\\n      \"pip\": [\\n        \"numpy\",\\n        \"transformers\",\\n        \"datasets\",\\n        \"tiktoken\",\\n        \"mlflow\",\\n        \"tqdm\",\\n        \"azure-ai-ml\",\\n        \"pyhocon\",\\n        \"azureml-mlflow\"\\n      ]\\n    },\\n    \"pytorch\",\\n    \"torchvision\",\\n    \"torchaudio\",\\n    \"cuda\",\\n    \"pytorch-cuda=11.8\"\\n  ],\\n  \"name\": \"nano_gpt\"\\n}'})"
      ]
     },
     "execution_count": 108,
     "metadata": {},
     "output_type": "execute_result"
    }
   ],
   "source": [
    "from azure.ai.ml.entities import Environment\n",
    "\n",
    "custom_env = Environment(\n",
    "    name='nano_gpt_env',\n",
    "    description=\"Custom environment for nano gpt training\",\n",
    "    conda_file=\"../environment.yml\",\n",
    "    image=\"mcr.microsoft.com/azureml/openmpi4.1.0-cuda11.8-cudnn8-ubuntu22.04\"\n",
    ")\n",
    "ml_client.environments.create_or_update(custom_env)"
   ]
  },
  {
   "cell_type": "markdown",
   "metadata": {},
   "source": [
    "### Shakespeare Config"
   ]
  },
  {
   "cell_type": "code",
   "execution_count": 140,
   "metadata": {},
   "outputs": [],
   "source": [
    "# Load params from src/config.json\n",
    "import json\n",
    "with open(\"../src/configs/config.json\") as f:\n",
    "    params = json.load(f)['train_params']\n",
    "\n",
    "\n"
   ]
  },
  {
   "cell_type": "markdown",
   "metadata": {},
   "source": [
    "Before running the job, remove all unnecessary files from the src folder"
   ]
  },
  {
   "cell_type": "code",
   "execution_count": 141,
   "metadata": {},
   "outputs": [
    {
     "name": "stderr",
     "output_type": "stream",
     "text": [
      "Warning: the provided asset name 'nano_gpt_env' will not be used for anonymous registration\n",
      "Warning: the provided asset name 'nano_gpt_env' will not be used for anonymous registration\n",
      "Uploading src (27.77 MBs): 100%|##########| 27773665/27773665 [00:08<00:00, 3458944.19it/s]\n",
      "\n",
      "\n"
     ]
    },
    {
     "name": "stdout",
     "output_type": "stream",
     "text": [
      "Monitor your job at https://ml.azure.com/runs/mighty_leg_zztz0ny1nt?wsid=/subscriptions/ea54fca2-3a3e-4b3b-91e7-a7bf971e0443/resourcegroups/rg-nano-gpt/workspaces/ml-nano-gpt&tid=1fdb6d07-480b-4c31-a913-e847d51e7446\n"
     ]
    }
   ],
   "source": [
    "from azure.ai.ml import command\n",
    "\n",
    "# configure job\n",
    "job = command(\n",
    "    code=\"../src\",\n",
    "    command=\"python pipeline.py\",\n",
    "    environment=custom_env,\n",
    "    compute=\"aml-cluster-nano-gpt\",\n",
    "    display_name=params[\"experiment_name\"],\n",
    "    experiment_name=params[\"experiment_name\"],\n",
    ")\n",
    "\n",
    "# submit job\n",
    "returned_job = ml_client.create_or_update(job)\n",
    "aml_url = returned_job.studio_url\n",
    "print(\"Monitor your job at\", aml_url)"
   ]
  },
  {
   "cell_type": "code",
   "execution_count": 94,
   "metadata": {},
   "outputs": [
    {
     "data": {
      "text/html": [
       "<table style=\"width:100%\"><tr><th>Experiment</th><th>Name</th><th>Type</th><th>Status</th><th>Details Page</th></tr><tr><td>nano-gpt-training</td><td>heroic_spinach_qslcj4s1d6</td><td>command</td><td>Starting</td><td><a href=\"https://ml.azure.com/runs/heroic_spinach_qslcj4s1d6?wsid=/subscriptions/ea54fca2-3a3e-4b3b-91e7-a7bf971e0443/resourcegroups/rg-nano-gpt/workspaces/ml-nano-gpt&amp;tid=1fdb6d07-480b-4c31-a913-e847d51e7446\" target=\"_blank\" rel=\"noopener\">Link to Azure Machine Learning studio</a></td></tr></table>"
      ],
      "text/plain": [
       "Command({'parameters': {}, 'init': False, 'name': 'heroic_spinach_qslcj4s1d6', 'type': 'command', 'status': 'Starting', 'log_files': None, 'description': None, 'tags': {}, 'properties': {'mlflow.source.git.repoURL': 'https://github.com/lakaschus/nanoGPTExperiments.git', 'mlflow.source.git.branch': 'azure_deployment', 'mlflow.source.git.commit': 'bb2b7cdcb9c88ee0193197c31e1bd011db84a241', 'azureml.git.dirty': 'True', '_azureml.ComputeTargetType': 'amlctrain', 'ContentSnapshotId': '73a457c3-74ab-43c8-ac66-cc81d19b4a6d'}, 'print_as_yaml': True, 'id': '/subscriptions/ea54fca2-3a3e-4b3b-91e7-a7bf971e0443/resourceGroups/rg-nano-gpt/providers/Microsoft.MachineLearningServices/workspaces/ml-nano-gpt/jobs/heroic_spinach_qslcj4s1d6', 'Resource__source_path': None, 'base_path': 'c:\\\\Users\\\\d92343\\\\Documents\\\\IT\\\\Projects\\\\Private\\\\nanoGPTExperiments\\\\azure_deployment', 'creation_context': <azure.ai.ml.entities._system_data.SystemData object at 0x000001DE4EE19AE0>, 'serialize': <msrest.serialization.Serializer object at 0x000001DE4EE19A50>, 'allowed_keys': {}, 'key_restriction': False, 'logger': <Logger attr_dict (WARNING)>, 'display_name': 'nano-gpt-training', 'experiment_name': 'nano-gpt-training', 'compute': 'aml-cluster-nano-gpt', 'services': {'Tracking': {'endpoint': 'azureml://westus.api.azureml.ms/mlflow/v1.0/subscriptions/ea54fca2-3a3e-4b3b-91e7-a7bf971e0443/resourceGroups/rg-nano-gpt/providers/Microsoft.MachineLearningServices/workspaces/ml-nano-gpt?', 'type': 'Tracking'}, 'Studio': {'endpoint': 'https://ml.azure.com/runs/heroic_spinach_qslcj4s1d6?wsid=/subscriptions/ea54fca2-3a3e-4b3b-91e7-a7bf971e0443/resourcegroups/rg-nano-gpt/workspaces/ml-nano-gpt&tid=1fdb6d07-480b-4c31-a913-e847d51e7446', 'type': 'Studio'}}, 'comment': None, 'job_inputs': {}, 'job_outputs': {'default': {'type': 'uri_folder', 'path': 'azureml://datastores/workspaceartifactstore/ExperimentRun/dcid.heroic_spinach_qslcj4s1d6', 'mode': 'rw_mount'}}, 'inputs': {}, 'outputs': {'default': <azure.ai.ml.entities._job.pipeline._io.base.NodeOutput object at 0x000001DE4EE1A710>}, 'component': CommandComponent({'intellectual_property': None, 'auto_increment_version': True, 'source': 'REMOTE.WORKSPACE.JOB', 'is_anonymous': False, 'auto_delete_setting': None, 'name': 'heroic_spinach_qslcj4s1d6', 'description': None, 'tags': {}, 'properties': {}, 'print_as_yaml': True, 'id': None, 'Resource__source_path': None, 'base_path': 'c:\\\\Users\\\\d92343\\\\Documents\\\\IT\\\\Projects\\\\Private\\\\nanoGPTExperiments\\\\azure_deployment', 'creation_context': <azure.ai.ml.entities._system_data.SystemData object at 0x000001DE4EE19AE0>, 'serialize': <msrest.serialization.Serializer object at 0x000001DE4EE19C30>, 'command': 'python train.py --batch_size=32 --compile=False --device=cuda', 'code': '/subscriptions/ea54fca2-3a3e-4b3b-91e7-a7bf971e0443/resourceGroups/rg-nano-gpt/providers/Microsoft.MachineLearningServices/workspaces/ml-nano-gpt/codes/7587c5ac-670e-476b-a066-4cb10b468274/versions/1', 'environment_variables': {}, 'environment': '/subscriptions/ea54fca2-3a3e-4b3b-91e7-a7bf971e0443/resourceGroups/rg-nano-gpt/providers/Microsoft.MachineLearningServices/workspaces/ml-nano-gpt/environments/nano_gpt_env/versions/2', 'distribution': None, 'resources': None, 'queue_settings': None, 'version': None, 'latest_version': None, 'schema': None, 'type': 'command', 'display_name': 'nano-gpt-training', 'is_deterministic': True, 'inputs': {}, 'outputs': {'default': {'type': 'uri_folder', 'path': 'azureml://datastores/workspaceartifactstore/ExperimentRun/dcid.heroic_spinach_qslcj4s1d6', 'mode': 'rw_mount'}}, 'yaml_str': None, 'other_parameter': {'status': 'Starting', 'parameters': {}}, 'additional_includes': []}), 'referenced_control_flow_node_instance_id': None, 'kwargs': {'services': {'Tracking': {'endpoint': 'azureml://westus.api.azureml.ms/mlflow/v1.0/subscriptions/ea54fca2-3a3e-4b3b-91e7-a7bf971e0443/resourceGroups/rg-nano-gpt/providers/Microsoft.MachineLearningServices/workspaces/ml-nano-gpt?', 'type': 'Tracking'}, 'Studio': {'endpoint': 'https://ml.azure.com/runs/heroic_spinach_qslcj4s1d6?wsid=/subscriptions/ea54fca2-3a3e-4b3b-91e7-a7bf971e0443/resourcegroups/rg-nano-gpt/workspaces/ml-nano-gpt&tid=1fdb6d07-480b-4c31-a913-e847d51e7446', 'type': 'Studio'}}, 'status': 'Starting', 'creation_context': <azure.ai.ml.entities._system_data.SystemData object at 0x000001DE4EE19AE0>}, 'instance_id': '58f8c795-87db-481d-987f-49d72d226a32', 'source': 'BUILDER', 'validate_required_input_not_provided': True, 'limits': None, 'identity': None, 'distribution': None, 'environment_variables': {}, 'environment': 'nano_gpt_env:2', 'resources': {'instance_count': 1, 'shm_size': '2g'}, 'queue_settings': None, 'swept': False})"
      ]
     },
     "execution_count": 94,
     "metadata": {},
     "output_type": "execute_result"
    }
   ],
   "source": [
    "returned_job"
   ]
  }
 ],
 "metadata": {
  "kernelspec": {
   "display_name": "Python 3",
   "language": "python",
   "name": "python3"
  },
  "language_info": {
   "codemirror_mode": {
    "name": "ipython",
    "version": 3
   },
   "file_extension": ".py",
   "mimetype": "text/x-python",
   "name": "python",
   "nbconvert_exporter": "python",
   "pygments_lexer": "ipython3",
   "version": "3.10.13"
  }
 },
 "nbformat": 4,
 "nbformat_minor": 2
}
