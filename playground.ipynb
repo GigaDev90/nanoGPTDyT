{
 "cells": [
  {
   "cell_type": "code",
   "execution_count": null,
   "metadata": {},
   "outputs": [],
   "source": [
    "# Remove a conda environment\n",
    "!conda env remove -n myenv\n",
    "\n",
    "# List all conda environments\n",
    "!conda env list\n",
    "\n",
    "# Remove multiple conda environments\n",
    "!conda env remove -n myenv1 -n myenv2 -n myenv3"
   ]
  }
 ],
 "metadata": {
  "language_info": {
   "name": "python"
  },
  "orig_nbformat": 4
 },
 "nbformat": 4,
 "nbformat_minor": 2
}
