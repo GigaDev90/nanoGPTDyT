{
  "cells": [
    {
      "attachments": {},
      "cell_type": "markdown",
      "metadata": {
        "nteract": {
          "transient": {
            "deleting": false
          }
        }
      },
      "source": [
        "# Work with environments\n",
        "\n",
        "\n",
        "When you run a script as an Azure Machine Learning job, you need to define the execution context for the job run. One key configuration is the compute target on which the script will be run. This could be the local workstation (in this case the compute instance), or a remote compute target such as the Azure Machine Learning managed compute cluster that is provisioned on-demand.\n",
        "\n",
        "In this notebook, you'll create a compute cluster and explore compute targets for jobs.\n",
        "\n",
        "## Before you start\n",
        "\n",
        "You'll need the latest version of the  **azureml-ai-ml** package to run the code in this notebook. Run the cell below to verify that it is installed.\n",
        "\n",
        "> **Note**:\n",
        "> If the **azure-ai-ml** package is not installed, run `pip install azure-ai-ml` to install it."
      ]
    },
    {
      "cell_type": "code",
      "execution_count": 1,
      "metadata": {
        "gather": {
          "logged": 1665745893251
        }
      },
      "outputs": [
        {
          "name": "stdout",
          "output_type": "stream",
          "text": [
            "Name: azure-ai-ml\n",
            "Version: 1.11.0\n",
            "Summary: Microsoft Azure Machine Learning Client Library for Python\n",
            "Home-page: https://github.com/Azure/azure-sdk-for-python\n",
            "Author: Microsoft Corporation\n",
            "Author-email: azuresdkengsysadmins@microsoft.com\n",
            "License: MIT License\n",
            "Location: c:\\users\\d92343\\appdata\\local\\mambaforge\\envs\\nano_gpt\\lib\\site-packages\n",
            "Requires: azure-common, azure-core, azure-mgmt-core, azure-storage-blob, azure-storage-file-datalake, azure-storage-file-share, colorama, isodate, jsonschema, marshmallow, msrest, opencensus-ext-azure, pydash, pyjwt, pyyaml, strictyaml, tqdm, typing-extensions\n",
            "Required-by: \n",
            "Note: you may need to restart the kernel to use updated packages.\n"
          ]
        }
      ],
      "source": [
        "pip show azure-ai-ml"
      ]
    },
    {
      "attachments": {},
      "cell_type": "markdown",
      "metadata": {
        "nteract": {
          "transient": {
            "deleting": false
          }
        }
      },
      "source": [
        "## Connect to your workspace\n",
        "\n",
        "With the required SDK packages installed, now you're ready to connect to your workspace.\n",
        "\n",
        "To connect to a workspace, we need identifier parameters - a subscription ID, resource group name, and workspace name. Since you're working with a compute instance, managed by Azure Machine Learning, you can use the default values to connect to the workspace."
      ]
    },
    {
      "cell_type": "code",
      "execution_count": 2,
      "metadata": {
        "gather": {
          "logged": 1665745927409
        },
        "jupyter": {
          "outputs_hidden": false,
          "source_hidden": false
        },
        "nteract": {
          "transient": {
            "deleting": false
          }
        }
      },
      "outputs": [],
      "source": [
        "from azure.identity import DefaultAzureCredential, InteractiveBrowserCredential\n",
        "from azure.ai.ml import MLClient\n",
        "\n",
        "try:\n",
        "    credential = DefaultAzureCredential()\n",
        "    # Check if given credential can get token successfully.\n",
        "    credential.get_token(\"https://management.azure.com/.default\")\n",
        "except Exception as ex:\n",
        "    # Fall back to InteractiveBrowserCredential in case DefaultAzureCredential not work\n",
        "    credential = InteractiveBrowserCredential()"
      ]
    },
    {
      "cell_type": "code",
      "execution_count": 4,
      "metadata": {},
      "outputs": [
        {
          "data": {
            "text/plain": [
              "(<azure.identity._credentials.environment.EnvironmentCredential at 0x1d57684f760>,\n",
              " <azure.identity._credentials.managed_identity.ManagedIdentityCredential at 0x1d57684ff40>,\n",
              " <azure.identity._credentials.shared_cache.SharedTokenCacheCredential at 0x1d57c9f1120>,\n",
              " <azure.identity._credentials.azure_cli.AzureCliCredential at 0x1d57c9f1960>,\n",
              " <azure.identity._credentials.azure_powershell.AzurePowerShellCredential at 0x1d57c9f1a20>,\n",
              " <azure.identity._credentials.azd_cli.AzureDeveloperCliCredential at 0x1d57c9f1a80>)"
            ]
          },
          "execution_count": 4,
          "metadata": {},
          "output_type": "execute_result"
        }
      ],
      "source": [
        "credential.credentials"
      ]
    },
    {
      "cell_type": "code",
      "execution_count": 6,
      "metadata": {},
      "outputs": [
        {
          "ename": "ValidationException",
          "evalue": "We could not find config.json in: . or in its parent directories. Please provide the full path to the config file or ensure that config.json exists in the parent directories.",
          "output_type": "error",
          "traceback": [
            "\u001b[1;31m---------------------------------------------------------------------------\u001b[0m",
            "\u001b[1;31mValidationException\u001b[0m                       Traceback (most recent call last)",
            "\u001b[1;32mc:\\Users\\d92343\\Documents\\IT\\Projects\\Private\\nanoGPTExperiments\\Work with environments.ipynb Cell 6\u001b[0m line \u001b[0;36m2\n\u001b[0;32m      <a href='vscode-notebook-cell:/c%3A/Users/d92343/Documents/IT/Projects/Private/nanoGPTExperiments/Work%20with%20environments.ipynb#W4sZmlsZQ%3D%3D?line=0'>1</a>\u001b[0m \u001b[39m# Get a handle to workspace\u001b[39;00m\n\u001b[1;32m----> <a href='vscode-notebook-cell:/c%3A/Users/d92343/Documents/IT/Projects/Private/nanoGPTExperiments/Work%20with%20environments.ipynb#W4sZmlsZQ%3D%3D?line=1'>2</a>\u001b[0m ml_client \u001b[39m=\u001b[39m MLClient\u001b[39m.\u001b[39;49mfrom_config(credential\u001b[39m=\u001b[39;49mcredential)\n",
            "File \u001b[1;32mc:\\Users\\d92343\\AppData\\Local\\mambaforge\\envs\\nano_gpt\\lib\\site-packages\\azure\\ai\\ml\\_ml_client.py:687\u001b[0m, in \u001b[0;36mMLClient.from_config\u001b[1;34m(cls, credential, path, file_name, **kwargs)\u001b[0m\n\u001b[0;32m    681\u001b[0m     \u001b[39mif\u001b[39;00m \u001b[39mnot\u001b[39;00m found_path:\n\u001b[0;32m    682\u001b[0m         msg \u001b[39m=\u001b[39m (\n\u001b[0;32m    683\u001b[0m             \u001b[39m\"\u001b[39m\u001b[39mWe could not find config.json in: \u001b[39m\u001b[39m{}\u001b[39;00m\u001b[39m or in its parent directories. \u001b[39m\u001b[39m\"\u001b[39m\n\u001b[0;32m    684\u001b[0m             \u001b[39m\"\u001b[39m\u001b[39mPlease provide the full path to the config file or ensure that \u001b[39m\u001b[39m\"\u001b[39m\n\u001b[0;32m    685\u001b[0m             \u001b[39m\"\u001b[39m\u001b[39mconfig.json exists in the parent directories.\u001b[39m\u001b[39m\"\u001b[39m\n\u001b[0;32m    686\u001b[0m         )\n\u001b[1;32m--> 687\u001b[0m         \u001b[39mraise\u001b[39;00m ValidationException(\n\u001b[0;32m    688\u001b[0m             message\u001b[39m=\u001b[39mmsg\u001b[39m.\u001b[39mformat(path),\n\u001b[0;32m    689\u001b[0m             no_personal_data_message\u001b[39m=\u001b[39mmsg\u001b[39m.\u001b[39mformat(\u001b[39m\"\u001b[39m\u001b[39m[path]\u001b[39m\u001b[39m\"\u001b[39m),\n\u001b[0;32m    690\u001b[0m             target\u001b[39m=\u001b[39mErrorTarget\u001b[39m.\u001b[39mGENERAL,\n\u001b[0;32m    691\u001b[0m             error_category\u001b[39m=\u001b[39mErrorCategory\u001b[39m.\u001b[39mUSER_ERROR,\n\u001b[0;32m    692\u001b[0m         )\n\u001b[0;32m    694\u001b[0m subscription_id, resource_group, workspace_name \u001b[39m=\u001b[39m MLClient\u001b[39m.\u001b[39m_get_workspace_info(found_path)\n\u001b[0;32m    696\u001b[0m module_logger\u001b[39m.\u001b[39minfo(\u001b[39m\"\u001b[39m\u001b[39mFound the config file in: \u001b[39m\u001b[39m%s\u001b[39;00m\u001b[39m\"\u001b[39m, found_path)\n",
            "\u001b[1;31mValidationException\u001b[0m: We could not find config.json in: . or in its parent directories. Please provide the full path to the config file or ensure that config.json exists in the parent directories."
          ]
        }
      ],
      "source": [
        "# Get a handle to workspace\n",
        "ml_client = MLClient.from_config(credential=credential)"
      ]
    },
    {
      "cell_type": "code",
      "execution_count": 17,
      "metadata": {},
      "outputs": [],
      "source": [
        "subscription_id = !az account show --query id --output tsv\n",
        "subscription_id = subscription_id[0]"
      ]
    },
    {
      "cell_type": "code",
      "execution_count": 18,
      "metadata": {},
      "outputs": [],
      "source": [
        "\n",
        "ml_client = MLClient(\n",
        "    DefaultAzureCredential(), subscription_id\n",
        ")"
      ]
    },
    {
      "attachments": {},
      "cell_type": "markdown",
      "metadata": {},
      "source": [
        "## Run a script as a job\n",
        "\n",
        "To train a model, you'll first create the **diabetes_training.py** script in the **src** folder. The script uses the **diabetes.csv** file in the same folder as the training data.\n",
        "\n",
        "Note that you import libraries at the beginning of the script. Functions from these libraries are used to process the data and train the model. Whatever compute you use to run the script must have these libraries installed."
      ]
    },
    {
      "cell_type": "code",
      "execution_count": 19,
      "metadata": {},
      "outputs": [
        {
          "name": "stdout",
          "output_type": "stream",
          "text": [
            "Overwriting src/diabetes-training.py\n"
          ]
        }
      ],
      "source": [
        "%%writefile src/diabetes-training.py\n",
        "# import libraries\n",
        "import pandas as pd\n",
        "import numpy as np\n",
        "from sklearn.model_selection import train_test_split\n",
        "from sklearn.linear_model import LogisticRegression\n",
        "from sklearn.metrics import roc_auc_score\n",
        "from sklearn.metrics import roc_curve\n",
        "\n",
        "# load the diabetes dataset\n",
        "print(\"Loading Data...\")\n",
        "diabetes = pd.read_csv('diabetes.csv')\n",
        "\n",
        "# separate features and labels\n",
        "X, y = diabetes[['Pregnancies','PlasmaGlucose','DiastolicBloodPressure','TricepsThickness','SerumInsulin','BMI','DiabetesPedigree','Age']].values, diabetes['Diabetic'].values\n",
        "\n",
        "# split data into training set and test set\n",
        "X_train, X_test, y_train, y_test = train_test_split(X, y, test_size=0.30, random_state=0)\n",
        "\n",
        "# set regularization hyperparameter\n",
        "reg = 0.01\n",
        "\n",
        "# train a logistic regression model\n",
        "print('Training a logistic regression model with regularization rate of', reg)\n",
        "model = LogisticRegression(C=1/reg, solver=\"liblinear\").fit(X_train, y_train)\n",
        "\n",
        "# calculate accuracy\n",
        "y_hat = model.predict(X_test)\n",
        "acc = np.average(y_hat == y_test)\n",
        "print('Accuracy:', acc)\n",
        "\n",
        "# calculate AUC\n",
        "y_scores = model.predict_proba(X_test)\n",
        "auc = roc_auc_score(y_test,y_scores[:,1])\n",
        "print('AUC: ' + str(auc))"
      ]
    },
    {
      "attachments": {},
      "cell_type": "markdown",
      "metadata": {},
      "source": [
        "After you create the script, you can run the script as a job. The script uses common libraries. So you can use a curated environment that includes pandas, numpy, and scikit-learn, among others.\n",
        "\n",
        "The job uses the latest version of the curated environment: `AzureML-sklearn-0.24-ubuntu18.04-py37-cpu`."
      ]
    },
    {
      "cell_type": "code",
      "execution_count": 20,
      "metadata": {},
      "outputs": [
        {
          "ename": "AssetException",
          "evalue": "Error with code: No value for given attribute",
          "output_type": "error",
          "traceback": [
            "\u001b[1;31m---------------------------------------------------------------------------\u001b[0m",
            "\u001b[1;31mValueError\u001b[0m                                Traceback (most recent call last)",
            "File \u001b[1;32mc:\\Users\\d92343\\AppData\\Local\\mambaforge\\envs\\nano_gpt\\lib\\site-packages\\azure\\ai\\ml\\operations\\_operation_orchestrator.py:273\u001b[0m, in \u001b[0;36mOperationOrchestrator._get_code_asset_arm_id\u001b[1;34m(self, code_asset, register_asset)\u001b[0m\n\u001b[0;32m    272\u001b[0m \u001b[39mif\u001b[39;00m register_asset:\n\u001b[1;32m--> 273\u001b[0m     code_asset \u001b[39m=\u001b[39m \u001b[39mself\u001b[39;49m\u001b[39m.\u001b[39;49m_code_assets\u001b[39m.\u001b[39;49mcreate_or_update(code_asset)\n\u001b[0;32m    274\u001b[0m     \u001b[39mreturn\u001b[39;00m code_asset\u001b[39m.\u001b[39mid\n",
            "File \u001b[1;32mc:\\Users\\d92343\\AppData\\Local\\mambaforge\\envs\\nano_gpt\\lib\\site-packages\\azure\\ai\\ml\\_telemetry\\activity.py:275\u001b[0m, in \u001b[0;36mmonitor_with_activity.<locals>.monitor.<locals>.wrapper\u001b[1;34m(*args, **kwargs)\u001b[0m\n\u001b[0;32m    274\u001b[0m \u001b[39mwith\u001b[39;00m log_activity(logger, activity_name \u001b[39mor\u001b[39;00m f\u001b[39m.\u001b[39m\u001b[39m__name__\u001b[39m, activity_type, custom_dimensions):\n\u001b[1;32m--> 275\u001b[0m     \u001b[39mreturn\u001b[39;00m f(\u001b[39m*\u001b[39margs, \u001b[39m*\u001b[39m\u001b[39m*\u001b[39mkwargs)\n",
            "File \u001b[1;32mc:\\Users\\d92343\\AppData\\Local\\mambaforge\\envs\\nano_gpt\\lib\\site-packages\\azure\\ai\\ml\\operations\\_code_operations.py:212\u001b[0m, in \u001b[0;36mCodeOperations.create_or_update\u001b[1;34m(self, code)\u001b[0m\n\u001b[0;32m    206\u001b[0m         \u001b[39mraise\u001b[39;00m AssetPathException(\n\u001b[0;32m    207\u001b[0m             message\u001b[39m=\u001b[39mCHANGED_ASSET_PATH_MSG,\n\u001b[0;32m    208\u001b[0m             target\u001b[39m=\u001b[39mErrorTarget\u001b[39m.\u001b[39mCODE,\n\u001b[0;32m    209\u001b[0m             no_personal_data_message\u001b[39m=\u001b[39mCHANGED_ASSET_PATH_MSG_NO_PERSONAL_DATA,\n\u001b[0;32m    210\u001b[0m             error_category\u001b[39m=\u001b[39mErrorCategory\u001b[39m.\u001b[39mUSER_ERROR,\n\u001b[0;32m    211\u001b[0m         ) \u001b[39mfrom\u001b[39;00m \u001b[39mex\u001b[39;00m\n\u001b[1;32m--> 212\u001b[0m \u001b[39mraise\u001b[39;00m ex\n",
            "File \u001b[1;32mc:\\Users\\d92343\\AppData\\Local\\mambaforge\\envs\\nano_gpt\\lib\\site-packages\\azure\\ai\\ml\\operations\\_code_operations.py:136\u001b[0m, in \u001b[0;36mCodeOperations.create_or_update\u001b[1;34m(self, code)\u001b[0m\n\u001b[0;32m    135\u001b[0m _, _, asset_hash \u001b[39m=\u001b[39m snapshot_path_info\n\u001b[1;32m--> 136\u001b[0m existing_assets \u001b[39m=\u001b[39m \u001b[39mlist\u001b[39;49m(\n\u001b[0;32m    137\u001b[0m     \u001b[39mself\u001b[39;49m\u001b[39m.\u001b[39;49m_version_operation\u001b[39m.\u001b[39;49mlist(\n\u001b[0;32m    138\u001b[0m         resource_group_name\u001b[39m=\u001b[39;49m\u001b[39mself\u001b[39;49m\u001b[39m.\u001b[39;49m_resource_group_name,\n\u001b[0;32m    139\u001b[0m         workspace_name\u001b[39m=\u001b[39;49m\u001b[39mself\u001b[39;49m\u001b[39m.\u001b[39;49m_workspace_name,\n\u001b[0;32m    140\u001b[0m         name\u001b[39m=\u001b[39;49mname,\n\u001b[0;32m    141\u001b[0m         \u001b[39mhash\u001b[39;49m\u001b[39m=\u001b[39;49masset_hash,\n\u001b[0;32m    142\u001b[0m         hash_version\u001b[39m=\u001b[39;49m\u001b[39mstr\u001b[39;49m(get_content_hash_version()),\n\u001b[0;32m    143\u001b[0m     )\n\u001b[0;32m    144\u001b[0m )\n\u001b[0;32m    146\u001b[0m \u001b[39mif\u001b[39;00m \u001b[39mlen\u001b[39m(existing_assets) \u001b[39m>\u001b[39m \u001b[39m0\u001b[39m:\n",
            "File \u001b[1;32mc:\\Users\\d92343\\AppData\\Local\\mambaforge\\envs\\nano_gpt\\lib\\site-packages\\azure\\core\\paging.py:123\u001b[0m, in \u001b[0;36mItemPaged.__next__\u001b[1;34m(self)\u001b[0m\n\u001b[0;32m    122\u001b[0m     \u001b[39mself\u001b[39m\u001b[39m.\u001b[39m_page_iterator \u001b[39m=\u001b[39m itertools\u001b[39m.\u001b[39mchain\u001b[39m.\u001b[39mfrom_iterable(\u001b[39mself\u001b[39m\u001b[39m.\u001b[39mby_page())\n\u001b[1;32m--> 123\u001b[0m \u001b[39mreturn\u001b[39;00m \u001b[39mnext\u001b[39;49m(\u001b[39mself\u001b[39;49m\u001b[39m.\u001b[39;49m_page_iterator)\n",
            "File \u001b[1;32mc:\\Users\\d92343\\AppData\\Local\\mambaforge\\envs\\nano_gpt\\lib\\site-packages\\azure\\core\\paging.py:75\u001b[0m, in \u001b[0;36mPageIterator.__next__\u001b[1;34m(self)\u001b[0m\n\u001b[0;32m     74\u001b[0m \u001b[39mtry\u001b[39;00m:\n\u001b[1;32m---> 75\u001b[0m     \u001b[39mself\u001b[39m\u001b[39m.\u001b[39m_response \u001b[39m=\u001b[39m \u001b[39mself\u001b[39;49m\u001b[39m.\u001b[39;49m_get_next(\u001b[39mself\u001b[39;49m\u001b[39m.\u001b[39;49mcontinuation_token)\n\u001b[0;32m     76\u001b[0m \u001b[39mexcept\u001b[39;00m AzureError \u001b[39mas\u001b[39;00m error:\n",
            "File \u001b[1;32mc:\\Users\\d92343\\AppData\\Local\\mambaforge\\envs\\nano_gpt\\lib\\site-packages\\azure\\ai\\ml\\_restclient\\v2023_04_01\\operations\\_code_versions_operations.py:376\u001b[0m, in \u001b[0;36mCodeVersionsOperations.list.<locals>.get_next\u001b[1;34m(next_link)\u001b[0m\n\u001b[0;32m    375\u001b[0m \u001b[39mdef\u001b[39;00m \u001b[39mget_next\u001b[39m(next_link\u001b[39m=\u001b[39m\u001b[39mNone\u001b[39;00m):\n\u001b[1;32m--> 376\u001b[0m     request \u001b[39m=\u001b[39m prepare_request(next_link)\n\u001b[0;32m    378\u001b[0m     pipeline_response \u001b[39m=\u001b[39m \u001b[39mself\u001b[39m\u001b[39m.\u001b[39m_client\u001b[39m.\u001b[39m_pipeline\u001b[39m.\u001b[39mrun(  \u001b[39m# pylint: disable=protected-access\u001b[39;00m\n\u001b[0;32m    379\u001b[0m         request,\n\u001b[0;32m    380\u001b[0m         stream\u001b[39m=\u001b[39m\u001b[39mFalse\u001b[39;00m,\n\u001b[0;32m    381\u001b[0m         \u001b[39m*\u001b[39m\u001b[39m*\u001b[39mkwargs\n\u001b[0;32m    382\u001b[0m     )\n",
            "File \u001b[1;32mc:\\Users\\d92343\\AppData\\Local\\mambaforge\\envs\\nano_gpt\\lib\\site-packages\\azure\\ai\\ml\\_restclient\\v2023_04_01\\operations\\_code_versions_operations.py:332\u001b[0m, in \u001b[0;36mCodeVersionsOperations.list.<locals>.prepare_request\u001b[1;34m(next_link)\u001b[0m\n\u001b[0;32m    330\u001b[0m \u001b[39mif\u001b[39;00m \u001b[39mnot\u001b[39;00m next_link:\n\u001b[1;32m--> 332\u001b[0m     request \u001b[39m=\u001b[39m build_list_request(\n\u001b[0;32m    333\u001b[0m         subscription_id\u001b[39m=\u001b[39;49m\u001b[39mself\u001b[39;49m\u001b[39m.\u001b[39;49m_config\u001b[39m.\u001b[39;49msubscription_id,\n\u001b[0;32m    334\u001b[0m         resource_group_name\u001b[39m=\u001b[39;49mresource_group_name,\n\u001b[0;32m    335\u001b[0m         workspace_name\u001b[39m=\u001b[39;49mworkspace_name,\n\u001b[0;32m    336\u001b[0m         name\u001b[39m=\u001b[39;49mname,\n\u001b[0;32m    337\u001b[0m         api_version\u001b[39m=\u001b[39;49mapi_version,\n\u001b[0;32m    338\u001b[0m         order_by\u001b[39m=\u001b[39;49morder_by,\n\u001b[0;32m    339\u001b[0m         top\u001b[39m=\u001b[39;49mtop,\n\u001b[0;32m    340\u001b[0m         skip\u001b[39m=\u001b[39;49mskip,\n\u001b[0;32m    341\u001b[0m         \u001b[39mhash\u001b[39;49m\u001b[39m=\u001b[39;49m\u001b[39mhash\u001b[39;49m,\n\u001b[0;32m    342\u001b[0m         hash_version\u001b[39m=\u001b[39;49mhash_version,\n\u001b[0;32m    343\u001b[0m         template_url\u001b[39m=\u001b[39;49m\u001b[39mself\u001b[39;49m\u001b[39m.\u001b[39;49mlist\u001b[39m.\u001b[39;49mmetadata[\u001b[39m'\u001b[39;49m\u001b[39murl\u001b[39;49m\u001b[39m'\u001b[39;49m],\n\u001b[0;32m    344\u001b[0m     )\n\u001b[0;32m    345\u001b[0m     request \u001b[39m=\u001b[39m _convert_request(request)\n",
            "File \u001b[1;32mc:\\Users\\d92343\\AppData\\Local\\mambaforge\\envs\\nano_gpt\\lib\\site-packages\\azure\\ai\\ml\\_restclient\\v2023_04_01\\operations\\_code_versions_operations.py:54\u001b[0m, in \u001b[0;36mbuild_list_request\u001b[1;34m(subscription_id, resource_group_name, workspace_name, name, **kwargs)\u001b[0m\n\u001b[0;32m     51\u001b[0m _url \u001b[39m=\u001b[39m kwargs\u001b[39m.\u001b[39mpop(\u001b[39m\"\u001b[39m\u001b[39mtemplate_url\u001b[39m\u001b[39m\"\u001b[39m, \u001b[39m\"\u001b[39m\u001b[39m/subscriptions/\u001b[39m\u001b[39m{subscriptionId}\u001b[39;00m\u001b[39m/resourceGroups/\u001b[39m\u001b[39m{resourceGroupName}\u001b[39;00m\u001b[39m/providers/Microsoft.MachineLearningServices/workspaces/\u001b[39m\u001b[39m{workspaceName}\u001b[39;00m\u001b[39m/codes/\u001b[39m\u001b[39m{name}\u001b[39;00m\u001b[39m/versions\u001b[39m\u001b[39m\"\u001b[39m)  \u001b[39m# pylint: disable=line-too-long\u001b[39;00m\n\u001b[0;32m     52\u001b[0m path_format_arguments \u001b[39m=\u001b[39m {\n\u001b[0;32m     53\u001b[0m     \u001b[39m\"\u001b[39m\u001b[39msubscriptionId\u001b[39m\u001b[39m\"\u001b[39m: _SERIALIZER\u001b[39m.\u001b[39murl(\u001b[39m\"\u001b[39m\u001b[39msubscription_id\u001b[39m\u001b[39m\"\u001b[39m, subscription_id, \u001b[39m'\u001b[39m\u001b[39mstr\u001b[39m\u001b[39m'\u001b[39m, min_length\u001b[39m=\u001b[39m\u001b[39m1\u001b[39m),\n\u001b[1;32m---> 54\u001b[0m     \u001b[39m\"\u001b[39m\u001b[39mresourceGroupName\u001b[39m\u001b[39m\"\u001b[39m: _SERIALIZER\u001b[39m.\u001b[39;49murl(\u001b[39m\"\u001b[39;49m\u001b[39mresource_group_name\u001b[39;49m\u001b[39m\"\u001b[39;49m, resource_group_name, \u001b[39m'\u001b[39;49m\u001b[39mstr\u001b[39;49m\u001b[39m'\u001b[39;49m, max_length\u001b[39m=\u001b[39;49m\u001b[39m90\u001b[39;49m, min_length\u001b[39m=\u001b[39;49m\u001b[39m1\u001b[39;49m),\n\u001b[0;32m     55\u001b[0m     \u001b[39m\"\u001b[39m\u001b[39mworkspaceName\u001b[39m\u001b[39m\"\u001b[39m: _SERIALIZER\u001b[39m.\u001b[39murl(\u001b[39m\"\u001b[39m\u001b[39mworkspace_name\u001b[39m\u001b[39m\"\u001b[39m, workspace_name, \u001b[39m'\u001b[39m\u001b[39mstr\u001b[39m\u001b[39m'\u001b[39m, pattern\u001b[39m=\u001b[39m\u001b[39mr\u001b[39m\u001b[39m'\u001b[39m\u001b[39m^[a-zA-Z0-9][a-zA-Z0-9_-]\u001b[39m\u001b[39m{\u001b[39m\u001b[39m2,32}$\u001b[39m\u001b[39m'\u001b[39m),\n\u001b[0;32m     56\u001b[0m     \u001b[39m\"\u001b[39m\u001b[39mname\u001b[39m\u001b[39m\"\u001b[39m: _SERIALIZER\u001b[39m.\u001b[39murl(\u001b[39m\"\u001b[39m\u001b[39mname\u001b[39m\u001b[39m\"\u001b[39m, name, \u001b[39m'\u001b[39m\u001b[39mstr\u001b[39m\u001b[39m'\u001b[39m),\n\u001b[0;32m     57\u001b[0m }\n\u001b[0;32m     59\u001b[0m _url \u001b[39m=\u001b[39m _format_url_section(_url, \u001b[39m*\u001b[39m\u001b[39m*\u001b[39mpath_format_arguments)\n",
            "File \u001b[1;32mc:\\Users\\d92343\\AppData\\Local\\mambaforge\\envs\\nano_gpt\\lib\\site-packages\\msrest\\serialization.py:652\u001b[0m, in \u001b[0;36mSerializer.url\u001b[1;34m(self, name, data, data_type, **kwargs)\u001b[0m\n\u001b[0;32m    651\u001b[0m \u001b[39mtry\u001b[39;00m:\n\u001b[1;32m--> 652\u001b[0m     output \u001b[39m=\u001b[39m \u001b[39mself\u001b[39m\u001b[39m.\u001b[39mserialize_data(data, data_type, \u001b[39m*\u001b[39m\u001b[39m*\u001b[39mkwargs)\n\u001b[0;32m    653\u001b[0m     \u001b[39mif\u001b[39;00m data_type \u001b[39m==\u001b[39m \u001b[39m'\u001b[39m\u001b[39mbool\u001b[39m\u001b[39m'\u001b[39m:\n",
            "File \u001b[1;32mc:\\Users\\d92343\\AppData\\Local\\mambaforge\\envs\\nano_gpt\\lib\\site-packages\\msrest\\serialization.py:760\u001b[0m, in \u001b[0;36mSerializer.serialize_data\u001b[1;34m(self, data, data_type, **kwargs)\u001b[0m\n\u001b[0;32m    759\u001b[0m \u001b[39mif\u001b[39;00m data \u001b[39mis\u001b[39;00m \u001b[39mNone\u001b[39;00m:\n\u001b[1;32m--> 760\u001b[0m     \u001b[39mraise\u001b[39;00m \u001b[39mValueError\u001b[39;00m(\u001b[39m\"\u001b[39m\u001b[39mNo value for given attribute\u001b[39m\u001b[39m\"\u001b[39m)\n\u001b[0;32m    762\u001b[0m \u001b[39mtry\u001b[39;00m:\n",
            "\u001b[1;31mValueError\u001b[0m: No value for given attribute",
            "\nThe above exception was the direct cause of the following exception:\n",
            "\u001b[1;31mAssetException\u001b[0m                            Traceback (most recent call last)",
            "\u001b[1;32mc:\\Users\\d92343\\Documents\\IT\\Projects\\Private\\nanoGPTExperiments\\Work with environments.ipynb Cell 11\u001b[0m line \u001b[0;36m1\n\u001b[0;32m      <a href='vscode-notebook-cell:/c%3A/Users/d92343/Documents/IT/Projects/Private/nanoGPTExperiments/Work%20with%20environments.ipynb#X11sZmlsZQ%3D%3D?line=3'>4</a>\u001b[0m job \u001b[39m=\u001b[39m command(\n\u001b[0;32m      <a href='vscode-notebook-cell:/c%3A/Users/d92343/Documents/IT/Projects/Private/nanoGPTExperiments/Work%20with%20environments.ipynb#X11sZmlsZQ%3D%3D?line=4'>5</a>\u001b[0m     code\u001b[39m=\u001b[39m\u001b[39m\"\u001b[39m\u001b[39m./src\u001b[39m\u001b[39m\"\u001b[39m,\n\u001b[0;32m      <a href='vscode-notebook-cell:/c%3A/Users/d92343/Documents/IT/Projects/Private/nanoGPTExperiments/Work%20with%20environments.ipynb#X11sZmlsZQ%3D%3D?line=5'>6</a>\u001b[0m     command\u001b[39m=\u001b[39m\u001b[39m\"\u001b[39m\u001b[39mpython diabetes-training.py\u001b[39m\u001b[39m\"\u001b[39m,\n\u001b[1;32m   (...)\u001b[0m\n\u001b[0;32m     <a href='vscode-notebook-cell:/c%3A/Users/d92343/Documents/IT/Projects/Private/nanoGPTExperiments/Work%20with%20environments.ipynb#X11sZmlsZQ%3D%3D?line=9'>10</a>\u001b[0m     experiment_name\u001b[39m=\u001b[39m\u001b[39m\"\u001b[39m\u001b[39mdiabetes-training\u001b[39m\u001b[39m\"\u001b[39m\n\u001b[0;32m     <a href='vscode-notebook-cell:/c%3A/Users/d92343/Documents/IT/Projects/Private/nanoGPTExperiments/Work%20with%20environments.ipynb#X11sZmlsZQ%3D%3D?line=10'>11</a>\u001b[0m )\n\u001b[0;32m     <a href='vscode-notebook-cell:/c%3A/Users/d92343/Documents/IT/Projects/Private/nanoGPTExperiments/Work%20with%20environments.ipynb#X11sZmlsZQ%3D%3D?line=12'>13</a>\u001b[0m \u001b[39m# submit job\u001b[39;00m\n\u001b[1;32m---> <a href='vscode-notebook-cell:/c%3A/Users/d92343/Documents/IT/Projects/Private/nanoGPTExperiments/Work%20with%20environments.ipynb#X11sZmlsZQ%3D%3D?line=13'>14</a>\u001b[0m returned_job \u001b[39m=\u001b[39m ml_client\u001b[39m.\u001b[39;49mcreate_or_update(job)\n\u001b[0;32m     <a href='vscode-notebook-cell:/c%3A/Users/d92343/Documents/IT/Projects/Private/nanoGPTExperiments/Work%20with%20environments.ipynb#X11sZmlsZQ%3D%3D?line=14'>15</a>\u001b[0m aml_url \u001b[39m=\u001b[39m returned_job\u001b[39m.\u001b[39mstudio_url\n\u001b[0;32m     <a href='vscode-notebook-cell:/c%3A/Users/d92343/Documents/IT/Projects/Private/nanoGPTExperiments/Work%20with%20environments.ipynb#X11sZmlsZQ%3D%3D?line=15'>16</a>\u001b[0m \u001b[39mprint\u001b[39m(\u001b[39m\"\u001b[39m\u001b[39mMonitor your job at\u001b[39m\u001b[39m\"\u001b[39m, aml_url)\n",
            "File \u001b[1;32mc:\\Users\\d92343\\AppData\\Local\\mambaforge\\envs\\nano_gpt\\lib\\site-packages\\azure\\ai\\ml\\_ml_client.py:1063\u001b[0m, in \u001b[0;36mMLClient.create_or_update\u001b[1;34m(self, entity, **kwargs)\u001b[0m\n\u001b[0;32m   1047\u001b[0m \u001b[39mdef\u001b[39;00m \u001b[39mcreate_or_update\u001b[39m(\n\u001b[0;32m   1048\u001b[0m     \u001b[39mself\u001b[39m,\n\u001b[0;32m   1049\u001b[0m     entity: T,\n\u001b[0;32m   1050\u001b[0m     \u001b[39m*\u001b[39m\u001b[39m*\u001b[39mkwargs,\n\u001b[0;32m   1051\u001b[0m ) \u001b[39m-\u001b[39m\u001b[39m>\u001b[39m T:\n\u001b[0;32m   1052\u001b[0m \u001b[39m    \u001b[39m\u001b[39m\"\"\"Creates or updates an Azure ML resource.\u001b[39;00m\n\u001b[0;32m   1053\u001b[0m \n\u001b[0;32m   1054\u001b[0m \u001b[39m    :param entity: The resource to create or update.\u001b[39;00m\n\u001b[1;32m   (...)\u001b[0m\n\u001b[0;32m   1060\u001b[0m \u001b[39m        , ~azure.ai.ml.entities.Environment, ~azure.ai.ml.entities.Component, ~azure.ai.ml.entities.Datastore]\u001b[39;00m\n\u001b[0;32m   1061\u001b[0m \u001b[39m    \"\"\"\u001b[39;00m\n\u001b[1;32m-> 1063\u001b[0m     \u001b[39mreturn\u001b[39;00m _create_or_update(entity, \u001b[39mself\u001b[39m\u001b[39m.\u001b[39m_operation_container\u001b[39m.\u001b[39mall_operations, \u001b[39m*\u001b[39m\u001b[39m*\u001b[39mkwargs)\n",
            "File \u001b[1;32mc:\\Users\\d92343\\AppData\\Local\\mambaforge\\envs\\nano_gpt\\lib\\functools.py:889\u001b[0m, in \u001b[0;36msingledispatch.<locals>.wrapper\u001b[1;34m(*args, **kw)\u001b[0m\n\u001b[0;32m    885\u001b[0m \u001b[39mif\u001b[39;00m \u001b[39mnot\u001b[39;00m args:\n\u001b[0;32m    886\u001b[0m     \u001b[39mraise\u001b[39;00m \u001b[39mTypeError\u001b[39;00m(\u001b[39mf\u001b[39m\u001b[39m'\u001b[39m\u001b[39m{\u001b[39;00mfuncname\u001b[39m}\u001b[39;00m\u001b[39m requires at least \u001b[39m\u001b[39m'\u001b[39m\n\u001b[0;32m    887\u001b[0m                     \u001b[39m'\u001b[39m\u001b[39m1 positional argument\u001b[39m\u001b[39m'\u001b[39m)\n\u001b[1;32m--> 889\u001b[0m \u001b[39mreturn\u001b[39;00m dispatch(args[\u001b[39m0\u001b[39m]\u001b[39m.\u001b[39m\u001b[39m__class__\u001b[39m)(\u001b[39m*\u001b[39margs, \u001b[39m*\u001b[39m\u001b[39m*\u001b[39mkw)\n",
            "File \u001b[1;32mc:\\Users\\d92343\\AppData\\Local\\mambaforge\\envs\\nano_gpt\\lib\\site-packages\\azure\\ai\\ml\\_ml_client.py:1122\u001b[0m, in \u001b[0;36m_\u001b[1;34m(entity, operations, **kwargs)\u001b[0m\n\u001b[0;32m   1119\u001b[0m \u001b[39m@_create_or_update\u001b[39m\u001b[39m.\u001b[39mregister(Job)\n\u001b[0;32m   1120\u001b[0m \u001b[39mdef\u001b[39;00m \u001b[39m_\u001b[39m(entity: Job, operations, \u001b[39m*\u001b[39m\u001b[39m*\u001b[39mkwargs):\n\u001b[0;32m   1121\u001b[0m     module_logger\u001b[39m.\u001b[39mdebug(\u001b[39m\"\u001b[39m\u001b[39mCreating or updating job\u001b[39m\u001b[39m\"\u001b[39m)\n\u001b[1;32m-> 1122\u001b[0m     \u001b[39mreturn\u001b[39;00m operations[AzureMLResourceType\u001b[39m.\u001b[39mJOB]\u001b[39m.\u001b[39mcreate_or_update(entity, \u001b[39m*\u001b[39m\u001b[39m*\u001b[39mkwargs)\n",
            "File \u001b[1;32mc:\\Users\\d92343\\AppData\\Local\\mambaforge\\envs\\nano_gpt\\lib\\site-packages\\azure\\core\\tracing\\decorator.py:78\u001b[0m, in \u001b[0;36mdistributed_trace.<locals>.decorator.<locals>.wrapper_use_tracer\u001b[1;34m(*args, **kwargs)\u001b[0m\n\u001b[0;32m     76\u001b[0m span_impl_type \u001b[39m=\u001b[39m settings\u001b[39m.\u001b[39mtracing_implementation()\n\u001b[0;32m     77\u001b[0m \u001b[39mif\u001b[39;00m span_impl_type \u001b[39mis\u001b[39;00m \u001b[39mNone\u001b[39;00m:\n\u001b[1;32m---> 78\u001b[0m     \u001b[39mreturn\u001b[39;00m func(\u001b[39m*\u001b[39margs, \u001b[39m*\u001b[39m\u001b[39m*\u001b[39mkwargs)\n\u001b[0;32m     80\u001b[0m \u001b[39m# Merge span is parameter is set, but only if no explicit parent are passed\u001b[39;00m\n\u001b[0;32m     81\u001b[0m \u001b[39mif\u001b[39;00m merge_span \u001b[39mand\u001b[39;00m \u001b[39mnot\u001b[39;00m passed_in_parent:\n",
            "File \u001b[1;32mc:\\Users\\d92343\\AppData\\Local\\mambaforge\\envs\\nano_gpt\\lib\\site-packages\\azure\\ai\\ml\\_telemetry\\activity.py:350\u001b[0m, in \u001b[0;36mmonitor_with_telemetry_mixin.<locals>.monitor.<locals>.wrapper\u001b[1;34m(*args, **kwargs)\u001b[0m\n\u001b[0;32m    348\u001b[0m dimensions \u001b[39m=\u001b[39m {\u001b[39m*\u001b[39m\u001b[39m*\u001b[39mparameter_dimensions, \u001b[39m*\u001b[39m\u001b[39m*\u001b[39m(custom_dimensions \u001b[39mor\u001b[39;00m {})}\n\u001b[0;32m    349\u001b[0m \u001b[39mwith\u001b[39;00m log_activity(logger, activity_name \u001b[39mor\u001b[39;00m f\u001b[39m.\u001b[39m\u001b[39m__name__\u001b[39m, activity_type, dimensions) \u001b[39mas\u001b[39;00m activityLogger:\n\u001b[1;32m--> 350\u001b[0m     return_value \u001b[39m=\u001b[39m f(\u001b[39m*\u001b[39margs, \u001b[39m*\u001b[39m\u001b[39m*\u001b[39mkwargs)\n\u001b[0;32m    351\u001b[0m     \u001b[39mif\u001b[39;00m \u001b[39mnot\u001b[39;00m parameter_dimensions:\n\u001b[0;32m    352\u001b[0m         \u001b[39m# collect from return if no dimensions from parameter\u001b[39;00m\n\u001b[0;32m    353\u001b[0m         activityLogger\u001b[39m.\u001b[39mactivity_info\u001b[39m.\u001b[39mupdate(_collect_from_return_value(return_value))\n",
            "File \u001b[1;32mc:\\Users\\d92343\\AppData\\Local\\mambaforge\\envs\\nano_gpt\\lib\\site-packages\\azure\\ai\\ml\\operations\\_job_operations.py:645\u001b[0m, in \u001b[0;36mJobOperations.create_or_update\u001b[1;34m(self, job, description, compute, tags, experiment_name, skip_validation, **kwargs)\u001b[0m\n\u001b[0;32m    642\u001b[0m         \u001b[39mself\u001b[39m\u001b[39m.\u001b[39m_validate(job, raise_on_failure\u001b[39m=\u001b[39m\u001b[39mTrue\u001b[39;00m)\n\u001b[0;32m    644\u001b[0m     \u001b[39m# Create all dependent resources\u001b[39;00m\n\u001b[1;32m--> 645\u001b[0m     \u001b[39mself\u001b[39;49m\u001b[39m.\u001b[39;49m_resolve_arm_id_or_upload_dependencies(job)\n\u001b[0;32m    646\u001b[0m \u001b[39mexcept\u001b[39;00m (ValidationException, ValidationError) \u001b[39mas\u001b[39;00m ex:  \u001b[39m# pylint: disable=broad-except\u001b[39;00m\n\u001b[0;32m    647\u001b[0m     log_and_raise_error(ex)\n",
            "File \u001b[1;32mc:\\Users\\d92343\\AppData\\Local\\mambaforge\\envs\\nano_gpt\\lib\\site-packages\\azure\\ai\\ml\\operations\\_job_operations.py:1026\u001b[0m, in \u001b[0;36mJobOperations._resolve_arm_id_or_upload_dependencies\u001b[1;34m(self, job)\u001b[0m\n\u001b[0;32m   1016\u001b[0m \u001b[39mdef\u001b[39;00m \u001b[39m_resolve_arm_id_or_upload_dependencies\u001b[39m(\u001b[39mself\u001b[39m, job: Job) \u001b[39m-\u001b[39m\u001b[39m>\u001b[39m \u001b[39mNone\u001b[39;00m:\n\u001b[0;32m   1017\u001b[0m \u001b[39m    \u001b[39m\u001b[39m\"\"\"This method converts name or name:version to ARM id. Or it\u001b[39;00m\n\u001b[0;32m   1018\u001b[0m \u001b[39m    registers/uploads nested dependencies.\u001b[39;00m\n\u001b[0;32m   1019\u001b[0m \n\u001b[1;32m   (...)\u001b[0m\n\u001b[0;32m   1023\u001b[0m \u001b[39m    :rtype: Job\u001b[39;00m\n\u001b[0;32m   1024\u001b[0m \u001b[39m    \"\"\"\u001b[39;00m\n\u001b[1;32m-> 1026\u001b[0m     \u001b[39mself\u001b[39;49m\u001b[39m.\u001b[39;49m_resolve_arm_id_or_azureml_id(job, \u001b[39mself\u001b[39;49m\u001b[39m.\u001b[39;49m_orchestrators\u001b[39m.\u001b[39;49mget_asset_arm_id)\n\u001b[0;32m   1028\u001b[0m     \u001b[39mif\u001b[39;00m \u001b[39misinstance\u001b[39m(job, PipelineJob):\n\u001b[0;32m   1029\u001b[0m         \u001b[39m# Resolve top-level inputs\u001b[39;00m\n\u001b[0;32m   1030\u001b[0m         \u001b[39mself\u001b[39m\u001b[39m.\u001b[39m_resolve_job_inputs(\u001b[39mself\u001b[39m\u001b[39m.\u001b[39m_flatten_group_inputs(job\u001b[39m.\u001b[39minputs), job\u001b[39m.\u001b[39m_base_path)\n",
            "File \u001b[1;32mc:\\Users\\d92343\\AppData\\Local\\mambaforge\\envs\\nano_gpt\\lib\\site-packages\\azure\\ai\\ml\\operations\\_job_operations.py:1271\u001b[0m, in \u001b[0;36mJobOperations._resolve_arm_id_or_azureml_id\u001b[1;34m(self, job, resolver)\u001b[0m\n\u001b[0;32m   1269\u001b[0m     job\u001b[39m.\u001b[39mcompute \u001b[39m=\u001b[39m \u001b[39mself\u001b[39m\u001b[39m.\u001b[39m_resolve_compute_id(resolver, job\u001b[39m.\u001b[39mcompute)\n\u001b[0;32m   1270\u001b[0m \u001b[39melif\u001b[39;00m \u001b[39misinstance\u001b[39m(job, Command):\n\u001b[1;32m-> 1271\u001b[0m     job \u001b[39m=\u001b[39m \u001b[39mself\u001b[39;49m\u001b[39m.\u001b[39;49m_resolve_arm_id_for_command_job(job, resolver)\n\u001b[0;32m   1272\u001b[0m \u001b[39melif\u001b[39;00m \u001b[39misinstance\u001b[39m(job, ImportJob):\n\u001b[0;32m   1273\u001b[0m     job \u001b[39m=\u001b[39m \u001b[39mself\u001b[39m\u001b[39m.\u001b[39m_resolve_arm_id_for_import_job(job, resolver)\n",
            "File \u001b[1;32mc:\\Users\\d92343\\AppData\\Local\\mambaforge\\envs\\nano_gpt\\lib\\site-packages\\azure\\ai\\ml\\operations\\_job_operations.py:1317\u001b[0m, in \u001b[0;36mJobOperations._resolve_arm_id_for_command_job\u001b[1;34m(self, job, resolver)\u001b[0m\n\u001b[0;32m   1308\u001b[0m     \u001b[39mraise\u001b[39;00m ValidationException(\n\u001b[0;32m   1309\u001b[0m         message\u001b[39m=\u001b[39mmsg\u001b[39m.\u001b[39mformat(job\u001b[39m.\u001b[39mcode),\n\u001b[0;32m   1310\u001b[0m         target\u001b[39m=\u001b[39mErrorTarget\u001b[39m.\u001b[39mJOB,\n\u001b[1;32m   (...)\u001b[0m\n\u001b[0;32m   1313\u001b[0m         error_type\u001b[39m=\u001b[39mValidationErrorType\u001b[39m.\u001b[39mINVALID_VALUE,\n\u001b[0;32m   1314\u001b[0m     )\n\u001b[0;32m   1316\u001b[0m \u001b[39mif\u001b[39;00m job\u001b[39m.\u001b[39mcode \u001b[39mis\u001b[39;00m \u001b[39mnot\u001b[39;00m \u001b[39mNone\u001b[39;00m \u001b[39mand\u001b[39;00m \u001b[39mnot\u001b[39;00m is_ARM_id_for_resource(job\u001b[39m.\u001b[39mcode, AzureMLResourceType\u001b[39m.\u001b[39mCODE):\n\u001b[1;32m-> 1317\u001b[0m     job\u001b[39m.\u001b[39mcode \u001b[39m=\u001b[39m resolver(\n\u001b[0;32m   1318\u001b[0m         Code(base_path\u001b[39m=\u001b[39;49mjob\u001b[39m.\u001b[39;49m_base_path, path\u001b[39m=\u001b[39;49mjob\u001b[39m.\u001b[39;49mcode),\n\u001b[0;32m   1319\u001b[0m         azureml_type\u001b[39m=\u001b[39;49mAzureMLResourceType\u001b[39m.\u001b[39;49mCODE,\n\u001b[0;32m   1320\u001b[0m     )\n\u001b[0;32m   1321\u001b[0m job\u001b[39m.\u001b[39menvironment \u001b[39m=\u001b[39m resolver(job\u001b[39m.\u001b[39menvironment, azureml_type\u001b[39m=\u001b[39mAzureMLResourceType\u001b[39m.\u001b[39mENVIRONMENT)\n\u001b[0;32m   1322\u001b[0m job\u001b[39m.\u001b[39mcompute \u001b[39m=\u001b[39m \u001b[39mself\u001b[39m\u001b[39m.\u001b[39m_resolve_compute_id(resolver, job\u001b[39m.\u001b[39mcompute)\n",
            "File \u001b[1;32mc:\\Users\\d92343\\AppData\\Local\\mambaforge\\envs\\nano_gpt\\lib\\site-packages\\azure\\ai\\ml\\operations\\_operation_orchestrator.py:232\u001b[0m, in \u001b[0;36mOperationOrchestrator.get_asset_arm_id\u001b[1;34m(self, asset, azureml_type, register_asset, sub_workspace_resource)\u001b[0m\n\u001b[0;32m    229\u001b[0m \u001b[39mtry\u001b[39;00m:\n\u001b[0;32m    230\u001b[0m     \u001b[39m# TODO: once the asset redesign is finished, this logic can be replaced with unified API\u001b[39;00m\n\u001b[0;32m    231\u001b[0m     \u001b[39mif\u001b[39;00m azureml_type \u001b[39m==\u001b[39m AzureMLResourceType\u001b[39m.\u001b[39mCODE \u001b[39mand\u001b[39;00m \u001b[39misinstance\u001b[39m(asset, Code):\n\u001b[1;32m--> 232\u001b[0m         result \u001b[39m=\u001b[39m \u001b[39mself\u001b[39;49m\u001b[39m.\u001b[39;49m_get_code_asset_arm_id(asset, register_asset\u001b[39m=\u001b[39;49mregister_asset)\n\u001b[0;32m    233\u001b[0m     \u001b[39melif\u001b[39;00m azureml_type \u001b[39m==\u001b[39m AzureMLResourceType\u001b[39m.\u001b[39mENVIRONMENT \u001b[39mand\u001b[39;00m \u001b[39misinstance\u001b[39m(asset, Environment):\n\u001b[0;32m    234\u001b[0m         result \u001b[39m=\u001b[39m \u001b[39mself\u001b[39m\u001b[39m.\u001b[39m_get_environment_arm_id(asset, register_asset\u001b[39m=\u001b[39mregister_asset)\n",
            "File \u001b[1;32mc:\\Users\\d92343\\AppData\\Local\\mambaforge\\envs\\nano_gpt\\lib\\site-packages\\azure\\ai\\ml\\operations\\_operation_orchestrator.py:300\u001b[0m, in \u001b[0;36mOperationOrchestrator._get_code_asset_arm_id\u001b[1;34m(self, code_asset, register_asset)\u001b[0m\n\u001b[0;32m    298\u001b[0m     \u001b[39mraise\u001b[39;00m e\n\u001b[0;32m    299\u001b[0m \u001b[39mexcept\u001b[39;00m \u001b[39mException\u001b[39;00m \u001b[39mas\u001b[39;00m e:\n\u001b[1;32m--> 300\u001b[0m     \u001b[39mraise\u001b[39;00m AssetException(\n\u001b[0;32m    301\u001b[0m         message\u001b[39m=\u001b[39m\u001b[39mf\u001b[39m\u001b[39m\"\u001b[39m\u001b[39mError with code: \u001b[39m\u001b[39m{\u001b[39;00me\u001b[39m}\u001b[39;00m\u001b[39m\"\u001b[39m,\n\u001b[0;32m    302\u001b[0m         target\u001b[39m=\u001b[39mErrorTarget\u001b[39m.\u001b[39mASSET,\n\u001b[0;32m    303\u001b[0m         no_personal_data_message\u001b[39m=\u001b[39m\u001b[39m\"\u001b[39m\u001b[39mError getting code asset\u001b[39m\u001b[39m\"\u001b[39m,\n\u001b[0;32m    304\u001b[0m         error\u001b[39m=\u001b[39me,\n\u001b[0;32m    305\u001b[0m         error_category\u001b[39m=\u001b[39mErrorCategory\u001b[39m.\u001b[39mSYSTEM_ERROR,\n\u001b[0;32m    306\u001b[0m     ) \u001b[39mfrom\u001b[39;00m \u001b[39me\u001b[39;00m\n",
            "\u001b[1;31mAssetException\u001b[0m: Error with code: No value for given attribute"
          ]
        }
      ],
      "source": [
        "from azure.ai.ml import command\n",
        "\n",
        "# configure job\n",
        "job = command(\n",
        "    code=\"./src\",\n",
        "    command=\"python diabetes-training.py\",\n",
        "    environment=\"AzureML-sklearn-0.24-ubuntu18.04-py37-cpu@latest\",\n",
        "    compute=\"aml-cluster\",\n",
        "    display_name=\"diabetes-train-curated-env\",\n",
        "    experiment_name=\"diabetes-training\"\n",
        ")\n",
        "\n",
        "# submit job\n",
        "returned_job = ml_client.create_or_update(job)\n",
        "aml_url = returned_job.studio_url\n",
        "print(\"Monitor your job at\", aml_url)"
      ]
    },
    {
      "attachments": {},
      "cell_type": "markdown",
      "metadata": {},
      "source": [
        "While the job is running, you can already run the next cells."
      ]
    },
    {
      "attachments": {},
      "cell_type": "markdown",
      "metadata": {},
      "source": [
        "## List environments\n",
        "\n",
        "Let's explore the environments within the workspace. \n",
        "\n",
        "In the previous job, you used one of the curated environments. To explore all environments that already exist in the workspace, you can list the environments: "
      ]
    },
    {
      "cell_type": "code",
      "execution_count": 21,
      "metadata": {},
      "outputs": [
        {
          "ename": "ValueError",
          "evalue": "No value for given attribute",
          "output_type": "error",
          "traceback": [
            "\u001b[1;31m---------------------------------------------------------------------------\u001b[0m",
            "\u001b[1;31mValueError\u001b[0m                                Traceback (most recent call last)",
            "\u001b[1;32mc:\\Users\\d92343\\Documents\\IT\\Projects\\Private\\nanoGPTExperiments\\Work with environments.ipynb Cell 14\u001b[0m line \u001b[0;36m2\n\u001b[0;32m      <a href='vscode-notebook-cell:/c%3A/Users/d92343/Documents/IT/Projects/Private/nanoGPTExperiments/Work%20with%20environments.ipynb#X14sZmlsZQ%3D%3D?line=0'>1</a>\u001b[0m envs \u001b[39m=\u001b[39m ml_client\u001b[39m.\u001b[39menvironments\u001b[39m.\u001b[39mlist()\n\u001b[1;32m----> <a href='vscode-notebook-cell:/c%3A/Users/d92343/Documents/IT/Projects/Private/nanoGPTExperiments/Work%20with%20environments.ipynb#X14sZmlsZQ%3D%3D?line=1'>2</a>\u001b[0m \u001b[39mfor\u001b[39;00m env \u001b[39min\u001b[39;00m envs:\n\u001b[0;32m      <a href='vscode-notebook-cell:/c%3A/Users/d92343/Documents/IT/Projects/Private/nanoGPTExperiments/Work%20with%20environments.ipynb#X14sZmlsZQ%3D%3D?line=2'>3</a>\u001b[0m     \u001b[39mprint\u001b[39m(env\u001b[39m.\u001b[39mname)\n",
            "File \u001b[1;32mc:\\Users\\d92343\\AppData\\Local\\mambaforge\\envs\\nano_gpt\\lib\\site-packages\\azure\\core\\paging.py:123\u001b[0m, in \u001b[0;36mItemPaged.__next__\u001b[1;34m(self)\u001b[0m\n\u001b[0;32m    121\u001b[0m \u001b[39mif\u001b[39;00m \u001b[39mself\u001b[39m\u001b[39m.\u001b[39m_page_iterator \u001b[39mis\u001b[39;00m \u001b[39mNone\u001b[39;00m:\n\u001b[0;32m    122\u001b[0m     \u001b[39mself\u001b[39m\u001b[39m.\u001b[39m_page_iterator \u001b[39m=\u001b[39m itertools\u001b[39m.\u001b[39mchain\u001b[39m.\u001b[39mfrom_iterable(\u001b[39mself\u001b[39m\u001b[39m.\u001b[39mby_page())\n\u001b[1;32m--> 123\u001b[0m \u001b[39mreturn\u001b[39;00m \u001b[39mnext\u001b[39;49m(\u001b[39mself\u001b[39;49m\u001b[39m.\u001b[39;49m_page_iterator)\n",
            "File \u001b[1;32mc:\\Users\\d92343\\AppData\\Local\\mambaforge\\envs\\nano_gpt\\lib\\site-packages\\azure\\core\\paging.py:75\u001b[0m, in \u001b[0;36mPageIterator.__next__\u001b[1;34m(self)\u001b[0m\n\u001b[0;32m     73\u001b[0m     \u001b[39mraise\u001b[39;00m \u001b[39mStopIteration\u001b[39;00m(\u001b[39m\"\u001b[39m\u001b[39mEnd of paging\u001b[39m\u001b[39m\"\u001b[39m)\n\u001b[0;32m     74\u001b[0m \u001b[39mtry\u001b[39;00m:\n\u001b[1;32m---> 75\u001b[0m     \u001b[39mself\u001b[39m\u001b[39m.\u001b[39m_response \u001b[39m=\u001b[39m \u001b[39mself\u001b[39;49m\u001b[39m.\u001b[39;49m_get_next(\u001b[39mself\u001b[39;49m\u001b[39m.\u001b[39;49mcontinuation_token)\n\u001b[0;32m     76\u001b[0m \u001b[39mexcept\u001b[39;00m AzureError \u001b[39mas\u001b[39;00m error:\n\u001b[0;32m     77\u001b[0m     \u001b[39mif\u001b[39;00m \u001b[39mnot\u001b[39;00m error\u001b[39m.\u001b[39mcontinuation_token:\n",
            "File \u001b[1;32mc:\\Users\\d92343\\AppData\\Local\\mambaforge\\envs\\nano_gpt\\lib\\site-packages\\azure\\ai\\ml\\_restclient\\v2023_04_01_preview\\operations\\_environment_containers_operations.py:294\u001b[0m, in \u001b[0;36mEnvironmentContainersOperations.list.<locals>.get_next\u001b[1;34m(next_link)\u001b[0m\n\u001b[0;32m    293\u001b[0m \u001b[39mdef\u001b[39;00m \u001b[39mget_next\u001b[39m(next_link\u001b[39m=\u001b[39m\u001b[39mNone\u001b[39;00m):\n\u001b[1;32m--> 294\u001b[0m     request \u001b[39m=\u001b[39m prepare_request(next_link)\n\u001b[0;32m    296\u001b[0m     pipeline_response \u001b[39m=\u001b[39m \u001b[39mself\u001b[39m\u001b[39m.\u001b[39m_client\u001b[39m.\u001b[39m_pipeline\u001b[39m.\u001b[39mrun(  \u001b[39m# pylint: disable=protected-access\u001b[39;00m\n\u001b[0;32m    297\u001b[0m         request,\n\u001b[0;32m    298\u001b[0m         stream\u001b[39m=\u001b[39m\u001b[39mFalse\u001b[39;00m,\n\u001b[0;32m    299\u001b[0m         \u001b[39m*\u001b[39m\u001b[39m*\u001b[39mkwargs\n\u001b[0;32m    300\u001b[0m     )\n\u001b[0;32m    301\u001b[0m     response \u001b[39m=\u001b[39m pipeline_response\u001b[39m.\u001b[39mhttp_response\n",
            "File \u001b[1;32mc:\\Users\\d92343\\AppData\\Local\\mambaforge\\envs\\nano_gpt\\lib\\site-packages\\azure\\ai\\ml\\_restclient\\v2023_04_01_preview\\operations\\_environment_containers_operations.py:258\u001b[0m, in \u001b[0;36mEnvironmentContainersOperations.list.<locals>.prepare_request\u001b[1;34m(next_link)\u001b[0m\n\u001b[0;32m    255\u001b[0m \u001b[39mdef\u001b[39;00m \u001b[39mprepare_request\u001b[39m(next_link\u001b[39m=\u001b[39m\u001b[39mNone\u001b[39;00m):\n\u001b[0;32m    256\u001b[0m     \u001b[39mif\u001b[39;00m \u001b[39mnot\u001b[39;00m next_link:\n\u001b[1;32m--> 258\u001b[0m         request \u001b[39m=\u001b[39m build_list_request(\n\u001b[0;32m    259\u001b[0m             subscription_id\u001b[39m=\u001b[39;49m\u001b[39mself\u001b[39;49m\u001b[39m.\u001b[39;49m_config\u001b[39m.\u001b[39;49msubscription_id,\n\u001b[0;32m    260\u001b[0m             resource_group_name\u001b[39m=\u001b[39;49mresource_group_name,\n\u001b[0;32m    261\u001b[0m             workspace_name\u001b[39m=\u001b[39;49mworkspace_name,\n\u001b[0;32m    262\u001b[0m             api_version\u001b[39m=\u001b[39;49mapi_version,\n\u001b[0;32m    263\u001b[0m             skip\u001b[39m=\u001b[39;49mskip,\n\u001b[0;32m    264\u001b[0m             list_view_type\u001b[39m=\u001b[39;49mlist_view_type,\n\u001b[0;32m    265\u001b[0m             template_url\u001b[39m=\u001b[39;49m\u001b[39mself\u001b[39;49m\u001b[39m.\u001b[39;49mlist\u001b[39m.\u001b[39;49mmetadata[\u001b[39m'\u001b[39;49m\u001b[39murl\u001b[39;49m\u001b[39m'\u001b[39;49m],\n\u001b[0;32m    266\u001b[0m         )\n\u001b[0;32m    267\u001b[0m         request \u001b[39m=\u001b[39m _convert_request(request)\n\u001b[0;32m    268\u001b[0m         request\u001b[39m.\u001b[39murl \u001b[39m=\u001b[39m \u001b[39mself\u001b[39m\u001b[39m.\u001b[39m_client\u001b[39m.\u001b[39mformat_url(request\u001b[39m.\u001b[39murl)\n",
            "File \u001b[1;32mc:\\Users\\d92343\\AppData\\Local\\mambaforge\\envs\\nano_gpt\\lib\\site-packages\\azure\\ai\\ml\\_restclient\\v2023_04_01_preview\\operations\\_environment_containers_operations.py:50\u001b[0m, in \u001b[0;36mbuild_list_request\u001b[1;34m(subscription_id, resource_group_name, workspace_name, **kwargs)\u001b[0m\n\u001b[0;32m     46\u001b[0m \u001b[39m# Construct URL\u001b[39;00m\n\u001b[0;32m     47\u001b[0m _url \u001b[39m=\u001b[39m kwargs\u001b[39m.\u001b[39mpop(\u001b[39m\"\u001b[39m\u001b[39mtemplate_url\u001b[39m\u001b[39m\"\u001b[39m, \u001b[39m\"\u001b[39m\u001b[39m/subscriptions/\u001b[39m\u001b[39m{subscriptionId}\u001b[39;00m\u001b[39m/resourceGroups/\u001b[39m\u001b[39m{resourceGroupName}\u001b[39;00m\u001b[39m/providers/Microsoft.MachineLearningServices/workspaces/\u001b[39m\u001b[39m{workspaceName}\u001b[39;00m\u001b[39m/environments\u001b[39m\u001b[39m\"\u001b[39m)  \u001b[39m# pylint: disable=line-too-long\u001b[39;00m\n\u001b[0;32m     48\u001b[0m path_format_arguments \u001b[39m=\u001b[39m {\n\u001b[0;32m     49\u001b[0m     \u001b[39m\"\u001b[39m\u001b[39msubscriptionId\u001b[39m\u001b[39m\"\u001b[39m: _SERIALIZER\u001b[39m.\u001b[39murl(\u001b[39m\"\u001b[39m\u001b[39msubscription_id\u001b[39m\u001b[39m\"\u001b[39m, subscription_id, \u001b[39m'\u001b[39m\u001b[39mstr\u001b[39m\u001b[39m'\u001b[39m, min_length\u001b[39m=\u001b[39m\u001b[39m1\u001b[39m),\n\u001b[1;32m---> 50\u001b[0m     \u001b[39m\"\u001b[39m\u001b[39mresourceGroupName\u001b[39m\u001b[39m\"\u001b[39m: _SERIALIZER\u001b[39m.\u001b[39;49murl(\u001b[39m\"\u001b[39;49m\u001b[39mresource_group_name\u001b[39;49m\u001b[39m\"\u001b[39;49m, resource_group_name, \u001b[39m'\u001b[39;49m\u001b[39mstr\u001b[39;49m\u001b[39m'\u001b[39;49m, max_length\u001b[39m=\u001b[39;49m\u001b[39m90\u001b[39;49m, min_length\u001b[39m=\u001b[39;49m\u001b[39m1\u001b[39;49m),\n\u001b[0;32m     51\u001b[0m     \u001b[39m\"\u001b[39m\u001b[39mworkspaceName\u001b[39m\u001b[39m\"\u001b[39m: _SERIALIZER\u001b[39m.\u001b[39murl(\u001b[39m\"\u001b[39m\u001b[39mworkspace_name\u001b[39m\u001b[39m\"\u001b[39m, workspace_name, \u001b[39m'\u001b[39m\u001b[39mstr\u001b[39m\u001b[39m'\u001b[39m, pattern\u001b[39m=\u001b[39m\u001b[39mr\u001b[39m\u001b[39m'\u001b[39m\u001b[39m^[a-zA-Z0-9][a-zA-Z0-9_-]\u001b[39m\u001b[39m{\u001b[39m\u001b[39m2,32}$\u001b[39m\u001b[39m'\u001b[39m),\n\u001b[0;32m     52\u001b[0m }\n\u001b[0;32m     54\u001b[0m _url \u001b[39m=\u001b[39m _format_url_section(_url, \u001b[39m*\u001b[39m\u001b[39m*\u001b[39mpath_format_arguments)\n\u001b[0;32m     56\u001b[0m \u001b[39m# Construct parameters\u001b[39;00m\n",
            "File \u001b[1;32mc:\\Users\\d92343\\AppData\\Local\\mambaforge\\envs\\nano_gpt\\lib\\site-packages\\msrest\\serialization.py:652\u001b[0m, in \u001b[0;36mSerializer.url\u001b[1;34m(self, name, data, data_type, **kwargs)\u001b[0m\n\u001b[0;32m    650\u001b[0m data \u001b[39m=\u001b[39m \u001b[39mself\u001b[39m\u001b[39m.\u001b[39m_http_component_validation(data, data_type, name, \u001b[39m*\u001b[39m\u001b[39m*\u001b[39mkwargs)\n\u001b[0;32m    651\u001b[0m \u001b[39mtry\u001b[39;00m:\n\u001b[1;32m--> 652\u001b[0m     output \u001b[39m=\u001b[39m \u001b[39mself\u001b[39m\u001b[39m.\u001b[39mserialize_data(data, data_type, \u001b[39m*\u001b[39m\u001b[39m*\u001b[39mkwargs)\n\u001b[0;32m    653\u001b[0m     \u001b[39mif\u001b[39;00m data_type \u001b[39m==\u001b[39m \u001b[39m'\u001b[39m\u001b[39mbool\u001b[39m\u001b[39m'\u001b[39m:\n\u001b[0;32m    654\u001b[0m         output \u001b[39m=\u001b[39m json\u001b[39m.\u001b[39mdumps(output)\n",
            "File \u001b[1;32mc:\\Users\\d92343\\AppData\\Local\\mambaforge\\envs\\nano_gpt\\lib\\site-packages\\msrest\\serialization.py:760\u001b[0m, in \u001b[0;36mSerializer.serialize_data\u001b[1;34m(self, data, data_type, **kwargs)\u001b[0m\n\u001b[0;32m    749\u001b[0m \u001b[39m\u001b[39m\u001b[39m\"\"\"Serialize generic data according to supplied data type.\u001b[39;00m\n\u001b[0;32m    750\u001b[0m \n\u001b[0;32m    751\u001b[0m \u001b[39m:param data: The data to be serialized.\u001b[39;00m\n\u001b[1;32m   (...)\u001b[0m\n\u001b[0;32m    757\u001b[0m \u001b[39m:raises: SerializationError if serialization fails.\u001b[39;00m\n\u001b[0;32m    758\u001b[0m \u001b[39m\"\"\"\u001b[39;00m\n\u001b[0;32m    759\u001b[0m \u001b[39mif\u001b[39;00m data \u001b[39mis\u001b[39;00m \u001b[39mNone\u001b[39;00m:\n\u001b[1;32m--> 760\u001b[0m     \u001b[39mraise\u001b[39;00m \u001b[39mValueError\u001b[39;00m(\u001b[39m\"\u001b[39m\u001b[39mNo value for given attribute\u001b[39m\u001b[39m\"\u001b[39m)\n\u001b[0;32m    762\u001b[0m \u001b[39mtry\u001b[39;00m:\n\u001b[0;32m    763\u001b[0m     \u001b[39mif\u001b[39;00m data_type \u001b[39min\u001b[39;00m \u001b[39mself\u001b[39m\u001b[39m.\u001b[39mbasic_types\u001b[39m.\u001b[39mvalues():\n",
            "\u001b[1;31mValueError\u001b[0m: No value for given attribute"
          ]
        }
      ],
      "source": [
        "envs = ml_client.environments.list()\n",
        "for env in envs:\n",
        "    print(env.name)"
      ]
    },
    {
      "attachments": {},
      "cell_type": "markdown",
      "metadata": {},
      "source": [
        "Note that all curated environments have names that begin **AzureML-** (you can't use this prefix for your own environments).\n",
        "\n",
        "To review a specific environment, you can retrieve an environment by its name and version. For example, you can retrieve the *description* and *tags* of the curated environment you used for the previous job:"
      ]
    },
    {
      "cell_type": "code",
      "execution_count": 22,
      "metadata": {},
      "outputs": [
        {
          "ename": "ValueError",
          "evalue": "No value for given attribute",
          "output_type": "error",
          "traceback": [
            "\u001b[1;31m---------------------------------------------------------------------------\u001b[0m",
            "\u001b[1;31mValueError\u001b[0m                                Traceback (most recent call last)",
            "\u001b[1;32mc:\\Users\\d92343\\Documents\\IT\\Projects\\Private\\nanoGPTExperiments\\Work with environments.ipynb Cell 16\u001b[0m line \u001b[0;36m1\n\u001b[1;32m----> <a href='vscode-notebook-cell:/c%3A/Users/d92343/Documents/IT/Projects/Private/nanoGPTExperiments/Work%20with%20environments.ipynb#X16sZmlsZQ%3D%3D?line=0'>1</a>\u001b[0m env \u001b[39m=\u001b[39m ml_client\u001b[39m.\u001b[39;49menvironments\u001b[39m.\u001b[39;49mget(\u001b[39m\"\u001b[39;49m\u001b[39mAzureML-sklearn-0.24-ubuntu18.04-py37-cpu\u001b[39;49m\u001b[39m\"\u001b[39;49m, version\u001b[39m=\u001b[39;49m\u001b[39m44\u001b[39;49m)\n\u001b[0;32m      <a href='vscode-notebook-cell:/c%3A/Users/d92343/Documents/IT/Projects/Private/nanoGPTExperiments/Work%20with%20environments.ipynb#X16sZmlsZQ%3D%3D?line=1'>2</a>\u001b[0m \u001b[39mprint\u001b[39m(env\u001b[39m.\u001b[39m description, env\u001b[39m.\u001b[39mtags)\n",
            "File \u001b[1;32mc:\\Users\\d92343\\AppData\\Local\\mambaforge\\envs\\nano_gpt\\lib\\site-packages\\azure\\ai\\ml\\_telemetry\\activity.py:275\u001b[0m, in \u001b[0;36mmonitor_with_activity.<locals>.monitor.<locals>.wrapper\u001b[1;34m(*args, **kwargs)\u001b[0m\n\u001b[0;32m    272\u001b[0m \u001b[39m@functools\u001b[39m\u001b[39m.\u001b[39mwraps(f)\n\u001b[0;32m    273\u001b[0m \u001b[39mdef\u001b[39;00m \u001b[39mwrapper\u001b[39m(\u001b[39m*\u001b[39margs, \u001b[39m*\u001b[39m\u001b[39m*\u001b[39mkwargs):\n\u001b[0;32m    274\u001b[0m     \u001b[39mwith\u001b[39;00m log_activity(logger, activity_name \u001b[39mor\u001b[39;00m f\u001b[39m.\u001b[39m\u001b[39m__name__\u001b[39m, activity_type, custom_dimensions):\n\u001b[1;32m--> 275\u001b[0m         \u001b[39mreturn\u001b[39;00m f(\u001b[39m*\u001b[39margs, \u001b[39m*\u001b[39m\u001b[39m*\u001b[39mkwargs)\n",
            "File \u001b[1;32mc:\\Users\\d92343\\AppData\\Local\\mambaforge\\envs\\nano_gpt\\lib\\site-packages\\azure\\ai\\ml\\operations\\_environment_operations.py:289\u001b[0m, in \u001b[0;36mEnvironmentOperations.get\u001b[1;34m(self, name, version, label)\u001b[0m\n\u001b[0;32m    281\u001b[0m     \u001b[39mraise\u001b[39;00m ValidationException(\n\u001b[0;32m    282\u001b[0m         message\u001b[39m=\u001b[39mmsg,\n\u001b[0;32m    283\u001b[0m         target\u001b[39m=\u001b[39mErrorTarget\u001b[39m.\u001b[39mENVIRONMENT,\n\u001b[1;32m   (...)\u001b[0m\n\u001b[0;32m    286\u001b[0m         error_type\u001b[39m=\u001b[39mValidationErrorType\u001b[39m.\u001b[39mMISSING_FIELD,\n\u001b[0;32m    287\u001b[0m     )\n\u001b[0;32m    288\u001b[0m name \u001b[39m=\u001b[39m _preprocess_environment_name(name)\n\u001b[1;32m--> 289\u001b[0m env_version_resource \u001b[39m=\u001b[39m \u001b[39mself\u001b[39;49m\u001b[39m.\u001b[39;49m_get(name, version)\n\u001b[0;32m    291\u001b[0m \u001b[39mreturn\u001b[39;00m Environment\u001b[39m.\u001b[39m_from_rest_object(env_version_resource)\n",
            "File \u001b[1;32mc:\\Users\\d92343\\AppData\\Local\\mambaforge\\envs\\nano_gpt\\lib\\site-packages\\azure\\ai\\ml\\operations\\_environment_operations.py:218\u001b[0m, in \u001b[0;36mEnvironmentOperations._get\u001b[1;34m(self, name, version)\u001b[0m\n\u001b[0;32m    207\u001b[0m \u001b[39mdef\u001b[39;00m \u001b[39m_get\u001b[39m(\u001b[39mself\u001b[39m, name: \u001b[39mstr\u001b[39m, version: Optional[\u001b[39mstr\u001b[39m] \u001b[39m=\u001b[39m \u001b[39mNone\u001b[39;00m) \u001b[39m-\u001b[39m\u001b[39m>\u001b[39m EnvironmentVersion:\n\u001b[0;32m    208\u001b[0m     \u001b[39mif\u001b[39;00m version:\n\u001b[0;32m    209\u001b[0m         \u001b[39mreturn\u001b[39;00m (\n\u001b[0;32m    210\u001b[0m             \u001b[39mself\u001b[39m\u001b[39m.\u001b[39m_version_operations\u001b[39m.\u001b[39mget(\n\u001b[0;32m    211\u001b[0m                 name\u001b[39m=\u001b[39mname,\n\u001b[0;32m    212\u001b[0m                 version\u001b[39m=\u001b[39mversion,\n\u001b[0;32m    213\u001b[0m                 registry_name\u001b[39m=\u001b[39m\u001b[39mself\u001b[39m\u001b[39m.\u001b[39m_registry_name,\n\u001b[0;32m    214\u001b[0m                 \u001b[39m*\u001b[39m\u001b[39m*\u001b[39m\u001b[39mself\u001b[39m\u001b[39m.\u001b[39m_scope_kwargs,\n\u001b[0;32m    215\u001b[0m                 \u001b[39m*\u001b[39m\u001b[39m*\u001b[39m\u001b[39mself\u001b[39m\u001b[39m.\u001b[39m_kwargs,\n\u001b[0;32m    216\u001b[0m             )\n\u001b[0;32m    217\u001b[0m             \u001b[39mif\u001b[39;00m \u001b[39mself\u001b[39m\u001b[39m.\u001b[39m_registry_name\n\u001b[1;32m--> 218\u001b[0m             \u001b[39melse\u001b[39;00m \u001b[39mself\u001b[39m\u001b[39m.\u001b[39m_version_operations\u001b[39m.\u001b[39mget(\n\u001b[0;32m    219\u001b[0m                 name\u001b[39m=\u001b[39mname,\n\u001b[0;32m    220\u001b[0m                 version\u001b[39m=\u001b[39mversion,\n\u001b[0;32m    221\u001b[0m                 workspace_name\u001b[39m=\u001b[39m\u001b[39mself\u001b[39m\u001b[39m.\u001b[39m_workspace_name,\n\u001b[0;32m    222\u001b[0m                 \u001b[39m*\u001b[39m\u001b[39m*\u001b[39m\u001b[39mself\u001b[39m\u001b[39m.\u001b[39m_scope_kwargs,\n\u001b[0;32m    223\u001b[0m                 \u001b[39m*\u001b[39m\u001b[39m*\u001b[39m\u001b[39mself\u001b[39m\u001b[39m.\u001b[39m_kwargs,\n\u001b[0;32m    224\u001b[0m             )\n\u001b[0;32m    225\u001b[0m         )\n\u001b[0;32m    226\u001b[0m     \u001b[39mreturn\u001b[39;00m (\n\u001b[0;32m    227\u001b[0m         \u001b[39mself\u001b[39m\u001b[39m.\u001b[39m_containers_operations\u001b[39m.\u001b[39mget(\n\u001b[0;32m    228\u001b[0m             name\u001b[39m=\u001b[39mname,\n\u001b[1;32m   (...)\u001b[0m\n\u001b[0;32m    239\u001b[0m         )\n\u001b[0;32m    240\u001b[0m     )\n",
            "File \u001b[1;32mc:\\Users\\d92343\\AppData\\Local\\mambaforge\\envs\\nano_gpt\\lib\\site-packages\\azure\\core\\tracing\\decorator.py:78\u001b[0m, in \u001b[0;36mdistributed_trace.<locals>.decorator.<locals>.wrapper_use_tracer\u001b[1;34m(*args, **kwargs)\u001b[0m\n\u001b[0;32m     76\u001b[0m span_impl_type \u001b[39m=\u001b[39m settings\u001b[39m.\u001b[39mtracing_implementation()\n\u001b[0;32m     77\u001b[0m \u001b[39mif\u001b[39;00m span_impl_type \u001b[39mis\u001b[39;00m \u001b[39mNone\u001b[39;00m:\n\u001b[1;32m---> 78\u001b[0m     \u001b[39mreturn\u001b[39;00m func(\u001b[39m*\u001b[39margs, \u001b[39m*\u001b[39m\u001b[39m*\u001b[39mkwargs)\n\u001b[0;32m     80\u001b[0m \u001b[39m# Merge span is parameter is set, but only if no explicit parent are passed\u001b[39;00m\n\u001b[0;32m     81\u001b[0m \u001b[39mif\u001b[39;00m merge_span \u001b[39mand\u001b[39;00m \u001b[39mnot\u001b[39;00m passed_in_parent:\n",
            "File \u001b[1;32mc:\\Users\\d92343\\AppData\\Local\\mambaforge\\envs\\nano_gpt\\lib\\site-packages\\azure\\ai\\ml\\_restclient\\v2023_04_01_preview\\operations\\_environment_versions_operations.py:447\u001b[0m, in \u001b[0;36mEnvironmentVersionsOperations.get\u001b[1;34m(self, resource_group_name, workspace_name, name, version, **kwargs)\u001b[0m\n\u001b[0;32m    442\u001b[0m error_map\u001b[39m.\u001b[39mupdate(kwargs\u001b[39m.\u001b[39mpop(\u001b[39m'\u001b[39m\u001b[39merror_map\u001b[39m\u001b[39m'\u001b[39m, {}))\n\u001b[0;32m    444\u001b[0m api_version \u001b[39m=\u001b[39m kwargs\u001b[39m.\u001b[39mpop(\u001b[39m'\u001b[39m\u001b[39mapi_version\u001b[39m\u001b[39m'\u001b[39m, \u001b[39m\"\u001b[39m\u001b[39m2023-04-01-preview\u001b[39m\u001b[39m\"\u001b[39m)  \u001b[39m# type: str\u001b[39;00m\n\u001b[1;32m--> 447\u001b[0m request \u001b[39m=\u001b[39m build_get_request(\n\u001b[0;32m    448\u001b[0m     subscription_id\u001b[39m=\u001b[39;49m\u001b[39mself\u001b[39;49m\u001b[39m.\u001b[39;49m_config\u001b[39m.\u001b[39;49msubscription_id,\n\u001b[0;32m    449\u001b[0m     resource_group_name\u001b[39m=\u001b[39;49mresource_group_name,\n\u001b[0;32m    450\u001b[0m     workspace_name\u001b[39m=\u001b[39;49mworkspace_name,\n\u001b[0;32m    451\u001b[0m     name\u001b[39m=\u001b[39;49mname,\n\u001b[0;32m    452\u001b[0m     version\u001b[39m=\u001b[39;49mversion,\n\u001b[0;32m    453\u001b[0m     api_version\u001b[39m=\u001b[39;49mapi_version,\n\u001b[0;32m    454\u001b[0m     template_url\u001b[39m=\u001b[39;49m\u001b[39mself\u001b[39;49m\u001b[39m.\u001b[39;49mget\u001b[39m.\u001b[39;49mmetadata[\u001b[39m'\u001b[39;49m\u001b[39murl\u001b[39;49m\u001b[39m'\u001b[39;49m],\n\u001b[0;32m    455\u001b[0m )\n\u001b[0;32m    456\u001b[0m request \u001b[39m=\u001b[39m _convert_request(request)\n\u001b[0;32m    457\u001b[0m request\u001b[39m.\u001b[39murl \u001b[39m=\u001b[39m \u001b[39mself\u001b[39m\u001b[39m.\u001b[39m_client\u001b[39m.\u001b[39mformat_url(request\u001b[39m.\u001b[39murl)\n",
            "File \u001b[1;32mc:\\Users\\d92343\\AppData\\Local\\mambaforge\\envs\\nano_gpt\\lib\\site-packages\\azure\\ai\\ml\\_restclient\\v2023_04_01_preview\\operations\\_environment_versions_operations.py:142\u001b[0m, in \u001b[0;36mbuild_get_request\u001b[1;34m(subscription_id, resource_group_name, workspace_name, name, version, **kwargs)\u001b[0m\n\u001b[0;32m    138\u001b[0m \u001b[39m# Construct URL\u001b[39;00m\n\u001b[0;32m    139\u001b[0m _url \u001b[39m=\u001b[39m kwargs\u001b[39m.\u001b[39mpop(\u001b[39m\"\u001b[39m\u001b[39mtemplate_url\u001b[39m\u001b[39m\"\u001b[39m, \u001b[39m\"\u001b[39m\u001b[39m/subscriptions/\u001b[39m\u001b[39m{subscriptionId}\u001b[39;00m\u001b[39m/resourceGroups/\u001b[39m\u001b[39m{resourceGroupName}\u001b[39;00m\u001b[39m/providers/Microsoft.MachineLearningServices/workspaces/\u001b[39m\u001b[39m{workspaceName}\u001b[39;00m\u001b[39m/environments/\u001b[39m\u001b[39m{name}\u001b[39;00m\u001b[39m/versions/\u001b[39m\u001b[39m{version}\u001b[39;00m\u001b[39m\"\u001b[39m)  \u001b[39m# pylint: disable=line-too-long\u001b[39;00m\n\u001b[0;32m    140\u001b[0m path_format_arguments \u001b[39m=\u001b[39m {\n\u001b[0;32m    141\u001b[0m     \u001b[39m\"\u001b[39m\u001b[39msubscriptionId\u001b[39m\u001b[39m\"\u001b[39m: _SERIALIZER\u001b[39m.\u001b[39murl(\u001b[39m\"\u001b[39m\u001b[39msubscription_id\u001b[39m\u001b[39m\"\u001b[39m, subscription_id, \u001b[39m'\u001b[39m\u001b[39mstr\u001b[39m\u001b[39m'\u001b[39m, min_length\u001b[39m=\u001b[39m\u001b[39m1\u001b[39m),\n\u001b[1;32m--> 142\u001b[0m     \u001b[39m\"\u001b[39m\u001b[39mresourceGroupName\u001b[39m\u001b[39m\"\u001b[39m: _SERIALIZER\u001b[39m.\u001b[39;49murl(\u001b[39m\"\u001b[39;49m\u001b[39mresource_group_name\u001b[39;49m\u001b[39m\"\u001b[39;49m, resource_group_name, \u001b[39m'\u001b[39;49m\u001b[39mstr\u001b[39;49m\u001b[39m'\u001b[39;49m, max_length\u001b[39m=\u001b[39;49m\u001b[39m90\u001b[39;49m, min_length\u001b[39m=\u001b[39;49m\u001b[39m1\u001b[39;49m),\n\u001b[0;32m    143\u001b[0m     \u001b[39m\"\u001b[39m\u001b[39mworkspaceName\u001b[39m\u001b[39m\"\u001b[39m: _SERIALIZER\u001b[39m.\u001b[39murl(\u001b[39m\"\u001b[39m\u001b[39mworkspace_name\u001b[39m\u001b[39m\"\u001b[39m, workspace_name, \u001b[39m'\u001b[39m\u001b[39mstr\u001b[39m\u001b[39m'\u001b[39m, pattern\u001b[39m=\u001b[39m\u001b[39mr\u001b[39m\u001b[39m'\u001b[39m\u001b[39m^[a-zA-Z0-9][a-zA-Z0-9_-]\u001b[39m\u001b[39m{\u001b[39m\u001b[39m2,32}$\u001b[39m\u001b[39m'\u001b[39m),\n\u001b[0;32m    144\u001b[0m     \u001b[39m\"\u001b[39m\u001b[39mname\u001b[39m\u001b[39m\"\u001b[39m: _SERIALIZER\u001b[39m.\u001b[39murl(\u001b[39m\"\u001b[39m\u001b[39mname\u001b[39m\u001b[39m\"\u001b[39m, name, \u001b[39m'\u001b[39m\u001b[39mstr\u001b[39m\u001b[39m'\u001b[39m),\n\u001b[0;32m    145\u001b[0m     \u001b[39m\"\u001b[39m\u001b[39mversion\u001b[39m\u001b[39m\"\u001b[39m: _SERIALIZER\u001b[39m.\u001b[39murl(\u001b[39m\"\u001b[39m\u001b[39mversion\u001b[39m\u001b[39m\"\u001b[39m, version, \u001b[39m'\u001b[39m\u001b[39mstr\u001b[39m\u001b[39m'\u001b[39m),\n\u001b[0;32m    146\u001b[0m }\n\u001b[0;32m    148\u001b[0m _url \u001b[39m=\u001b[39m _format_url_section(_url, \u001b[39m*\u001b[39m\u001b[39m*\u001b[39mpath_format_arguments)\n\u001b[0;32m    150\u001b[0m \u001b[39m# Construct parameters\u001b[39;00m\n",
            "File \u001b[1;32mc:\\Users\\d92343\\AppData\\Local\\mambaforge\\envs\\nano_gpt\\lib\\site-packages\\msrest\\serialization.py:652\u001b[0m, in \u001b[0;36mSerializer.url\u001b[1;34m(self, name, data, data_type, **kwargs)\u001b[0m\n\u001b[0;32m    650\u001b[0m data \u001b[39m=\u001b[39m \u001b[39mself\u001b[39m\u001b[39m.\u001b[39m_http_component_validation(data, data_type, name, \u001b[39m*\u001b[39m\u001b[39m*\u001b[39mkwargs)\n\u001b[0;32m    651\u001b[0m \u001b[39mtry\u001b[39;00m:\n\u001b[1;32m--> 652\u001b[0m     output \u001b[39m=\u001b[39m \u001b[39mself\u001b[39m\u001b[39m.\u001b[39mserialize_data(data, data_type, \u001b[39m*\u001b[39m\u001b[39m*\u001b[39mkwargs)\n\u001b[0;32m    653\u001b[0m     \u001b[39mif\u001b[39;00m data_type \u001b[39m==\u001b[39m \u001b[39m'\u001b[39m\u001b[39mbool\u001b[39m\u001b[39m'\u001b[39m:\n\u001b[0;32m    654\u001b[0m         output \u001b[39m=\u001b[39m json\u001b[39m.\u001b[39mdumps(output)\n",
            "File \u001b[1;32mc:\\Users\\d92343\\AppData\\Local\\mambaforge\\envs\\nano_gpt\\lib\\site-packages\\msrest\\serialization.py:760\u001b[0m, in \u001b[0;36mSerializer.serialize_data\u001b[1;34m(self, data, data_type, **kwargs)\u001b[0m\n\u001b[0;32m    749\u001b[0m \u001b[39m\u001b[39m\u001b[39m\"\"\"Serialize generic data according to supplied data type.\u001b[39;00m\n\u001b[0;32m    750\u001b[0m \n\u001b[0;32m    751\u001b[0m \u001b[39m:param data: The data to be serialized.\u001b[39;00m\n\u001b[1;32m   (...)\u001b[0m\n\u001b[0;32m    757\u001b[0m \u001b[39m:raises: SerializationError if serialization fails.\u001b[39;00m\n\u001b[0;32m    758\u001b[0m \u001b[39m\"\"\"\u001b[39;00m\n\u001b[0;32m    759\u001b[0m \u001b[39mif\u001b[39;00m data \u001b[39mis\u001b[39;00m \u001b[39mNone\u001b[39;00m:\n\u001b[1;32m--> 760\u001b[0m     \u001b[39mraise\u001b[39;00m \u001b[39mValueError\u001b[39;00m(\u001b[39m\"\u001b[39m\u001b[39mNo value for given attribute\u001b[39m\u001b[39m\"\u001b[39m)\n\u001b[0;32m    762\u001b[0m \u001b[39mtry\u001b[39;00m:\n\u001b[0;32m    763\u001b[0m     \u001b[39mif\u001b[39;00m data_type \u001b[39min\u001b[39;00m \u001b[39mself\u001b[39m\u001b[39m.\u001b[39mbasic_types\u001b[39m.\u001b[39mvalues():\n",
            "\u001b[1;31mValueError\u001b[0m: No value for given attribute"
          ]
        }
      ],
      "source": [
        "env = ml_client.environments.get(\"AzureML-sklearn-0.24-ubuntu18.04-py37-cpu\", version=44)\n",
        "print(env. description, env.tags)"
      ]
    },
    {
      "attachments": {},
      "cell_type": "markdown",
      "metadata": {},
      "source": [
        "## Create and use a custom environment\n",
        "\n",
        "If a curated environment doesn't include all the Python packages you need to run your script, you can create your own custom environment. By listing all necessary packages in an environment, you can easily re-run your scripts. All the dependencies are stored in the environment which you can then specify in the job configuration, independent of the compute you use.\n",
        "\n",
        "For example, you can create an environment simply from a Docker image. Certain frameworks like PyTorch will have a public Docker image that already includes everything you need. \n",
        "\n",
        "Let's create an environment from a Docker image:"
      ]
    },
    {
      "cell_type": "code",
      "execution_count": null,
      "metadata": {},
      "outputs": [],
      "source": [
        "from azure.ai.ml.entities import Environment\n",
        "\n",
        "env_docker_image = Environment(\n",
        "    image=\"mcr.microsoft.com/azureml/openmpi3.1.2-ubuntu18.04\",\n",
        "    name=\"docker-image-example\",\n",
        "    description=\"Environment created from a Docker image.\",\n",
        ")\n",
        "ml_client.environments.create_or_update(env_docker_image)"
      ]
    },
    {
      "attachments": {},
      "cell_type": "markdown",
      "metadata": {},
      "source": [
        "The environment is now registered in your workspace and you can reference it when you run a script as a job:"
      ]
    },
    {
      "cell_type": "code",
      "execution_count": null,
      "metadata": {},
      "outputs": [],
      "source": [
        "from azure.ai.ml import command\n",
        "\n",
        "# configure job\n",
        "job = command(\n",
        "    code=\"./src\",\n",
        "    command=\"python diabetes-training.py\",\n",
        "    environment=\"docker-image-example:1\",\n",
        "    compute=\"aml-cluster\",\n",
        "    display_name=\"diabetes-train-custom-env\",\n",
        "    experiment_name=\"diabetes-training\"\n",
        ")\n",
        "\n",
        "# submit job\n",
        "returned_job = ml_client.create_or_update(job)\n",
        "aml_url = returned_job.studio_url\n",
        "print(\"Monitor your job at\", aml_url)"
      ]
    },
    {
      "attachments": {},
      "cell_type": "markdown",
      "metadata": {},
      "source": [
        "<p style=\"color:red;font-size:120%;background-color:yellow;font-weight:bold\"> The job will quickly fail! Review the error message. </p>\n",
        "\n",
        "The error message will tell you that there is no module named pandas. There are two possible causes for such an error:\n",
        "\n",
        "- The script uses pandas but didn't import the library (`import pandas as pd`). \n",
        "- The script does import the library at the top of the script but the compute didn't have the library installed (`pip install pandas`).\n",
        "\n",
        "After reviewing the `diabetes-training.py` script you can observe the script is correct, which means the library wasn't installed. In other words, the environment didn't include the necessary packages.\n",
        "\n",
        "Let's create a new environment, using the base Docker image used in the previous job. Now, you'll add a conda specification to ensure the necessary packages will be installed. First, run the following cell to create the conda specification file:"
      ]
    },
    {
      "cell_type": "code",
      "execution_count": null,
      "metadata": {},
      "outputs": [],
      "source": [
        "%%writefile src/conda-env.yml\n",
        "name: basic-env-cpu\n",
        "channels:\n",
        "  - conda-forge\n",
        "dependencies:\n",
        "  - python=3.7\n",
        "  - scikit-learn\n",
        "  - pandas\n",
        "  - numpy\n",
        "  - matplotlib"
      ]
    },
    {
      "attachments": {},
      "cell_type": "markdown",
      "metadata": {},
      "source": [
        "Note that all necessary dependencies are included in the conda specification file for the script to run successfully.\n",
        "\n",
        "Create a new environment using the base Docker image **and** the conda specification file to add the necessary dependencies. Azure Machine Learning will build the conda environment on top of the Docker image you provided. "
      ]
    },
    {
      "cell_type": "code",
      "execution_count": null,
      "metadata": {},
      "outputs": [],
      "source": [
        "from azure.ai.ml.entities import Environment\n",
        "\n",
        "env_docker_conda = Environment(\n",
        "    image=\"mcr.microsoft.com/azureml/openmpi3.1.2-ubuntu18.04\",\n",
        "    conda_file=\"./src/conda-env.yml\",\n",
        "    name=\"docker-image-plus-conda-example\",\n",
        "    description=\"Environment created from a Docker image plus Conda environment.\",\n",
        ")\n",
        "ml_client.environments.create_or_update(env_docker_conda)"
      ]
    },
    {
      "attachments": {},
      "cell_type": "markdown",
      "metadata": {},
      "source": [
        "Now, you can submit a job with the new environment to run the script:"
      ]
    },
    {
      "cell_type": "code",
      "execution_count": null,
      "metadata": {},
      "outputs": [],
      "source": [
        "from azure.ai.ml import command\n",
        "\n",
        "# configure job\n",
        "job = command(\n",
        "    code=\"./src\",\n",
        "    command=\"python diabetes-training.py\",\n",
        "    environment=\"docker-image-plus-conda-example:1\",\n",
        "    compute=\"aml-cluster\",\n",
        "    display_name=\"diabetes-train-custom-env\",\n",
        "    experiment_name=\"diabetes-training\"\n",
        ")\n",
        "\n",
        "# submit job\n",
        "returned_job = ml_client.create_or_update(job)\n",
        "aml_url = returned_job.studio_url\n",
        "print(\"Monitor your job at\", aml_url)"
      ]
    },
    {
      "attachments": {},
      "cell_type": "markdown",
      "metadata": {},
      "source": [
        "Submitting the job with the new custom environment triggers the build of the environment. The first time you use a newly created environment, it can take 10-15 minutes to build the environment, which also means your job will take longer to complete. \n",
        "\n",
        "You can also choose to manually trigger the build of the environment before you submit a job. The environment only needs to be built the first time you use it. \n",
        "\n",
        "When the job triggers the build of a new environment, you can review the logs of the build in the **Outputs + logs** tab of the job. Open **azureml-logs/20_image_build_log.txt** to inspect the logs of the environment build. \n",
        "\n",
        "![Screenshot build logs](./images/screenshot-logs.png)"
      ]
    }
  ],
  "metadata": {
    "kernel_info": {
      "name": "python38-azureml"
    },
    "kernelspec": {
      "display_name": "Python 3",
      "language": "python",
      "name": "python3"
    },
    "language_info": {
      "codemirror_mode": {
        "name": "ipython",
        "version": 3
      },
      "file_extension": ".py",
      "mimetype": "text/x-python",
      "name": "python",
      "nbconvert_exporter": "python",
      "pygments_lexer": "ipython3",
      "version": "3.10.13"
    },
    "microsoft": {
      "host": {
        "AzureML": {
          "notebookHasBeenCompleted": true
        }
      }
    },
    "nteract": {
      "version": "nteract-front-end@1.0.0"
    }
  },
  "nbformat": 4,
  "nbformat_minor": 2
}
